{
 "cells": [
  {
   "cell_type": "code",
   "execution_count": 1,
   "id": "a2455858-e966-4d40-a015-669439a37f3e",
   "metadata": {},
   "outputs": [],
   "source": []
  },
  {
   "cell_type": "code",
   "execution_count": null,
   "id": "7a9df9ac-015d-4b61-9a30-d0fbe512218b",
   "metadata": {
    "tags": []
   },
   "outputs": [],
   "source": []
  },
  {
   "cell_type": "code",
   "execution_count": null,
   "id": "a85adbf5-6411-4de3-b855-084440816d9a",
   "metadata": {},
   "outputs": [],
   "source": [
    "if __name__ == '__main__':\n",
    "    first_multiple_input = input().rstrip().split()\n",
    "\n",
    "    n = int(first_multiple_input[0])\n",
    "\n",
    "    s = first_multiple_input[1]"
   ]
  },
  {
   "cell_type": "code",
   "execution_count": 10,
   "id": "a284eb1b-53c9-4480-bf08-0d7e954049a7",
   "metadata": {},
   "outputs": [],
   "source": [
    "first_multiple_input = data.rstrip().split()"
   ]
  },
  {
   "cell_type": "code",
   "execution_count": 32,
   "id": "deb10994-2d30-4310-a269-cff98bbf9276",
   "metadata": {},
   "outputs": [],
   "source": [
    "data = 'XXXOOOO-O'"
   ]
  },
  {
   "cell_type": "code",
   "execution_count": 36,
   "id": "97814e09-6d2a-4c80-83ad-822a576759d9",
   "metadata": {},
   "outputs": [
    {
     "name": "stdout",
     "output_type": "stream",
     "text": [
      "1 0\n",
      "2 0\n",
      "3 1\n",
      "winer\n",
      "1 0\n",
      "2 0\n",
      "3 1\n",
      "winer\n",
      "1 0\n",
      "2 0\n",
      "3 0\n"
     ]
    }
   ],
   "source": [
    "x=0\n",
    "d_2=0\n",
    "y=0\n",
    "t=0\n",
    "\n",
    "for d in data:\n",
    "    x=x+1\n",
    "    print(x,y)\n",
    "    if x==1:\n",
    "        d_2=d\n",
    "    if x==2:\n",
    "        if d_2==d:\n",
    "            y=y+1\n",
    "    if x==3:\n",
    "        if d_2==d:\n",
    "            y=y+1\n",
    "    if y==2:\n",
    "        print('winer')\n",
    "        y=0\n",
    "        x=0\n",
    "        \n",
    "    if x==3:\n",
    "        x=0\n",
    "        y=0\n",
    "    \n",
    "    \n",
    "    \n",
    "        "
   ]
  },
  {
   "cell_type": "code",
   "execution_count": 86,
   "id": "cb066cba-1319-42ca-b26f-1ad77de8989b",
   "metadata": {},
   "outputs": [],
   "source": [
    "data_2 = \"X--OOOX-X\""
   ]
  },
  {
   "cell_type": "code",
   "execution_count": 91,
   "id": "3b8ca0c3-3381-46ed-89a6-59e93dc4f65d",
   "metadata": {},
   "outputs": [
    {
     "name": "stdout",
     "output_type": "stream",
     "text": [
      "7\n",
      "perdi\n"
     ]
    }
   ],
   "source": [
    "x=0\n",
    "for d in data_2:\n",
    "    x=x+1\n",
    "    if x==1:\n",
    "        d1 = str(d)\n",
    "    if x==2:\n",
    "        d2 = str(d)\n",
    "    if x==3:\n",
    "        d3 = str(d)\n",
    "    if x==4:\n",
    "        d4 = str(d)\n",
    "    if x==5:\n",
    "        d5 = str(d)\n",
    "    if x==6:\n",
    "        d6 = str(d)\n",
    "    if x==7:\n",
    "        d7 = str(d)\n",
    "    if x==8:\n",
    "        d8 = str(d)\n",
    "    if x==9:\n",
    "        d9 = str(d)\n",
    "\n",
    "        \n",
    "\n",
    "        \n",
    "if d1==d5==d9=='O':\n",
    "    print('1')\n",
    "if d3==d5==d7=='O':\n",
    "    print('2')\n",
    "if d1==d4==d7=='O':\n",
    "    print('3')\n",
    "if d2==d5==d8=='O':\n",
    "    print('4')\n",
    "\n",
    "if d3==d6==d9=='O':\n",
    "    print('5')\n",
    "if d1==d2==d3=='O':\n",
    "    print('6')\n",
    "if d4==d5==d6=='O':\n",
    "    print('7')\n",
    "if d7==d8==d9=='O':\n",
    "    print('8')\n",
    "\n",
    "    \n",
    "if d1==d5==d9=='X':\n",
    "    print('1')\n",
    "if d3==d5==d7=='X':\n",
    "    print('2')\n",
    "if d1==d4==d7=='X':\n",
    "    print('3')\n",
    "if d2==d5==d8=='X':\n",
    "    print('4')\n",
    "\n",
    "if d3==d6==d9=='X':\n",
    "    print('5')\n",
    "if d1==d2==d3=='X':\n",
    "    print('6')\n",
    "if d4==d5==d6=='X':\n",
    "    print('7')\n",
    "if d7==d8==d9=='X':\n",
    "    print('8')\n",
    "    \n",
    "else:\n",
    "    print('perdi')"
   ]
  },
  {
   "cell_type": "code",
   "execution_count": 88,
   "id": "7a9b7a20-b8a7-4c17-917a-eed75129e065",
   "metadata": {},
   "outputs": [
    {
     "data": {
      "text/plain": [
       "'O'"
      ]
     },
     "execution_count": 88,
     "metadata": {},
     "output_type": "execute_result"
    }
   ],
   "source": [
    "d4"
   ]
  },
  {
   "cell_type": "code",
   "execution_count": 89,
   "id": "d793ddf7-c463-4888-b92b-ccbcaa5fd8c9",
   "metadata": {},
   "outputs": [
    {
     "data": {
      "text/plain": [
       "'O'"
      ]
     },
     "execution_count": 89,
     "metadata": {},
     "output_type": "execute_result"
    }
   ],
   "source": [
    "d5"
   ]
  },
  {
   "cell_type": "code",
   "execution_count": 90,
   "id": "752c9c63-e8f2-4a58-8aa5-097edd2bf8c9",
   "metadata": {},
   "outputs": [
    {
     "data": {
      "text/plain": [
       "'X'"
      ]
     },
     "execution_count": 90,
     "metadata": {},
     "output_type": "execute_result"
    }
   ],
   "source": [
    "d7"
   ]
  },
  {
   "cell_type": "code",
   "execution_count": null,
   "id": "ab8f9100-6480-4156-9ceb-742103e9a217",
   "metadata": {},
   "outputs": [],
   "source": []
  }
 ],
 "metadata": {
  "kernelspec": {
   "display_name": "Python 3 (ipykernel)",
   "language": "python",
   "name": "python3"
  },
  "language_info": {
   "codemirror_mode": {
    "name": "ipython",
    "version": 3
   },
   "file_extension": ".py",
   "mimetype": "text/x-python",
   "name": "python",
   "nbconvert_exporter": "python",
   "pygments_lexer": "ipython3",
   "version": "3.9.12"
  }
 },
 "nbformat": 4,
 "nbformat_minor": 5
}
