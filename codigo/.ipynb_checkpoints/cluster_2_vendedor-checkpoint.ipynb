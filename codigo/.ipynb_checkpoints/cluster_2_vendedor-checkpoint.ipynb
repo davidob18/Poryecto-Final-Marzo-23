{
 "cells": [
  {
   "cell_type": "code",
   "execution_count": 35,
   "id": "4ee5331c-37b8-4144-90f1-7bab5624452c",
   "metadata": {},
   "outputs": [],
   "source": [
    "import pandas as pd\n",
    "import numpy as np\n",
    "\n",
    "import matplotlib.pyplot as plt"
   ]
  },
  {
   "cell_type": "code",
   "execution_count": 36,
   "id": "cc1172de-b593-4a4c-879d-f188602cc3f8",
   "metadata": {},
   "outputs": [],
   "source": [
    "df_data = pd.read_csv('./data_con_articulos.csv')"
   ]
  },
  {
   "cell_type": "code",
   "execution_count": 37,
   "id": "5f3b4809-136b-4db1-a048-37ec7b90ecd3",
   "metadata": {},
   "outputs": [
    {
     "data": {
      "text/html": [
       "<div>\n",
       "<style scoped>\n",
       "    .dataframe tbody tr th:only-of-type {\n",
       "        vertical-align: middle;\n",
       "    }\n",
       "\n",
       "    .dataframe tbody tr th {\n",
       "        vertical-align: top;\n",
       "    }\n",
       "\n",
       "    .dataframe thead th {\n",
       "        text-align: right;\n",
       "    }\n",
       "</style>\n",
       "<table border=\"1\" class=\"dataframe\">\n",
       "  <thead>\n",
       "    <tr style=\"text-align: right;\">\n",
       "      <th></th>\n",
       "      <th>creado</th>\n",
       "      <th>fecha</th>\n",
       "      <th>proyecto</th>\n",
       "      <th>vendedor</th>\n",
       "      <th>tipo_de_cliente</th>\n",
       "      <th>cliente</th>\n",
       "      <th>cantidad</th>\n",
       "      <th>articulo</th>\n",
       "      <th>costo</th>\n",
       "      <th>impresión</th>\n",
       "      <th>...</th>\n",
       "      <th>pastillero</th>\n",
       "      <th>cangurera</th>\n",
       "      <th>navaja</th>\n",
       "      <th>audífonos</th>\n",
       "      <th>pañalera</th>\n",
       "      <th>bata</th>\n",
       "      <th>mascarilla</th>\n",
       "      <th>almohada</th>\n",
       "      <th>peluche</th>\n",
       "      <th>termómetro</th>\n",
       "    </tr>\n",
       "  </thead>\n",
       "  <tbody>\n",
       "    <tr>\n",
       "      <th>0</th>\n",
       "      <td>2018-10-29 10:15:30</td>\n",
       "      <td>2018-10-01</td>\n",
       "      <td>PS1808080202</td>\n",
       "      <td>CRISTIAN HERNANDEZ</td>\n",
       "      <td>RECURRENTE</td>\n",
       "      <td>VMACS</td>\n",
       "      <td>10.0</td>\n",
       "      <td>HIELERA</td>\n",
       "      <td>88.07</td>\n",
       "      <td>0.0</td>\n",
       "      <td>...</td>\n",
       "      <td>0</td>\n",
       "      <td>0</td>\n",
       "      <td>0</td>\n",
       "      <td>0</td>\n",
       "      <td>0</td>\n",
       "      <td>0</td>\n",
       "      <td>0</td>\n",
       "      <td>0</td>\n",
       "      <td>0</td>\n",
       "      <td>0</td>\n",
       "    </tr>\n",
       "  </tbody>\n",
       "</table>\n",
       "<p>1 rows × 120 columns</p>\n",
       "</div>"
      ],
      "text/plain": [
       "                creado       fecha      proyecto            vendedor  \\\n",
       "0  2018-10-29 10:15:30  2018-10-01  PS1808080202  CRISTIAN HERNANDEZ   \n",
       "\n",
       "  tipo_de_cliente cliente  cantidad articulo  costo  impresión  ...  \\\n",
       "0      RECURRENTE   VMACS      10.0  HIELERA  88.07        0.0  ...   \n",
       "\n",
       "   pastillero  cangurera  navaja  audífonos  pañalera  bata  mascarilla  \\\n",
       "0           0          0       0          0         0     0           0   \n",
       "\n",
       "   almohada  peluche  termómetro  \n",
       "0         0        0           0  \n",
       "\n",
       "[1 rows x 120 columns]"
      ]
     },
     "execution_count": 37,
     "metadata": {},
     "output_type": "execute_result"
    }
   ],
   "source": [
    "df_data.head(1)"
   ]
  },
  {
   "cell_type": "code",
   "execution_count": 38,
   "id": "56701e32-4900-44ec-89ad-64870affd6cb",
   "metadata": {},
   "outputs": [],
   "source": [
    "df_data_2022 = df_data[df_data.fecha.between('2022-01-01', '2023-01-01')]"
   ]
  },
  {
   "cell_type": "code",
   "execution_count": 39,
   "id": "90b2436c-52c3-469d-9677-197f1dd49099",
   "metadata": {},
   "outputs": [],
   "source": [
    "columnas_drop = ['creado', 'fecha']"
   ]
  },
  {
   "cell_type": "code",
   "execution_count": 40,
   "id": "e5ff2424-a8c6-45eb-9f32-2a3798371a60",
   "metadata": {},
   "outputs": [
    {
     "name": "stderr",
     "output_type": "stream",
     "text": [
      "/var/folders/c0/ffsv0l194g90gxqj1nlsmvdw0000gn/T/ipykernel_93071/3799932649.py:1: SettingWithCopyWarning:\n",
      "\n",
      "\n",
      "A value is trying to be set on a copy of a slice from a DataFrame\n",
      "\n",
      "See the caveats in the documentation: https://pandas.pydata.org/pandas-docs/stable/user_guide/indexing.html#returning-a-view-versus-a-copy\n",
      "\n"
     ]
    }
   ],
   "source": [
    "df_data_2022.drop(columns=columnas_drop,inplace=True)"
   ]
  },
  {
   "cell_type": "code",
   "execution_count": 41,
   "id": "77f06701-9f33-430a-965d-c8a43d685c2e",
   "metadata": {},
   "outputs": [],
   "source": [
    "df_data_cliente_2022 = df_data_2022.groupby('cliente').sum()"
   ]
  },
  {
   "cell_type": "code",
   "execution_count": 42,
   "id": "12693b30-5901-418e-b333-2755de6a74cc",
   "metadata": {},
   "outputs": [
    {
     "data": {
      "text/plain": [
       "cliente\n",
       "ADHETEC               13\n",
       "ADRIAN GUEVARA         2\n",
       "ADRIANA                1\n",
       "ADSPACE                7\n",
       "AEROMAR                1\n",
       "                      ..\n",
       "YAKULT                 1\n",
       "ZEISS                  3\n",
       "gerardo lomeli         1\n",
       "hirschvogel            1\n",
       "ic.veronicabarajas     1\n",
       "Name: proyecto, Length: 312, dtype: int64"
      ]
     },
     "execution_count": 42,
     "metadata": {},
     "output_type": "execute_result"
    }
   ],
   "source": [
    "df_data_2022.groupby('cliente').proyecto.nunique()"
   ]
  },
  {
   "cell_type": "code",
   "execution_count": 43,
   "id": "bcd45ffc-817f-46d5-b9d6-36d9bbaa9f3d",
   "metadata": {},
   "outputs": [],
   "source": [
    "df_data_cliente_2022['compras_cliente'] =  df_data_2022.groupby('cliente').proyecto.nunique()"
   ]
  },
  {
   "cell_type": "code",
   "execution_count": 44,
   "id": "44e998c7-7a9c-4b66-9f6f-f82931b17916",
   "metadata": {},
   "outputs": [],
   "source": [
    "from sklearn.preprocessing import StandardScaler\n",
    "scaler = StandardScaler()"
   ]
  },
  {
   "cell_type": "code",
   "execution_count": 45,
   "id": "744bb2a0-cd8c-49a2-a035-254a7446ef94",
   "metadata": {},
   "outputs": [],
   "source": [
    "df_data_prueba_2 = df_data_cliente_2022[['utilidad_real','inversion','compras_cliente']]"
   ]
  },
  {
   "cell_type": "code",
   "execution_count": 46,
   "id": "deed66bb-82ad-4993-99e0-425be2162915",
   "metadata": {
    "tags": []
   },
   "outputs": [
    {
     "name": "stderr",
     "output_type": "stream",
     "text": [
      "/var/folders/c0/ffsv0l194g90gxqj1nlsmvdw0000gn/T/ipykernel_93071/2538078266.py:1: SettingWithCopyWarning:\n",
      "\n",
      "\n",
      "A value is trying to be set on a copy of a slice from a DataFrame.\n",
      "Try using .loc[row_indexer,col_indexer] = value instead\n",
      "\n",
      "See the caveats in the documentation: https://pandas.pydata.org/pandas-docs/stable/user_guide/indexing.html#returning-a-view-versus-a-copy\n",
      "\n"
     ]
    }
   ],
   "source": [
    "df_data_prueba_2[['utilidad_real','inversion','compras_cliente']] = scaler.fit_transform(df_data_prueba_2)"
   ]
  },
  {
   "cell_type": "code",
   "execution_count": 47,
   "id": "c4e39aad-e04d-4b7d-997d-4ce6ecd291e8",
   "metadata": {},
   "outputs": [],
   "source": [
    "from sklearn.cluster import KMeans\n",
    "from yellowbrick.cluster import KElbowVisualizer"
   ]
  },
  {
   "cell_type": "code",
   "execution_count": 48,
   "id": "a5d4256e-d636-4246-9823-35bad1d98ee5",
   "metadata": {},
   "outputs": [
    {
     "data": {
      "image/png": "[encoded data removed]",
      "text/plain": [
       "<Figure size 576x396 with 2 Axes>"
      ]
     },
     "metadata": {},
     "output_type": "display_data"
    },
    {
     "data": {
      "image/png": "[encoded data removed]",
      "text/plain": [
       "<Figure size 576x396 with 2 Axes>"
      ]
     },
     "metadata": {},
     "output_type": "display_data"
    },
    {
     "data": {
      "image/png": "[encoded data removed]",
      "text/plain": [
       "<Figure size 576x396 with 2 Axes>"
      ]
     },
     "metadata": {},
     "output_type": "display_data"
    }
   ],
   "source": [
    "for metric in  ['distortion', 'silhouette', 'calinski_harabasz']:\n",
    "    model = KMeans()\n",
    "    visualizer = KElbowVisualizer(model, k=(3,16), metric = metric)\n",
    "    visualizer.fit(df_data_prueba_2)\n",
    "    visualizer.show() "
   ]
  },
  {
   "cell_type": "code",
   "execution_count": 49,
   "id": "bfbc2779-2413-4a03-a018-51815d1d8bba",
   "metadata": {},
   "outputs": [
    {
     "data": {
      "text/plain": [
       "KMeans(n_clusters=5)"
      ]
     },
     "execution_count": 49,
     "metadata": {},
     "output_type": "execute_result"
    }
   ],
   "source": [
    "kmeans_prueba_5= KMeans(5)\n",
    "kmeans_prueba_5.fit(df_data_prueba_2)"
   ]
  },
  {
   "cell_type": "code",
   "execution_count": null,
   "id": "a796bba7-74c5-4072-b4ff-98e2846fc4a5",
   "metadata": {},
   "outputs": [],
   "source": []
  },
  {
   "cell_type": "code",
   "execution_count": 50,
   "id": "b81ff281-803a-46ec-bf73-6b8fc849c596",
   "metadata": {},
   "outputs": [
    {
     "name": "stderr",
     "output_type": "stream",
     "text": [
      "/var/folders/c0/ffsv0l194g90gxqj1nlsmvdw0000gn/T/ipykernel_93071/576599657.py:1: SettingWithCopyWarning:\n",
      "\n",
      "\n",
      "A value is trying to be set on a copy of a slice from a DataFrame.\n",
      "Try using .loc[row_indexer,col_indexer] = value instead\n",
      "\n",
      "See the caveats in the documentation: https://pandas.pydata.org/pandas-docs/stable/user_guide/indexing.html#returning-a-view-versus-a-copy\n",
      "\n"
     ]
    }
   ],
   "source": [
    "df_data_prueba_2['clusters'] = kmeans_prueba_5.labels_"
   ]
  },
  {
   "cell_type": "code",
   "execution_count": 51,
   "id": "a66564ed-a946-4c03-8561-7c53b84de220",
   "metadata": {},
   "outputs": [
    {
     "data": {
      "text/html": [
       "<div>\n",
       "<style scoped>\n",
       "    .dataframe tbody tr th:only-of-type {\n",
       "        vertical-align: middle;\n",
       "    }\n",
       "\n",
       "    .dataframe tbody tr th {\n",
       "        vertical-align: top;\n",
       "    }\n",
       "\n",
       "    .dataframe thead th {\n",
       "        text-align: right;\n",
       "    }\n",
       "</style>\n",
       "<table border=\"1\" class=\"dataframe\">\n",
       "  <thead>\n",
       "    <tr style=\"text-align: right;\">\n",
       "      <th>clusters</th>\n",
       "      <th>index</th>\n",
       "      <th>0</th>\n",
       "      <th>1</th>\n",
       "      <th>2</th>\n",
       "      <th>3</th>\n",
       "      <th>4</th>\n",
       "    </tr>\n",
       "  </thead>\n",
       "  <tbody>\n",
       "    <tr>\n",
       "      <th>0</th>\n",
       "      <td>utilidad_real</td>\n",
       "      <td>-0.224013</td>\n",
       "      <td>9.189430</td>\n",
       "      <td>0.484087</td>\n",
       "      <td>6.238962</td>\n",
       "      <td>3.173230</td>\n",
       "    </tr>\n",
       "    <tr>\n",
       "      <th>1</th>\n",
       "      <td>inversion</td>\n",
       "      <td>-0.250799</td>\n",
       "      <td>6.249492</td>\n",
       "      <td>0.573813</td>\n",
       "      <td>7.015962</td>\n",
       "      <td>4.913629</td>\n",
       "    </tr>\n",
       "    <tr>\n",
       "      <th>2</th>\n",
       "      <td>compras_cliente</td>\n",
       "      <td>-0.231828</td>\n",
       "      <td>2.236305</td>\n",
       "      <td>0.952804</td>\n",
       "      <td>14.495056</td>\n",
       "      <td>1.061508</td>\n",
       "    </tr>\n",
       "  </tbody>\n",
       "</table>\n",
       "</div>"
      ],
      "text/plain": [
       "clusters            index         0         1         2          3         4\n",
       "0           utilidad_real -0.224013  9.189430  0.484087   6.238962  3.173230\n",
       "1               inversion -0.250799  6.249492  0.573813   7.015962  4.913629\n",
       "2         compras_cliente -0.231828  2.236305  0.952804  14.495056  1.061508"
      ]
     },
     "execution_count": 51,
     "metadata": {},
     "output_type": "execute_result"
    }
   ],
   "source": [
    "cluster_summary =  df_data_prueba_2.groupby('clusters').mean().T.reset_index()\n",
    "cluster_summary"
   ]
  },
  {
   "cell_type": "code",
   "execution_count": 52,
   "id": "daf77e02-33da-4924-a361-6665772c0883",
   "metadata": {},
   "outputs": [
    {
     "name": "stderr",
     "output_type": "stream",
     "text": [
      "/opt/anaconda3/lib/python3.9/site-packages/plotly/express/_core.py:271: FutureWarning:\n",
      "\n",
      "The frame.append method is deprecated and will be removed from pandas in a future version. Use pandas.concat instead.\n",
      "\n",
      "/opt/anaconda3/lib/python3.9/site-packages/plotly/express/_core.py:271: FutureWarning:\n",
      "\n",
      "The frame.append method is deprecated and will be removed from pandas in a future version. Use pandas.concat instead.\n",
      "\n",
      "/opt/anaconda3/lib/python3.9/site-packages/plotly/express/_core.py:271: FutureWarning:\n",
      "\n",
      "The frame.append method is deprecated and will be removed from pandas in a future version. Use pandas.concat instead.\n",
      "\n",
      "/opt/anaconda3/lib/python3.9/site-packages/plotly/express/_core.py:271: FutureWarning:\n",
      "\n",
      "The frame.append method is deprecated and will be removed from pandas in a future version. Use pandas.concat instead.\n",
      "\n",
      "/opt/anaconda3/lib/python3.9/site-packages/plotly/express/_core.py:271: FutureWarning:\n",
      "\n",
      "The frame.append method is deprecated and will be removed from pandas in a future version. Use pandas.concat instead.\n",
      "\n"
     ]
    },
    {
     "data": {
      "application/vnd.plotly.v1+json": {
       "config": {
        "plotlyServerURL": "https://plot.ly"
       },
       "data": [
        {
         "hovertemplate": "clusters=0<br>value=%{r}<br>index=%{theta}<extra></extra>",
         "legendgroup": "0",
         "line": {
          "color": "#636efa",
          "dash": "solid"
         },
         "marker": {
          "symbol": "circle"
         },
         "mode": "lines",
         "name": "0",
         "r": [
          -0.22401268486331047,
          -0.2507992489896807,
          -0.2318284821608513,
          -0.22401268486331047
         ],
         "showlegend": true,
         "subplot": "polar",
         "theta": [
          "utilidad_real",
          "inversion",
          "compras_cliente",
          "utilidad_real"
         ],
         "type": "scatterpolar"
        },
        {
         "hovertemplate": "clusters=1<br>value=%{r}<br>index=%{theta}<extra></extra>",
         "legendgroup": "1",
         "line": {
          "color": "#EF553B",
          "dash": "solid"
         },
         "marker": {
          "symbol": "circle"
         },
         "mode": "lines",
         "name": "1",
         "r": [
          9.189430078873599,
          6.249491579052896,
          2.2363052885307932,
          9.189430078873599
         ],
         "showlegend": true,
         "subplot": "polar",
         "theta": [
          "utilidad_real",
          "inversion",
          "compras_cliente",
          "utilidad_real"
         ],
         "type": "scatterpolar"
        },
        {
         "hovertemplate": "clusters=2<br>value=%{r}<br>index=%{theta}<extra></extra>",
         "legendgroup": "2",
         "line": {
          "color": "#00cc96",
          "dash": "solid"
         },
         "marker": {
          "symbol": "circle"
         },
         "mode": "lines",
         "name": "2",
         "r": [
          0.4840869496511159,
          0.5738130999903519,
          0.9528035709552868,
          0.4840869496511159
         ],
         "showlegend": true,
         "subplot": "polar",
         "theta": [
          "utilidad_real",
          "inversion",
          "compras_cliente",
          "utilidad_real"
         ],
         "type": "scatterpolar"
        },
        {
         "hovertemplate": "clusters=3<br>value=%{r}<br>index=%{theta}<extra></extra>",
         "legendgroup": "3",
         "line": {
          "color": "#ab63fa",
          "dash": "solid"
         },
         "marker": {
          "symbol": "circle"
         },
         "mode": "lines",
         "name": "3",
         "r": [
          6.238962319607601,
          7.015962143084966,
          14.495056387007063,
          6.238962319607601
         ],
         "showlegend": true,
         "subplot": "polar",
         "theta": [
          "utilidad_real",
          "inversion",
          "compras_cliente",
          "utilidad_real"
         ],
         "type": "scatterpolar"
        },
        {
         "hovertemplate": "clusters=4<br>value=%{r}<br>index=%{theta}<extra></extra>",
         "legendgroup": "4",
         "line": {
          "color": "#FFA15A",
          "dash": "solid"
         },
         "marker": {
          "symbol": "circle"
         },
         "mode": "lines",
         "name": "4",
         "r": [
          3.1732295950057923,
          4.9136289562901805,
          1.061508308260151,
          3.1732295950057923
         ],
         "showlegend": true,
         "subplot": "polar",
         "theta": [
          "utilidad_real",
          "inversion",
          "compras_cliente",
          "utilidad_real"
         ],
         "type": "scatterpolar"
        }
       ],
       "layout": {
        "height": 800,
        "legend": {
         "title": {
          "text": "clusters"
         },
         "tracegroupgap": 0
        },
        "margin": {
         "t": 60
        },
        "polar": {
         "angularaxis": {
          "direction": "clockwise",
          "rotation": 90,
          "type": "category"
         },
         "domain": {
          "x": [
           0,
           1
          ],
          "y": [
           0,
           1
          ]
         },
         "radialaxis": {
          "autorange": true,
          "range": [
           -0.2507992489896807,
           14.495056387007063
          ],
          "type": "linear"
         }
        },
        "template": {
         "data": {
          "bar": [
           {
            "error_x": {
             "color": "#2a3f5f"
            },
            "error_y": {
             "color": "#2a3f5f"
            },
            "marker": {
             "line": {
              "color": "#E5ECF6",
              "width": 0.5
             },
             "pattern": {
              "fillmode": "overlay",
              "size": 10,
              "solidity": 0.2
             }
            },
            "type": "bar"
           }
          ],
          "barpolar": [
           {
            "marker": {
             "line": {
              "color": "#E5ECF6",
              "width": 0.5
             },
             "pattern": {
              "fillmode": "overlay",
              "size": 10,
              "solidity": 0.2
             }
            },
            "type": "barpolar"
           }
          ],
          "carpet": [
           {
            "aaxis": {
             "endlinecolor": "#2a3f5f",
             "gridcolor": "white",
             "linecolor": "white",
             "minorgridcolor": "white",
             "startlinecolor": "#2a3f5f"
            },
            "baxis": {
             "endlinecolor": "#2a3f5f",
             "gridcolor": "white",
             "linecolor": "white",
             "minorgridcolor": "white",
             "startlinecolor": "#2a3f5f"
            },
            "type": "carpet"
           }
          ],
          "choropleth": [
           {
            "colorbar": {
             "outlinewidth": 0,
             "ticks": ""
            },
            "type": "choropleth"
           }
          ],
          "contour": [
           {
            "colorbar": {
             "outlinewidth": 0,
             "ticks": ""
            },
            "colorscale": [
             [
              0,
              "#0d0887"
             ],
             [
              0.1111111111111111,
              "#46039f"
             ],
             [
              0.2222222222222222,
              "#7201a8"
             ],
             [
              0.3333333333333333,
              "#9c179e"
             ],
             [
              0.4444444444444444,
              "#bd3786"
             ],
             [
              0.5555555555555556,
              "#d8576b"
             ],
             [
              0.6666666666666666,
              "#ed7953"
             ],
             [
              0.7777777777777778,
              "#fb9f3a"
             ],
             [
              0.8888888888888888,
              "#fdca26"
             ],
             [
              1,
              "#f0f921"
             ]
            ],
            "type": "contour"
           }
          ],
          "contourcarpet": [
           {
            "colorbar": {
             "outlinewidth": 0,
             "ticks": ""
            },
            "type": "contourcarpet"
           }
          ],
          "heatmap": [
           {
            "colorbar": {
             "outlinewidth": 0,
             "ticks": ""
            },
            "colorscale": [
             [
              0,
              "#0d0887"
             ],
             [
              0.1111111111111111,
              "#46039f"
             ],
             [
              0.2222222222222222,
              "#7201a8"
             ],
             [
              0.3333333333333333,
              "#9c179e"
             ],
             [
              0.4444444444444444,
              "#bd3786"
             ],
             [
              0.5555555555555556,
              "#d8576b"
             ],
             [
              0.6666666666666666,
              "#ed7953"
             ],
             [
              0.7777777777777778,
              "#fb9f3a"
             ],
             [
              0.8888888888888888,
              "#fdca26"
             ],
             [
              1,
              "#f0f921"
             ]
            ],
            "type": "heatmap"
           }
          ],
          "heatmapgl": [
           {
            "colorbar": {
             "outlinewidth": 0,
             "ticks": ""
            },
            "colorscale": [
             [
              0,
              "#0d0887"
             ],
             [
              0.1111111111111111,
              "#46039f"
             ],
             [
              0.2222222222222222,
              "#7201a8"
             ],
             [
              0.3333333333333333,
              "#9c179e"
             ],
             [
              0.4444444444444444,
              "#bd3786"
             ],
             [
              0.5555555555555556,
              "#d8576b"
             ],
             [
              0.6666666666666666,
              "#ed7953"
             ],
             [
              0.7777777777777778,
              "#fb9f3a"
             ],
             [
              0.8888888888888888,
              "#fdca26"
             ],
             [
              1,
              "#f0f921"
             ]
            ],
            "type": "heatmapgl"
           }
          ],
          "histogram": [
           {
            "marker": {
             "pattern": {
              "fillmode": "overlay",
              "size": 10,
              "solidity": 0.2
             }
            },
            "type": "histogram"
           }
          ],
          "histogram2d": [
           {
            "colorbar": {
             "outlinewidth": 0,
             "ticks": ""
            },
            "colorscale": [
             [
              0,
              "#0d0887"
             ],
             [
              0.1111111111111111,
              "#46039f"
             ],
             [
              0.2222222222222222,
              "#7201a8"
             ],
             [
              0.3333333333333333,
              "#9c179e"
             ],
             [
              0.4444444444444444,
              "#bd3786"
             ],
             [
              0.5555555555555556,
              "#d8576b"
             ],
             [
              0.6666666666666666,
              "#ed7953"
             ],
             [
              0.7777777777777778,
              "#fb9f3a"
             ],
             [
              0.8888888888888888,
              "#fdca26"
             ],
             [
              1,
              "#f0f921"
             ]
            ],
            "type": "histogram2d"
           }
          ],
          "histogram2dcontour": [
           {
            "colorbar": {
             "outlinewidth": 0,
             "ticks": ""
            },
            "colorscale": [
             [
              0,
              "#0d0887"
             ],
             [
              0.1111111111111111,
              "#46039f"
             ],
             [
              0.2222222222222222,
              "#7201a8"
             ],
             [
              0.3333333333333333,
              "#9c179e"
             ],
             [
              0.4444444444444444,
              "#bd3786"
             ],
             [
              0.5555555555555556,
              "#d8576b"
             ],
             [
              0.6666666666666666,
              "#ed7953"
             ],
             [
              0.7777777777777778,
              "#fb9f3a"
             ],
             [
              0.8888888888888888,
              "#fdca26"
             ],
             [
              1,
              "#f0f921"
             ]
            ],
            "type": "histogram2dcontour"
           }
          ],
          "mesh3d": [
           {
            "colorbar": {
             "outlinewidth": 0,
             "ticks": ""
            },
            "type": "mesh3d"
           }
          ],
          "parcoords": [
           {
            "line": {
             "colorbar": {
              "outlinewidth": 0,
              "ticks": ""
             }
            },
            "type": "parcoords"
           }
          ],
          "pie": [
           {
            "automargin": true,
            "type": "pie"
           }
          ],
          "scatter": [
           {
            "marker": {
             "colorbar": {
              "outlinewidth": 0,
              "ticks": ""
             }
            },
            "type": "scatter"
           }
          ],
          "scatter3d": [
           {
            "line": {
             "colorbar": {
              "outlinewidth": 0,
              "ticks": ""
             }
            },
            "marker": {
             "colorbar": {
              "outlinewidth": 0,
              "ticks": ""
             }
            },
            "type": "scatter3d"
           }
          ],
          "scattercarpet": [
           {
            "marker": {
             "colorbar": {
              "outlinewidth": 0,
              "ticks": ""
             }
            },
            "type": "scattercarpet"
           }
          ],
          "scattergeo": [
           {
            "marker": {
             "colorbar": {
              "outlinewidth": 0,
              "ticks": ""
             }
            },
            "type": "scattergeo"
           }
          ],
          "scattergl": [
           {
            "marker": {
             "colorbar": {
              "outlinewidth": 0,
              "ticks": ""
             }
            },
            "type": "scattergl"
           }
          ],
          "scattermapbox": [
           {
            "marker": {
             "colorbar": {
              "outlinewidth": 0,
              "ticks": ""
             }
            },
            "type": "scattermapbox"
           }
          ],
          "scatterpolar": [
           {
            "marker": {
             "colorbar": {
              "outlinewidth": 0,
              "ticks": ""
             }
            },
            "type": "scatterpolar"
           }
          ],
          "scatterpolargl": [
           {
            "marker": {
             "colorbar": {
              "outlinewidth": 0,
              "ticks": ""
             }
            },
            "type": "scatterpolargl"
           }
          ],
          "scatterternary": [
           {
            "marker": {
             "colorbar": {
              "outlinewidth": 0,
              "ticks": ""
             }
            },
            "type": "scatterternary"
           }
          ],
          "surface": [
           {
            "colorbar": {
             "outlinewidth": 0,
             "ticks": ""
            },
            "colorscale": [
             [
              0,
              "#0d0887"
             ],
             [
              0.1111111111111111,
              "#46039f"
             ],
             [
              0.2222222222222222,
              "#7201a8"
             ],
             [
              0.3333333333333333,
              "#9c179e"
             ],
             [
              0.4444444444444444,
              "#bd3786"
             ],
             [
              0.5555555555555556,
              "#d8576b"
             ],
             [
              0.6666666666666666,
              "#ed7953"
             ],
             [
              0.7777777777777778,
              "#fb9f3a"
             ],
             [
              0.8888888888888888,
              "#fdca26"
             ],
             [
              1,
              "#f0f921"
             ]
            ],
            "type": "surface"
           }
          ],
          "table": [
           {
            "cells": {
             "fill": {
              "color": "#EBF0F8"
             },
             "line": {
              "color": "white"
             }
            },
            "header": {
             "fill": {
              "color": "#C8D4E3"
             },
             "line": {
              "color": "white"
             }
            },
            "type": "table"
           }
          ]
         },
         "layout": {
          "annotationdefaults": {
           "arrowcolor": "#2a3f5f",
           "arrowhead": 0,
           "arrowwidth": 1
          },
          "autotypenumbers": "strict",
          "coloraxis": {
           "colorbar": {
            "outlinewidth": 0,
            "ticks": ""
           }
          },
          "colorscale": {
           "diverging": [
            [
             0,
             "#8e0152"
            ],
            [
             0.1,
             "#c51b7d"
            ],
            [
             0.2,
             "#de77ae"
            ],
            [
             0.3,
             "#f1b6da"
            ],
            [
             0.4,
             "#fde0ef"
            ],
            [
             0.5,
             "#f7f7f7"
            ],
            [
             0.6,
             "#e6f5d0"
            ],
            [
             0.7,
             "#b8e186"
            ],
            [
             0.8,
             "#7fbc41"
            ],
            [
             0.9,
             "#4d9221"
            ],
            [
             1,
             "#276419"
            ]
           ],
           "sequential": [
            [
             0,
             "#0d0887"
            ],
            [
             0.1111111111111111,
             "#46039f"
            ],
            [
             0.2222222222222222,
             "#7201a8"
            ],
            [
             0.3333333333333333,
             "#9c179e"
            ],
            [
             0.4444444444444444,
             "#bd3786"
            ],
            [
             0.5555555555555556,
             "#d8576b"
            ],
            [
             0.6666666666666666,
             "#ed7953"
            ],
            [
             0.7777777777777778,
             "#fb9f3a"
            ],
            [
             0.8888888888888888,
             "#fdca26"
            ],
            [
             1,
             "#f0f921"
            ]
           ],
           "sequentialminus": [
            [
             0,
             "#0d0887"
            ],
            [
             0.1111111111111111,
             "#46039f"
            ],
            [
             0.2222222222222222,
             "#7201a8"
            ],
            [
             0.3333333333333333,
             "#9c179e"
            ],
            [
             0.4444444444444444,
             "#bd3786"
            ],
            [
             0.5555555555555556,
             "#d8576b"
            ],
            [
             0.6666666666666666,
             "#ed7953"
            ],
            [
             0.7777777777777778,
             "#fb9f3a"
            ],
            [
             0.8888888888888888,
             "#fdca26"
            ],
            [
             1,
             "#f0f921"
            ]
           ]
          },
          "colorway": [
           "#636efa",
           "#EF553B",
           "#00cc96",
           "#ab63fa",
           "#FFA15A",
           "#19d3f3",
           "#FF6692",
           "#B6E880",
           "#FF97FF",
           "#FECB52"
          ],
          "font": {
           "color": "#2a3f5f"
          },
          "geo": {
           "bgcolor": "white",
           "lakecolor": "white",
           "landcolor": "#E5ECF6",
           "showlakes": true,
           "showland": true,
           "subunitcolor": "white"
          },
          "hoverlabel": {
           "align": "left"
          },
          "hovermode": "closest",
          "mapbox": {
           "style": "light"
          },
          "paper_bgcolor": "white",
          "plot_bgcolor": "#E5ECF6",
          "polar": {
           "angularaxis": {
            "gridcolor": "white",
            "linecolor": "white",
            "ticks": ""
           },
           "bgcolor": "#E5ECF6",
           "radialaxis": {
            "gridcolor": "white",
            "linecolor": "white",
            "ticks": ""
           }
          },
          "scene": {
           "xaxis": {
            "backgroundcolor": "#E5ECF6",
            "gridcolor": "white",
            "gridwidth": 2,
            "linecolor": "white",
            "showbackground": true,
            "ticks": "",
            "zerolinecolor": "white"
           },
           "yaxis": {
            "backgroundcolor": "#E5ECF6",
            "gridcolor": "white",
            "gridwidth": 2,
            "linecolor": "white",
            "showbackground": true,
            "ticks": "",
            "zerolinecolor": "white"
           },
           "zaxis": {
            "backgroundcolor": "#E5ECF6",
            "gridcolor": "white",
            "gridwidth": 2,
            "linecolor": "white",
            "showbackground": true,
            "ticks": "",
            "zerolinecolor": "white"
           }
          },
          "shapedefaults": {
           "line": {
            "color": "#2a3f5f"
           }
          },
          "ternary": {
           "aaxis": {
            "gridcolor": "white",
            "linecolor": "white",
            "ticks": ""
           },
           "baxis": {
            "gridcolor": "white",
            "linecolor": "white",
            "ticks": ""
           },
           "bgcolor": "#E5ECF6",
           "caxis": {
            "gridcolor": "white",
            "linecolor": "white",
            "ticks": ""
           }
          },
          "title": {
           "x": 0.05
          },
          "xaxis": {
           "automargin": true,
           "gridcolor": "white",
           "linecolor": "white",
           "ticks": "",
           "title": {
            "standoff": 15
           },
           "zerolinecolor": "white",
           "zerolinewidth": 2
          },
          "yaxis": {
           "automargin": true,
           "gridcolor": "white",
           "linecolor": "white",
           "ticks": "",
           "title": {
            "standoff": 15
           },
           "zerolinecolor": "white",
           "zerolinewidth": 2
          }
         }
        },
        "width": 800
       }
      },
      "image/png": "[encoded data removed]",
      "text/html": [
       "<div>                            <div id=\"7e98d24c-5c4b-4771-afdb-49f15a0545e4\" class=\"plotly-graph-div\" style=\"height:800px; width:800px;\"></div>            <script type=\"text/javascript\">                require([\"plotly\"], function(Plotly) {                    window.PLOTLYENV=window.PLOTLYENV || {};                                    if (document.getElementById(\"7e98d24c-5c4b-4771-afdb-49f15a0545e4\")) {                    Plotly.newPlot(                        \"7e98d24c-5c4b-4771-afdb-49f15a0545e4\",                        [{\"hovertemplate\":\"clusters=0<br>value=%{r}<br>index=%{theta}<extra></extra>\",\"legendgroup\":\"0\",\"line\":{\"color\":\"#636efa\",\"dash\":\"solid\"},\"marker\":{\"symbol\":\"circle\"},\"mode\":\"lines\",\"name\":\"0\",\"r\":[-0.22401268486331047,-0.2507992489896807,-0.2318284821608513,-0.22401268486331047],\"showlegend\":true,\"subplot\":\"polar\",\"theta\":[\"utilidad_real\",\"inversion\",\"compras_cliente\",\"utilidad_real\"],\"type\":\"scatterpolar\"},{\"hovertemplate\":\"clusters=1<br>value=%{r}<br>index=%{theta}<extra></extra>\",\"legendgroup\":\"1\",\"line\":{\"color\":\"#EF553B\",\"dash\":\"solid\"},\"marker\":{\"symbol\":\"circle\"},\"mode\":\"lines\",\"name\":\"1\",\"r\":[9.189430078873599,6.249491579052896,2.2363052885307932,9.189430078873599],\"showlegend\":true,\"subplot\":\"polar\",\"theta\":[\"utilidad_real\",\"inversion\",\"compras_cliente\",\"utilidad_real\"],\"type\":\"scatterpolar\"},{\"hovertemplate\":\"clusters=2<br>value=%{r}<br>index=%{theta}<extra></extra>\",\"legendgroup\":\"2\",\"line\":{\"color\":\"#00cc96\",\"dash\":\"solid\"},\"marker\":{\"symbol\":\"circle\"},\"mode\":\"lines\",\"name\":\"2\",\"r\":[0.4840869496511159,0.5738130999903519,0.9528035709552868,0.4840869496511159],\"showlegend\":true,\"subplot\":\"polar\",\"theta\":[\"utilidad_real\",\"inversion\",\"compras_cliente\",\"utilidad_real\"],\"type\":\"scatterpolar\"},{\"hovertemplate\":\"clusters=3<br>value=%{r}<br>index=%{theta}<extra></extra>\",\"legendgroup\":\"3\",\"line\":{\"color\":\"#ab63fa\",\"dash\":\"solid\"},\"marker\":{\"symbol\":\"circle\"},\"mode\":\"lines\",\"name\":\"3\",\"r\":[6.238962319607601,7.015962143084966,14.495056387007063,6.238962319607601],\"showlegend\":true,\"subplot\":\"polar\",\"theta\":[\"utilidad_real\",\"inversion\",\"compras_cliente\",\"utilidad_real\"],\"type\":\"scatterpolar\"},{\"hovertemplate\":\"clusters=4<br>value=%{r}<br>index=%{theta}<extra></extra>\",\"legendgroup\":\"4\",\"line\":{\"color\":\"#FFA15A\",\"dash\":\"solid\"},\"marker\":{\"symbol\":\"circle\"},\"mode\":\"lines\",\"name\":\"4\",\"r\":[3.1732295950057923,4.9136289562901805,1.061508308260151,3.1732295950057923],\"showlegend\":true,\"subplot\":\"polar\",\"theta\":[\"utilidad_real\",\"inversion\",\"compras_cliente\",\"utilidad_real\"],\"type\":\"scatterpolar\"}],                        {\"template\":{\"data\":{\"bar\":[{\"error_x\":{\"color\":\"#2a3f5f\"},\"error_y\":{\"color\":\"#2a3f5f\"},\"marker\":{\"line\":{\"color\":\"#E5ECF6\",\"width\":0.5},\"pattern\":{\"fillmode\":\"overlay\",\"size\":10,\"solidity\":0.2}},\"type\":\"bar\"}],\"barpolar\":[{\"marker\":{\"line\":{\"color\":\"#E5ECF6\",\"width\":0.5},\"pattern\":{\"fillmode\":\"overlay\",\"size\":10,\"solidity\":0.2}},\"type\":\"barpolar\"}],\"carpet\":[{\"aaxis\":{\"endlinecolor\":\"#2a3f5f\",\"gridcolor\":\"white\",\"linecolor\":\"white\",\"minorgridcolor\":\"white\",\"startlinecolor\":\"#2a3f5f\"},\"baxis\":{\"endlinecolor\":\"#2a3f5f\",\"gridcolor\":\"white\",\"linecolor\":\"white\",\"minorgridcolor\":\"white\",\"startlinecolor\":\"#2a3f5f\"},\"type\":\"carpet\"}],\"choropleth\":[{\"colorbar\":{\"outlinewidth\":0,\"ticks\":\"\"},\"type\":\"choropleth\"}],\"contour\":[{\"colorbar\":{\"outlinewidth\":0,\"ticks\":\"\"},\"colorscale\":[[0.0,\"#0d0887\"],[0.1111111111111111,\"#46039f\"],[0.2222222222222222,\"#7201a8\"],[0.3333333333333333,\"#9c179e\"],[0.4444444444444444,\"#bd3786\"],[0.5555555555555556,\"#d8576b\"],[0.6666666666666666,\"#ed7953\"],[0.7777777777777778,\"#fb9f3a\"],[0.8888888888888888,\"#fdca26\"],[1.0,\"#f0f921\"]],\"type\":\"contour\"}],\"contourcarpet\":[{\"colorbar\":{\"outlinewidth\":0,\"ticks\":\"\"},\"type\":\"contourcarpet\"}],\"heatmap\":[{\"colorbar\":{\"outlinewidth\":0,\"ticks\":\"\"},\"colorscale\":[[0.0,\"#0d0887\"],[0.1111111111111111,\"#46039f\"],[0.2222222222222222,\"#7201a8\"],[0.3333333333333333,\"#9c179e\"],[0.4444444444444444,\"#bd3786\"],[0.5555555555555556,\"#d8576b\"],[0.6666666666666666,\"#ed7953\"],[0.7777777777777778,\"#fb9f3a\"],[0.8888888888888888,\"#fdca26\"],[1.0,\"#f0f921\"]],\"type\":\"heatmap\"}],\"heatmapgl\":[{\"colorbar\":{\"outlinewidth\":0,\"ticks\":\"\"},\"colorscale\":[[0.0,\"#0d0887\"],[0.1111111111111111,\"#46039f\"],[0.2222222222222222,\"#7201a8\"],[0.3333333333333333,\"#9c179e\"],[0.4444444444444444,\"#bd3786\"],[0.5555555555555556,\"#d8576b\"],[0.6666666666666666,\"#ed7953\"],[0.7777777777777778,\"#fb9f3a\"],[0.8888888888888888,\"#fdca26\"],[1.0,\"#f0f921\"]],\"type\":\"heatmapgl\"}],\"histogram\":[{\"marker\":{\"pattern\":{\"fillmode\":\"overlay\",\"size\":10,\"solidity\":0.2}},\"type\":\"histogram\"}],\"histogram2d\":[{\"colorbar\":{\"outlinewidth\":0,\"ticks\":\"\"},\"colorscale\":[[0.0,\"#0d0887\"],[0.1111111111111111,\"#46039f\"],[0.2222222222222222,\"#7201a8\"],[0.3333333333333333,\"#9c179e\"],[0.4444444444444444,\"#bd3786\"],[0.5555555555555556,\"#d8576b\"],[0.6666666666666666,\"#ed7953\"],[0.7777777777777778,\"#fb9f3a\"],[0.8888888888888888,\"#fdca26\"],[1.0,\"#f0f921\"]],\"type\":\"histogram2d\"}],\"histogram2dcontour\":[{\"colorbar\":{\"outlinewidth\":0,\"ticks\":\"\"},\"colorscale\":[[0.0,\"#0d0887\"],[0.1111111111111111,\"#46039f\"],[0.2222222222222222,\"#7201a8\"],[0.3333333333333333,\"#9c179e\"],[0.4444444444444444,\"#bd3786\"],[0.5555555555555556,\"#d8576b\"],[0.6666666666666666,\"#ed7953\"],[0.7777777777777778,\"#fb9f3a\"],[0.8888888888888888,\"#fdca26\"],[1.0,\"#f0f921\"]],\"type\":\"histogram2dcontour\"}],\"mesh3d\":[{\"colorbar\":{\"outlinewidth\":0,\"ticks\":\"\"},\"type\":\"mesh3d\"}],\"parcoords\":[{\"line\":{\"colorbar\":{\"outlinewidth\":0,\"ticks\":\"\"}},\"type\":\"parcoords\"}],\"pie\":[{\"automargin\":true,\"type\":\"pie\"}],\"scatter\":[{\"marker\":{\"colorbar\":{\"outlinewidth\":0,\"ticks\":\"\"}},\"type\":\"scatter\"}],\"scatter3d\":[{\"line\":{\"colorbar\":{\"outlinewidth\":0,\"ticks\":\"\"}},\"marker\":{\"colorbar\":{\"outlinewidth\":0,\"ticks\":\"\"}},\"type\":\"scatter3d\"}],\"scattercarpet\":[{\"marker\":{\"colorbar\":{\"outlinewidth\":0,\"ticks\":\"\"}},\"type\":\"scattercarpet\"}],\"scattergeo\":[{\"marker\":{\"colorbar\":{\"outlinewidth\":0,\"ticks\":\"\"}},\"type\":\"scattergeo\"}],\"scattergl\":[{\"marker\":{\"colorbar\":{\"outlinewidth\":0,\"ticks\":\"\"}},\"type\":\"scattergl\"}],\"scattermapbox\":[{\"marker\":{\"colorbar\":{\"outlinewidth\":0,\"ticks\":\"\"}},\"type\":\"scattermapbox\"}],\"scatterpolar\":[{\"marker\":{\"colorbar\":{\"outlinewidth\":0,\"ticks\":\"\"}},\"type\":\"scatterpolar\"}],\"scatterpolargl\":[{\"marker\":{\"colorbar\":{\"outlinewidth\":0,\"ticks\":\"\"}},\"type\":\"scatterpolargl\"}],\"scatterternary\":[{\"marker\":{\"colorbar\":{\"outlinewidth\":0,\"ticks\":\"\"}},\"type\":\"scatterternary\"}],\"surface\":[{\"colorbar\":{\"outlinewidth\":0,\"ticks\":\"\"},\"colorscale\":[[0.0,\"#0d0887\"],[0.1111111111111111,\"#46039f\"],[0.2222222222222222,\"#7201a8\"],[0.3333333333333333,\"#9c179e\"],[0.4444444444444444,\"#bd3786\"],[0.5555555555555556,\"#d8576b\"],[0.6666666666666666,\"#ed7953\"],[0.7777777777777778,\"#fb9f3a\"],[0.8888888888888888,\"#fdca26\"],[1.0,\"#f0f921\"]],\"type\":\"surface\"}],\"table\":[{\"cells\":{\"fill\":{\"color\":\"#EBF0F8\"},\"line\":{\"color\":\"white\"}},\"header\":{\"fill\":{\"color\":\"#C8D4E3\"},\"line\":{\"color\":\"white\"}},\"type\":\"table\"}]},\"layout\":{\"annotationdefaults\":{\"arrowcolor\":\"#2a3f5f\",\"arrowhead\":0,\"arrowwidth\":1},\"autotypenumbers\":\"strict\",\"coloraxis\":{\"colorbar\":{\"outlinewidth\":0,\"ticks\":\"\"}},\"colorscale\":{\"diverging\":[[0,\"#8e0152\"],[0.1,\"#c51b7d\"],[0.2,\"#de77ae\"],[0.3,\"#f1b6da\"],[0.4,\"#fde0ef\"],[0.5,\"#f7f7f7\"],[0.6,\"#e6f5d0\"],[0.7,\"#b8e186\"],[0.8,\"#7fbc41\"],[0.9,\"#4d9221\"],[1,\"#276419\"]],\"sequential\":[[0.0,\"#0d0887\"],[0.1111111111111111,\"#46039f\"],[0.2222222222222222,\"#7201a8\"],[0.3333333333333333,\"#9c179e\"],[0.4444444444444444,\"#bd3786\"],[0.5555555555555556,\"#d8576b\"],[0.6666666666666666,\"#ed7953\"],[0.7777777777777778,\"#fb9f3a\"],[0.8888888888888888,\"#fdca26\"],[1.0,\"#f0f921\"]],\"sequentialminus\":[[0.0,\"#0d0887\"],[0.1111111111111111,\"#46039f\"],[0.2222222222222222,\"#7201a8\"],[0.3333333333333333,\"#9c179e\"],[0.4444444444444444,\"#bd3786\"],[0.5555555555555556,\"#d8576b\"],[0.6666666666666666,\"#ed7953\"],[0.7777777777777778,\"#fb9f3a\"],[0.8888888888888888,\"#fdca26\"],[1.0,\"#f0f921\"]]},\"colorway\":[\"#636efa\",\"#EF553B\",\"#00cc96\",\"#ab63fa\",\"#FFA15A\",\"#19d3f3\",\"#FF6692\",\"#B6E880\",\"#FF97FF\",\"#FECB52\"],\"font\":{\"color\":\"#2a3f5f\"},\"geo\":{\"bgcolor\":\"white\",\"lakecolor\":\"white\",\"landcolor\":\"#E5ECF6\",\"showlakes\":true,\"showland\":true,\"subunitcolor\":\"white\"},\"hoverlabel\":{\"align\":\"left\"},\"hovermode\":\"closest\",\"mapbox\":{\"style\":\"light\"},\"paper_bgcolor\":\"white\",\"plot_bgcolor\":\"#E5ECF6\",\"polar\":{\"angularaxis\":{\"gridcolor\":\"white\",\"linecolor\":\"white\",\"ticks\":\"\"},\"bgcolor\":\"#E5ECF6\",\"radialaxis\":{\"gridcolor\":\"white\",\"linecolor\":\"white\",\"ticks\":\"\"}},\"scene\":{\"xaxis\":{\"backgroundcolor\":\"#E5ECF6\",\"gridcolor\":\"white\",\"gridwidth\":2,\"linecolor\":\"white\",\"showbackground\":true,\"ticks\":\"\",\"zerolinecolor\":\"white\"},\"yaxis\":{\"backgroundcolor\":\"#E5ECF6\",\"gridcolor\":\"white\",\"gridwidth\":2,\"linecolor\":\"white\",\"showbackground\":true,\"ticks\":\"\",\"zerolinecolor\":\"white\"},\"zaxis\":{\"backgroundcolor\":\"#E5ECF6\",\"gridcolor\":\"white\",\"gridwidth\":2,\"linecolor\":\"white\",\"showbackground\":true,\"ticks\":\"\",\"zerolinecolor\":\"white\"}},\"shapedefaults\":{\"line\":{\"color\":\"#2a3f5f\"}},\"ternary\":{\"aaxis\":{\"gridcolor\":\"white\",\"linecolor\":\"white\",\"ticks\":\"\"},\"baxis\":{\"gridcolor\":\"white\",\"linecolor\":\"white\",\"ticks\":\"\"},\"bgcolor\":\"#E5ECF6\",\"caxis\":{\"gridcolor\":\"white\",\"linecolor\":\"white\",\"ticks\":\"\"}},\"title\":{\"x\":0.05},\"xaxis\":{\"automargin\":true,\"gridcolor\":\"white\",\"linecolor\":\"white\",\"ticks\":\"\",\"title\":{\"standoff\":15},\"zerolinecolor\":\"white\",\"zerolinewidth\":2},\"yaxis\":{\"automargin\":true,\"gridcolor\":\"white\",\"linecolor\":\"white\",\"ticks\":\"\",\"title\":{\"standoff\":15},\"zerolinecolor\":\"white\",\"zerolinewidth\":2}}},\"polar\":{\"domain\":{\"x\":[0.0,1.0],\"y\":[0.0,1.0]},\"angularaxis\":{\"direction\":\"clockwise\",\"rotation\":90}},\"legend\":{\"title\":{\"text\":\"clusters\"},\"tracegroupgap\":0},\"margin\":{\"t\":60},\"height\":800,\"width\":800},                        {\"responsive\": true}                    ).then(function(){\n",
       "                            \n",
       "var gd = document.getElementById('7e98d24c-5c4b-4771-afdb-49f15a0545e4');\n",
       "var x = new MutationObserver(function (mutations, observer) {{\n",
       "        var display = window.getComputedStyle(gd).display;\n",
       "        if (!display || display === 'none') {{\n",
       "            console.log([gd, 'removed!']);\n",
       "            Plotly.purge(gd);\n",
       "            observer.disconnect();\n",
       "        }}\n",
       "}});\n",
       "\n",
       "// Listen for the removal of the full notebook cells\n",
       "var notebookContainer = gd.closest('#notebook-container');\n",
       "if (notebookContainer) {{\n",
       "    x.observe(notebookContainer, {childList: true});\n",
       "}}\n",
       "\n",
       "// Listen for the clearing of the current output cell\n",
       "var outputEl = gd.closest('.output');\n",
       "if (outputEl) {{\n",
       "    x.observe(outputEl, {childList: true});\n",
       "}}\n",
       "\n",
       "                        })                };                });            </script>        </div>"
      ]
     },
     "metadata": {},
     "output_type": "display_data"
    }
   ],
   "source": [
    "import plotly.express as px\n",
    "fig = px.line_polar(cluster_summary.melt(id_vars = 'index'), r='value', theta='index', color = 'clusters', line_close=True,  width=800, height=800)\n",
    "fig.show()"
   ]
  },
  {
   "cell_type": "code",
   "execution_count": 55,
   "id": "f8657534-5bda-4196-b7bd-de9542ce1f6c",
   "metadata": {
    "tags": []
   },
   "outputs": [],
   "source": [
    "nombres_clusters = {\n",
    "    4 : 'Plata',\n",
    "    0 : 'Normal',\n",
    "    1 : 'Diamante',\n",
    "    3 : 'Oro',\n",
    "    2 : 'Bronce'\n",
    "}"
   ]
  },
  {
   "cell_type": "code",
   "execution_count": 56,
   "id": "173606c7-cf02-4b4f-8d7e-cf45b1909ea0",
   "metadata": {},
   "outputs": [
    {
     "name": "stderr",
     "output_type": "stream",
     "text": [
      "/var/folders/c0/ffsv0l194g90gxqj1nlsmvdw0000gn/T/ipykernel_93071/3112904505.py:1: SettingWithCopyWarning:\n",
      "\n",
      "\n",
      "A value is trying to be set on a copy of a slice from a DataFrame.\n",
      "Try using .loc[row_indexer,col_indexer] = value instead\n",
      "\n",
      "See the caveats in the documentation: https://pandas.pydata.org/pandas-docs/stable/user_guide/indexing.html#returning-a-view-versus-a-copy\n",
      "\n"
     ]
    }
   ],
   "source": [
    "df_data_prueba_2['cluster_names'] = df_data_prueba_2.clusters.apply(lambda x: nombres_clusters[x])"
   ]
  },
  {
   "cell_type": "code",
   "execution_count": 77,
   "id": "f9c340c6-7883-4614-b113-3cf97fa5860d",
   "metadata": {},
   "outputs": [
    {
     "data": {
      "text/html": [
       "<div>\n",
       "<style scoped>\n",
       "    .dataframe tbody tr th:only-of-type {\n",
       "        vertical-align: middle;\n",
       "    }\n",
       "\n",
       "    .dataframe tbody tr th {\n",
       "        vertical-align: top;\n",
       "    }\n",
       "\n",
       "    .dataframe thead th {\n",
       "        text-align: right;\n",
       "    }\n",
       "</style>\n",
       "<table border=\"1\" class=\"dataframe\">\n",
       "  <thead>\n",
       "    <tr style=\"text-align: right;\">\n",
       "      <th></th>\n",
       "      <th>utilidad_real</th>\n",
       "      <th>inversion</th>\n",
       "      <th>compras_cliente</th>\n",
       "      <th>clusters</th>\n",
       "      <th>cluster_names</th>\n",
       "      <th>vendedor</th>\n",
       "    </tr>\n",
       "    <tr>\n",
       "      <th>cliente</th>\n",
       "      <th></th>\n",
       "      <th></th>\n",
       "      <th></th>\n",
       "      <th></th>\n",
       "      <th></th>\n",
       "      <th></th>\n",
       "    </tr>\n",
       "  </thead>\n",
       "  <tbody>\n",
       "    <tr>\n",
       "      <th>GRUPO XCARET</th>\n",
       "      <td>10.990123</td>\n",
       "      <td>7.184035</td>\n",
       "      <td>0.448571</td>\n",
       "      <td>1</td>\n",
       "      <td>Diamante</td>\n",
       "      <td>YANET FLORES</td>\n",
       "    </tr>\n",
       "    <tr>\n",
       "      <th>VIDANTA</th>\n",
       "      <td>7.388737</td>\n",
       "      <td>5.314949</td>\n",
       "      <td>4.024040</td>\n",
       "      <td>1</td>\n",
       "      <td>Diamante</td>\n",
       "      <td>YANET FLORES</td>\n",
       "    </tr>\n",
       "  </tbody>\n",
       "</table>\n",
       "</div>"
      ],
      "text/plain": [
       "              utilidad_real  inversion  compras_cliente  clusters  \\\n",
       "cliente                                                             \n",
       "GRUPO XCARET      10.990123   7.184035         0.448571         1   \n",
       "VIDANTA            7.388737   5.314949         4.024040         1   \n",
       "\n",
       "             cluster_names      vendedor  \n",
       "cliente                                   \n",
       "GRUPO XCARET      Diamante  YANET FLORES  \n",
       "VIDANTA           Diamante  YANET FLORES  "
      ]
     },
     "execution_count": 77,
     "metadata": {},
     "output_type": "execute_result"
    }
   ],
   "source": [
    "df_data_prueba_2[df_data_prueba_2.cluster_names=='Diamante']"
   ]
  },
  {
   "cell_type": "code",
   "execution_count": 78,
   "id": "ab5d3c15-e5d5-4881-a210-490a73fe7750",
   "metadata": {},
   "outputs": [
    {
     "data": {
      "text/html": [
       "<div>\n",
       "<style scoped>\n",
       "    .dataframe tbody tr th:only-of-type {\n",
       "        vertical-align: middle;\n",
       "    }\n",
       "\n",
       "    .dataframe tbody tr th {\n",
       "        vertical-align: top;\n",
       "    }\n",
       "\n",
       "    .dataframe thead th {\n",
       "        text-align: right;\n",
       "    }\n",
       "</style>\n",
       "<table border=\"1\" class=\"dataframe\">\n",
       "  <thead>\n",
       "    <tr style=\"text-align: right;\">\n",
       "      <th></th>\n",
       "      <th>utilidad_real</th>\n",
       "      <th>inversion</th>\n",
       "      <th>compras_cliente</th>\n",
       "      <th>clusters</th>\n",
       "      <th>cluster_names</th>\n",
       "      <th>vendedor</th>\n",
       "    </tr>\n",
       "    <tr>\n",
       "      <th>cliente</th>\n",
       "      <th></th>\n",
       "      <th></th>\n",
       "      <th></th>\n",
       "      <th></th>\n",
       "      <th></th>\n",
       "      <th></th>\n",
       "    </tr>\n",
       "  </thead>\n",
       "  <tbody>\n",
       "    <tr>\n",
       "      <th>PILGRIMS</th>\n",
       "      <td>6.238962</td>\n",
       "      <td>7.015962</td>\n",
       "      <td>14.495056</td>\n",
       "      <td>3</td>\n",
       "      <td>Oro</td>\n",
       "      <td>YANET FLORES</td>\n",
       "    </tr>\n",
       "  </tbody>\n",
       "</table>\n",
       "</div>"
      ],
      "text/plain": [
       "          utilidad_real  inversion  compras_cliente  clusters cluster_names  \\\n",
       "cliente                                                                       \n",
       "PILGRIMS       6.238962   7.015962        14.495056         3           Oro   \n",
       "\n",
       "              vendedor  \n",
       "cliente                 \n",
       "PILGRIMS  YANET FLORES  "
      ]
     },
     "execution_count": 78,
     "metadata": {},
     "output_type": "execute_result"
    }
   ],
   "source": [
    "df_data_prueba_2[df_data_prueba_2.cluster_names=='Oro']"
   ]
  },
  {
   "cell_type": "code",
   "execution_count": 79,
   "id": "e4bb64d1-8dee-49a4-ad9f-9f8bd9ac5a5c",
   "metadata": {},
   "outputs": [
    {
     "data": {
      "text/html": [
       "<div>\n",
       "<style scoped>\n",
       "    .dataframe tbody tr th:only-of-type {\n",
       "        vertical-align: middle;\n",
       "    }\n",
       "\n",
       "    .dataframe tbody tr th {\n",
       "        vertical-align: top;\n",
       "    }\n",
       "\n",
       "    .dataframe thead th {\n",
       "        text-align: right;\n",
       "    }\n",
       "</style>\n",
       "<table border=\"1\" class=\"dataframe\">\n",
       "  <thead>\n",
       "    <tr style=\"text-align: right;\">\n",
       "      <th></th>\n",
       "      <th>utilidad_real</th>\n",
       "      <th>inversion</th>\n",
       "      <th>compras_cliente</th>\n",
       "      <th>clusters</th>\n",
       "      <th>cluster_names</th>\n",
       "      <th>vendedor</th>\n",
       "    </tr>\n",
       "    <tr>\n",
       "      <th>cliente</th>\n",
       "      <th></th>\n",
       "      <th></th>\n",
       "      <th></th>\n",
       "      <th></th>\n",
       "      <th></th>\n",
       "      <th></th>\n",
       "    </tr>\n",
       "  </thead>\n",
       "  <tbody>\n",
       "    <tr>\n",
       "      <th>BANJERCITO</th>\n",
       "      <td>3.167859</td>\n",
       "      <td>6.195176</td>\n",
       "      <td>-0.062211</td>\n",
       "      <td>4</td>\n",
       "      <td>Plata</td>\n",
       "      <td>ADRIAN GUEVARA</td>\n",
       "    </tr>\n",
       "    <tr>\n",
       "      <th>HYUNDAI</th>\n",
       "      <td>4.174015</td>\n",
       "      <td>5.511758</td>\n",
       "      <td>1.214743</td>\n",
       "      <td>4</td>\n",
       "      <td>Plata</td>\n",
       "      <td>JESSICA OSORIO</td>\n",
       "    </tr>\n",
       "    <tr>\n",
       "      <th>INAI</th>\n",
       "      <td>3.761879</td>\n",
       "      <td>4.193832</td>\n",
       "      <td>1.214743</td>\n",
       "      <td>4</td>\n",
       "      <td>Plata</td>\n",
       "      <td>ADRIAN GUEVARA</td>\n",
       "    </tr>\n",
       "    <tr>\n",
       "      <th>ISSFAM</th>\n",
       "      <td>2.691333</td>\n",
       "      <td>3.471032</td>\n",
       "      <td>-0.317601</td>\n",
       "      <td>4</td>\n",
       "      <td>Plata</td>\n",
       "      <td>ADRIAN GUEVARA</td>\n",
       "    </tr>\n",
       "    <tr>\n",
       "      <th>MAR NUKS</th>\n",
       "      <td>2.071062</td>\n",
       "      <td>5.196348</td>\n",
       "      <td>3.257868</td>\n",
       "      <td>4</td>\n",
       "      <td>Plata</td>\n",
       "      <td>CRISTIAN HERNANDEZ</td>\n",
       "    </tr>\n",
       "  </tbody>\n",
       "</table>\n",
       "</div>"
      ],
      "text/plain": [
       "            utilidad_real  inversion  compras_cliente  clusters cluster_names  \\\n",
       "cliente                                                                         \n",
       "BANJERCITO       3.167859   6.195176        -0.062211         4         Plata   \n",
       "HYUNDAI          4.174015   5.511758         1.214743         4         Plata   \n",
       "INAI             3.761879   4.193832         1.214743         4         Plata   \n",
       "ISSFAM           2.691333   3.471032        -0.317601         4         Plata   \n",
       "MAR NUKS         2.071062   5.196348         3.257868         4         Plata   \n",
       "\n",
       "                      vendedor  \n",
       "cliente                         \n",
       "BANJERCITO      ADRIAN GUEVARA  \n",
       "HYUNDAI         JESSICA OSORIO  \n",
       "INAI            ADRIAN GUEVARA  \n",
       "ISSFAM          ADRIAN GUEVARA  \n",
       "MAR NUKS    CRISTIAN HERNANDEZ  "
      ]
     },
     "execution_count": 79,
     "metadata": {},
     "output_type": "execute_result"
    }
   ],
   "source": [
    "df_data_prueba_2[df_data_prueba_2.cluster_names=='Plata']"
   ]
  },
  {
   "cell_type": "code",
   "execution_count": 80,
   "id": "078acde4-8ae0-4338-9bf8-70d8c60a24b0",
   "metadata": {},
   "outputs": [
    {
     "data": {
      "text/html": [
       "<div>\n",
       "<style scoped>\n",
       "    .dataframe tbody tr th:only-of-type {\n",
       "        vertical-align: middle;\n",
       "    }\n",
       "\n",
       "    .dataframe tbody tr th {\n",
       "        vertical-align: top;\n",
       "    }\n",
       "\n",
       "    .dataframe thead th {\n",
       "        text-align: right;\n",
       "    }\n",
       "</style>\n",
       "<table border=\"1\" class=\"dataframe\">\n",
       "  <thead>\n",
       "    <tr style=\"text-align: right;\">\n",
       "      <th></th>\n",
       "      <th>utilidad_real</th>\n",
       "      <th>inversion</th>\n",
       "      <th>compras_cliente</th>\n",
       "      <th>clusters</th>\n",
       "      <th>cluster_names</th>\n",
       "      <th>vendedor</th>\n",
       "    </tr>\n",
       "    <tr>\n",
       "      <th>cliente</th>\n",
       "      <th></th>\n",
       "      <th></th>\n",
       "      <th></th>\n",
       "      <th></th>\n",
       "      <th></th>\n",
       "      <th></th>\n",
       "    </tr>\n",
       "  </thead>\n",
       "  <tbody>\n",
       "    <tr>\n",
       "      <th>ADHETEC</th>\n",
       "      <td>0.711869</td>\n",
       "      <td>0.793367</td>\n",
       "      <td>2.747087</td>\n",
       "      <td>2</td>\n",
       "      <td>Bronce</td>\n",
       "      <td>CRISTIAN HERNANDEZ</td>\n",
       "    </tr>\n",
       "    <tr>\n",
       "      <th>ADSPACE</th>\n",
       "      <td>0.525880</td>\n",
       "      <td>0.429160</td>\n",
       "      <td>1.214743</td>\n",
       "      <td>2</td>\n",
       "      <td>Bronce</td>\n",
       "      <td>NORMA MARTINEZ</td>\n",
       "    </tr>\n",
       "    <tr>\n",
       "      <th>ALEJANDRA LEPE</th>\n",
       "      <td>0.629680</td>\n",
       "      <td>0.949650</td>\n",
       "      <td>1.214743</td>\n",
       "      <td>2</td>\n",
       "      <td>Bronce</td>\n",
       "      <td>JESSICA OSORIO</td>\n",
       "    </tr>\n",
       "    <tr>\n",
       "      <th>ALFONSO MUÑOZ</th>\n",
       "      <td>-0.071724</td>\n",
       "      <td>0.087237</td>\n",
       "      <td>2.236305</td>\n",
       "      <td>2</td>\n",
       "      <td>Bronce</td>\n",
       "      <td>JESSICA OSORIO</td>\n",
       "    </tr>\n",
       "    <tr>\n",
       "      <th>ANDRE PRODUCTOS</th>\n",
       "      <td>2.971402</td>\n",
       "      <td>0.690930</td>\n",
       "      <td>0.703961</td>\n",
       "      <td>2</td>\n",
       "      <td>Bronce</td>\n",
       "      <td>YANET FLORES</td>\n",
       "    </tr>\n",
       "    <tr>\n",
       "      <th>BERENICE GALLEGOS</th>\n",
       "      <td>-0.111205</td>\n",
       "      <td>-0.020772</td>\n",
       "      <td>0.959352</td>\n",
       "      <td>2</td>\n",
       "      <td>Bronce</td>\n",
       "      <td>CRISTIAN HERNANDEZ</td>\n",
       "    </tr>\n",
       "    <tr>\n",
       "      <th>CARLOS QUILPAS</th>\n",
       "      <td>-0.152181</td>\n",
       "      <td>-0.109307</td>\n",
       "      <td>0.959352</td>\n",
       "      <td>2</td>\n",
       "      <td>Bronce</td>\n",
       "      <td>JESSICA OSORIO</td>\n",
       "    </tr>\n",
       "    <tr>\n",
       "      <th>CASA ARMANDO GUILLERMO PRIETO</th>\n",
       "      <td>0.985737</td>\n",
       "      <td>0.986511</td>\n",
       "      <td>0.193180</td>\n",
       "      <td>2</td>\n",
       "      <td>Bronce</td>\n",
       "      <td>YANET FLORES</td>\n",
       "    </tr>\n",
       "    <tr>\n",
       "      <th>CENCOR</th>\n",
       "      <td>-0.101361</td>\n",
       "      <td>-0.324763</td>\n",
       "      <td>1.214743</td>\n",
       "      <td>2</td>\n",
       "      <td>Bronce</td>\n",
       "      <td>YANET FLORES</td>\n",
       "    </tr>\n",
       "    <tr>\n",
       "      <th>CREANDO MARCAS</th>\n",
       "      <td>-0.005121</td>\n",
       "      <td>0.031821</td>\n",
       "      <td>0.959352</td>\n",
       "      <td>2</td>\n",
       "      <td>Bronce</td>\n",
       "      <td>NORMA MARTINEZ</td>\n",
       "    </tr>\n",
       "    <tr>\n",
       "      <th>DRUCKIDEE</th>\n",
       "      <td>-0.049123</td>\n",
       "      <td>0.039707</td>\n",
       "      <td>1.470133</td>\n",
       "      <td>2</td>\n",
       "      <td>Bronce</td>\n",
       "      <td>NORMA MARTINEZ</td>\n",
       "    </tr>\n",
       "    <tr>\n",
       "      <th>DSV</th>\n",
       "      <td>0.604240</td>\n",
       "      <td>1.069490</td>\n",
       "      <td>1.214743</td>\n",
       "      <td>2</td>\n",
       "      <td>Bronce</td>\n",
       "      <td>JESSICA OSORIO</td>\n",
       "    </tr>\n",
       "    <tr>\n",
       "      <th>EQF</th>\n",
       "      <td>0.458977</td>\n",
       "      <td>0.834364</td>\n",
       "      <td>0.193180</td>\n",
       "      <td>2</td>\n",
       "      <td>Bronce</td>\n",
       "      <td>NORMA MARTINEZ</td>\n",
       "    </tr>\n",
       "    <tr>\n",
       "      <th>EYMSA</th>\n",
       "      <td>0.856660</td>\n",
       "      <td>-0.151976</td>\n",
       "      <td>0.448571</td>\n",
       "      <td>2</td>\n",
       "      <td>Bronce</td>\n",
       "      <td>YANET FLORES</td>\n",
       "    </tr>\n",
       "    <tr>\n",
       "      <th>GREENLANDER</th>\n",
       "      <td>0.169664</td>\n",
       "      <td>0.242131</td>\n",
       "      <td>0.959352</td>\n",
       "      <td>2</td>\n",
       "      <td>Bronce</td>\n",
       "      <td>NORMA MARTINEZ</td>\n",
       "    </tr>\n",
       "    <tr>\n",
       "      <th>GRUPO HAMMER</th>\n",
       "      <td>0.701680</td>\n",
       "      <td>1.427354</td>\n",
       "      <td>1.214743</td>\n",
       "      <td>2</td>\n",
       "      <td>Bronce</td>\n",
       "      <td>NORMA MARTINEZ</td>\n",
       "    </tr>\n",
       "    <tr>\n",
       "      <th>GRUPO HOTELERO OSTAR (INSALMAR)</th>\n",
       "      <td>1.193190</td>\n",
       "      <td>1.429229</td>\n",
       "      <td>-0.062211</td>\n",
       "      <td>2</td>\n",
       "      <td>Bronce</td>\n",
       "      <td>NORMA MARTINEZ</td>\n",
       "    </tr>\n",
       "    <tr>\n",
       "      <th>HACIENDA ENCANTADA</th>\n",
       "      <td>1.091021</td>\n",
       "      <td>1.159577</td>\n",
       "      <td>0.959352</td>\n",
       "      <td>2</td>\n",
       "      <td>Bronce</td>\n",
       "      <td>JESSICA OSORIO</td>\n",
       "    </tr>\n",
       "    <tr>\n",
       "      <th>HOTEL EL GANZO</th>\n",
       "      <td>0.215272</td>\n",
       "      <td>-0.015283</td>\n",
       "      <td>1.470133</td>\n",
       "      <td>2</td>\n",
       "      <td>Bronce</td>\n",
       "      <td>YANET FLORES</td>\n",
       "    </tr>\n",
       "    <tr>\n",
       "      <th>HSH IDEA INTERIOR</th>\n",
       "      <td>0.176128</td>\n",
       "      <td>0.410704</td>\n",
       "      <td>0.959352</td>\n",
       "      <td>2</td>\n",
       "      <td>Bronce</td>\n",
       "      <td>NORMA MARTINEZ</td>\n",
       "    </tr>\n",
       "    <tr>\n",
       "      <th>JARDINES DE MEXICO</th>\n",
       "      <td>0.138723</td>\n",
       "      <td>0.215082</td>\n",
       "      <td>0.448571</td>\n",
       "      <td>2</td>\n",
       "      <td>Bronce</td>\n",
       "      <td>ADRIAN GUEVARA</td>\n",
       "    </tr>\n",
       "    <tr>\n",
       "      <th>JARDINES DE MÉXICO</th>\n",
       "      <td>1.768578</td>\n",
       "      <td>0.796193</td>\n",
       "      <td>0.703961</td>\n",
       "      <td>2</td>\n",
       "      <td>Bronce</td>\n",
       "      <td>ADRIAN GUEVARA</td>\n",
       "    </tr>\n",
       "    <tr>\n",
       "      <th>LERAM</th>\n",
       "      <td>0.740538</td>\n",
       "      <td>1.025409</td>\n",
       "      <td>-0.062211</td>\n",
       "      <td>2</td>\n",
       "      <td>Bronce</td>\n",
       "      <td>ADRIAN GUEVARA</td>\n",
       "    </tr>\n",
       "    <tr>\n",
       "      <th>LOCH MARKETING</th>\n",
       "      <td>0.196801</td>\n",
       "      <td>0.014139</td>\n",
       "      <td>0.703961</td>\n",
       "      <td>2</td>\n",
       "      <td>Bronce</td>\n",
       "      <td>NORMA MARTINEZ</td>\n",
       "    </tr>\n",
       "    <tr>\n",
       "      <th>MEDICAL CENTER</th>\n",
       "      <td>0.140947</td>\n",
       "      <td>-0.123350</td>\n",
       "      <td>1.980915</td>\n",
       "      <td>2</td>\n",
       "      <td>Bronce</td>\n",
       "      <td>JESSICA OSORIO</td>\n",
       "    </tr>\n",
       "    <tr>\n",
       "      <th>MEXICANA DE BECAS</th>\n",
       "      <td>-0.135029</td>\n",
       "      <td>-0.042471</td>\n",
       "      <td>0.703961</td>\n",
       "      <td>2</td>\n",
       "      <td>Bronce</td>\n",
       "      <td>CRISTIAN HERNANDEZ</td>\n",
       "    </tr>\n",
       "    <tr>\n",
       "      <th>MITSUBISHI</th>\n",
       "      <td>-0.092982</td>\n",
       "      <td>-0.107747</td>\n",
       "      <td>0.703961</td>\n",
       "      <td>2</td>\n",
       "      <td>Bronce</td>\n",
       "      <td>NORMA MARTINEZ</td>\n",
       "    </tr>\n",
       "    <tr>\n",
       "      <th>NEOLPHARMA</th>\n",
       "      <td>0.115741</td>\n",
       "      <td>0.283376</td>\n",
       "      <td>0.448571</td>\n",
       "      <td>2</td>\n",
       "      <td>Bronce</td>\n",
       "      <td>NORMA MARTINEZ</td>\n",
       "    </tr>\n",
       "    <tr>\n",
       "      <th>NH HOTELES</th>\n",
       "      <td>1.359771</td>\n",
       "      <td>1.198107</td>\n",
       "      <td>1.725524</td>\n",
       "      <td>2</td>\n",
       "      <td>Bronce</td>\n",
       "      <td>YANET FLORES</td>\n",
       "    </tr>\n",
       "    <tr>\n",
       "      <th>PLASSON</th>\n",
       "      <td>0.065359</td>\n",
       "      <td>0.377526</td>\n",
       "      <td>1.980915</td>\n",
       "      <td>2</td>\n",
       "      <td>Bronce</td>\n",
       "      <td>CRISTIAN HERNANDEZ</td>\n",
       "    </tr>\n",
       "    <tr>\n",
       "      <th>PROMODA</th>\n",
       "      <td>0.155342</td>\n",
       "      <td>0.347384</td>\n",
       "      <td>1.214743</td>\n",
       "      <td>2</td>\n",
       "      <td>Bronce</td>\n",
       "      <td>NORMA MARTINEZ</td>\n",
       "    </tr>\n",
       "    <tr>\n",
       "      <th>QUIMICA SONS</th>\n",
       "      <td>0.496508</td>\n",
       "      <td>1.945026</td>\n",
       "      <td>0.703961</td>\n",
       "      <td>2</td>\n",
       "      <td>Bronce</td>\n",
       "      <td>JESSICA OSORIO</td>\n",
       "    </tr>\n",
       "    <tr>\n",
       "      <th>SERGIO RENAN</th>\n",
       "      <td>-0.201455</td>\n",
       "      <td>-0.290015</td>\n",
       "      <td>1.214743</td>\n",
       "      <td>2</td>\n",
       "      <td>Bronce</td>\n",
       "      <td>CRISTIAN HERNANDEZ</td>\n",
       "    </tr>\n",
       "    <tr>\n",
       "      <th>SGM</th>\n",
       "      <td>1.223269</td>\n",
       "      <td>1.389225</td>\n",
       "      <td>0.703961</td>\n",
       "      <td>2</td>\n",
       "      <td>Bronce</td>\n",
       "      <td>ADRIAN GUEVARA</td>\n",
       "    </tr>\n",
       "    <tr>\n",
       "      <th>SIGMA</th>\n",
       "      <td>0.177246</td>\n",
       "      <td>0.394918</td>\n",
       "      <td>0.703961</td>\n",
       "      <td>2</td>\n",
       "      <td>Bronce</td>\n",
       "      <td>CARLOS ACOSTA</td>\n",
       "    </tr>\n",
       "    <tr>\n",
       "      <th>SONS</th>\n",
       "      <td>1.006012</td>\n",
       "      <td>2.777237</td>\n",
       "      <td>0.448571</td>\n",
       "      <td>2</td>\n",
       "      <td>Bronce</td>\n",
       "      <td>JESSICA OSORIO</td>\n",
       "    </tr>\n",
       "    <tr>\n",
       "      <th>TMD FRICTION</th>\n",
       "      <td>0.062027</td>\n",
       "      <td>0.396191</td>\n",
       "      <td>0.448571</td>\n",
       "      <td>2</td>\n",
       "      <td>Bronce</td>\n",
       "      <td>CRISTIAN HERNANDEZ</td>\n",
       "    </tr>\n",
       "    <tr>\n",
       "      <th>TOTAL PLAY</th>\n",
       "      <td>0.843270</td>\n",
       "      <td>1.619364</td>\n",
       "      <td>0.703961</td>\n",
       "      <td>2</td>\n",
       "      <td>Bronce</td>\n",
       "      <td>CARLOS ACOSTA</td>\n",
       "    </tr>\n",
       "    <tr>\n",
       "      <th>TRANSPORTES STAR</th>\n",
       "      <td>0.018042</td>\n",
       "      <td>0.203986</td>\n",
       "      <td>0.448571</td>\n",
       "      <td>2</td>\n",
       "      <td>Bronce</td>\n",
       "      <td>ADRIAN GUEVARA</td>\n",
       "    </tr>\n",
       "  </tbody>\n",
       "</table>\n",
       "</div>"
      ],
      "text/plain": [
       "                                 utilidad_real  inversion  compras_cliente  \\\n",
       "cliente                                                                      \n",
       "ADHETEC                               0.711869   0.793367         2.747087   \n",
       "ADSPACE                               0.525880   0.429160         1.214743   \n",
       "ALEJANDRA LEPE                        0.629680   0.949650         1.214743   \n",
       "ALFONSO MUÑOZ                        -0.071724   0.087237         2.236305   \n",
       "ANDRE PRODUCTOS                       2.971402   0.690930         0.703961   \n",
       "BERENICE GALLEGOS                    -0.111205  -0.020772         0.959352   \n",
       "CARLOS QUILPAS                       -0.152181  -0.109307         0.959352   \n",
       "CASA ARMANDO GUILLERMO PRIETO         0.985737   0.986511         0.193180   \n",
       "CENCOR                               -0.101361  -0.324763         1.214743   \n",
       "CREANDO MARCAS                       -0.005121   0.031821         0.959352   \n",
       "DRUCKIDEE                            -0.049123   0.039707         1.470133   \n",
       "DSV                                   0.604240   1.069490         1.214743   \n",
       "EQF                                   0.458977   0.834364         0.193180   \n",
       "EYMSA                                 0.856660  -0.151976         0.448571   \n",
       "GREENLANDER                           0.169664   0.242131         0.959352   \n",
       "GRUPO HAMMER                          0.701680   1.427354         1.214743   \n",
       "GRUPO HOTELERO OSTAR (INSALMAR)       1.193190   1.429229        -0.062211   \n",
       "HACIENDA ENCANTADA                    1.091021   1.159577         0.959352   \n",
       "HOTEL EL GANZO                        0.215272  -0.015283         1.470133   \n",
       "HSH IDEA INTERIOR                     0.176128   0.410704         0.959352   \n",
       "JARDINES DE MEXICO                    0.138723   0.215082         0.448571   \n",
       "JARDINES DE MÉXICO                    1.768578   0.796193         0.703961   \n",
       "LERAM                                 0.740538   1.025409        -0.062211   \n",
       "LOCH MARKETING                        0.196801   0.014139         0.703961   \n",
       "MEDICAL CENTER                        0.140947  -0.123350         1.980915   \n",
       "MEXICANA DE BECAS                    -0.135029  -0.042471         0.703961   \n",
       "MITSUBISHI                           -0.092982  -0.107747         0.703961   \n",
       "NEOLPHARMA                            0.115741   0.283376         0.448571   \n",
       "NH HOTELES                            1.359771   1.198107         1.725524   \n",
       "PLASSON                               0.065359   0.377526         1.980915   \n",
       "PROMODA                               0.155342   0.347384         1.214743   \n",
       "QUIMICA SONS                          0.496508   1.945026         0.703961   \n",
       "SERGIO RENAN                         -0.201455  -0.290015         1.214743   \n",
       "SGM                                   1.223269   1.389225         0.703961   \n",
       "SIGMA                                 0.177246   0.394918         0.703961   \n",
       "SONS                                  1.006012   2.777237         0.448571   \n",
       "TMD FRICTION                          0.062027   0.396191         0.448571   \n",
       "TOTAL PLAY                            0.843270   1.619364         0.703961   \n",
       "TRANSPORTES STAR                      0.018042   0.203986         0.448571   \n",
       "\n",
       "                                 clusters cluster_names            vendedor  \n",
       "cliente                                                                      \n",
       "ADHETEC                                 2        Bronce  CRISTIAN HERNANDEZ  \n",
       "ADSPACE                                 2        Bronce      NORMA MARTINEZ  \n",
       "ALEJANDRA LEPE                          2        Bronce      JESSICA OSORIO  \n",
       "ALFONSO MUÑOZ                           2        Bronce      JESSICA OSORIO  \n",
       "ANDRE PRODUCTOS                         2        Bronce        YANET FLORES  \n",
       "BERENICE GALLEGOS                       2        Bronce  CRISTIAN HERNANDEZ  \n",
       "CARLOS QUILPAS                          2        Bronce      JESSICA OSORIO  \n",
       "CASA ARMANDO GUILLERMO PRIETO           2        Bronce        YANET FLORES  \n",
       "CENCOR                                  2        Bronce        YANET FLORES  \n",
       "CREANDO MARCAS                          2        Bronce      NORMA MARTINEZ  \n",
       "DRUCKIDEE                               2        Bronce      NORMA MARTINEZ  \n",
       "DSV                                     2        Bronce      JESSICA OSORIO  \n",
       "EQF                                     2        Bronce      NORMA MARTINEZ  \n",
       "EYMSA                                   2        Bronce        YANET FLORES  \n",
       "GREENLANDER                             2        Bronce      NORMA MARTINEZ  \n",
       "GRUPO HAMMER                            2        Bronce      NORMA MARTINEZ  \n",
       "GRUPO HOTELERO OSTAR (INSALMAR)         2        Bronce      NORMA MARTINEZ  \n",
       "HACIENDA ENCANTADA                      2        Bronce      JESSICA OSORIO  \n",
       "HOTEL EL GANZO                          2        Bronce        YANET FLORES  \n",
       "HSH IDEA INTERIOR                       2        Bronce      NORMA MARTINEZ  \n",
       "JARDINES DE MEXICO                      2        Bronce      ADRIAN GUEVARA  \n",
       "JARDINES DE MÉXICO                      2        Bronce      ADRIAN GUEVARA  \n",
       "LERAM                                   2        Bronce      ADRIAN GUEVARA  \n",
       "LOCH MARKETING                          2        Bronce      NORMA MARTINEZ  \n",
       "MEDICAL CENTER                          2        Bronce      JESSICA OSORIO  \n",
       "MEXICANA DE BECAS                       2        Bronce  CRISTIAN HERNANDEZ  \n",
       "MITSUBISHI                              2        Bronce      NORMA MARTINEZ  \n",
       "NEOLPHARMA                              2        Bronce      NORMA MARTINEZ  \n",
       "NH HOTELES                              2        Bronce        YANET FLORES  \n",
       "PLASSON                                 2        Bronce  CRISTIAN HERNANDEZ  \n",
       "PROMODA                                 2        Bronce      NORMA MARTINEZ  \n",
       "QUIMICA SONS                            2        Bronce      JESSICA OSORIO  \n",
       "SERGIO RENAN                            2        Bronce  CRISTIAN HERNANDEZ  \n",
       "SGM                                     2        Bronce      ADRIAN GUEVARA  \n",
       "SIGMA                                   2        Bronce       CARLOS ACOSTA  \n",
       "SONS                                    2        Bronce      JESSICA OSORIO  \n",
       "TMD FRICTION                            2        Bronce  CRISTIAN HERNANDEZ  \n",
       "TOTAL PLAY                              2        Bronce       CARLOS ACOSTA  \n",
       "TRANSPORTES STAR                        2        Bronce      ADRIAN GUEVARA  "
      ]
     },
     "execution_count": 80,
     "metadata": {},
     "output_type": "execute_result"
    }
   ],
   "source": [
    "df_data_prueba_2[df_data_prueba_2.cluster_names=='Bronce']"
   ]
  },
  {
   "cell_type": "code",
   "execution_count": 68,
   "id": "485685dc-4b1e-4959-a67c-743541a482da",
   "metadata": {},
   "outputs": [],
   "source": [
    "df_data_cliente_vendedor_2022 = df_data_2022.groupby('cliente').agg(pd.Series.mode)"
   ]
  },
  {
   "cell_type": "code",
   "execution_count": 75,
   "id": "60a8b756-3f99-44c8-965a-432bdd06111b",
   "metadata": {},
   "outputs": [
    {
     "data": {
      "text/html": [
       "<div>\n",
       "<style scoped>\n",
       "    .dataframe tbody tr th:only-of-type {\n",
       "        vertical-align: middle;\n",
       "    }\n",
       "\n",
       "    .dataframe tbody tr th {\n",
       "        vertical-align: top;\n",
       "    }\n",
       "\n",
       "    .dataframe thead th {\n",
       "        text-align: right;\n",
       "    }\n",
       "</style>\n",
       "<table border=\"1\" class=\"dataframe\">\n",
       "  <thead>\n",
       "    <tr style=\"text-align: right;\">\n",
       "      <th></th>\n",
       "      <th>vendedor</th>\n",
       "    </tr>\n",
       "    <tr>\n",
       "      <th>cliente</th>\n",
       "      <th></th>\n",
       "    </tr>\n",
       "  </thead>\n",
       "  <tbody>\n",
       "    <tr>\n",
       "      <th>ADHETEC</th>\n",
       "      <td>CRISTIAN HERNANDEZ</td>\n",
       "    </tr>\n",
       "    <tr>\n",
       "      <th>ADRIAN GUEVARA</th>\n",
       "      <td>ADRIAN GUEVARA</td>\n",
       "    </tr>\n",
       "    <tr>\n",
       "      <th>ADRIANA</th>\n",
       "      <td>CARLOS ACOSTA</td>\n",
       "    </tr>\n",
       "    <tr>\n",
       "      <th>ADSPACE</th>\n",
       "      <td>NORMA MARTINEZ</td>\n",
       "    </tr>\n",
       "    <tr>\n",
       "      <th>AEROMAR</th>\n",
       "      <td>ADRIAN GUEVARA</td>\n",
       "    </tr>\n",
       "    <tr>\n",
       "      <th>...</th>\n",
       "      <td>...</td>\n",
       "    </tr>\n",
       "    <tr>\n",
       "      <th>YAKULT</th>\n",
       "      <td>CRISTIAN HERNANDEZ</td>\n",
       "    </tr>\n",
       "    <tr>\n",
       "      <th>ZEISS</th>\n",
       "      <td>CRISTIAN HERNANDEZ</td>\n",
       "    </tr>\n",
       "    <tr>\n",
       "      <th>gerardo lomeli</th>\n",
       "      <td>CARLOS ACOSTA</td>\n",
       "    </tr>\n",
       "    <tr>\n",
       "      <th>hirschvogel</th>\n",
       "      <td>JESSICA OSORIO</td>\n",
       "    </tr>\n",
       "    <tr>\n",
       "      <th>ic.veronicabarajas</th>\n",
       "      <td>CARLOS ACOSTA</td>\n",
       "    </tr>\n",
       "  </tbody>\n",
       "</table>\n",
       "<p>312 rows × 1 columns</p>\n",
       "</div>"
      ],
      "text/plain": [
       "                              vendedor\n",
       "cliente                               \n",
       "ADHETEC             CRISTIAN HERNANDEZ\n",
       "ADRIAN GUEVARA          ADRIAN GUEVARA\n",
       "ADRIANA                  CARLOS ACOSTA\n",
       "ADSPACE                 NORMA MARTINEZ\n",
       "AEROMAR                 ADRIAN GUEVARA\n",
       "...                                ...\n",
       "YAKULT              CRISTIAN HERNANDEZ\n",
       "ZEISS               CRISTIAN HERNANDEZ\n",
       "gerardo lomeli           CARLOS ACOSTA\n",
       "hirschvogel             JESSICA OSORIO\n",
       "ic.veronicabarajas       CARLOS ACOSTA\n",
       "\n",
       "[312 rows x 1 columns]"
      ]
     },
     "execution_count": 75,
     "metadata": {},
     "output_type": "execute_result"
    }
   ],
   "source": [
    "df_data_cliente_vendedor_2022[['vendedor']]"
   ]
  },
  {
   "cell_type": "code",
   "execution_count": 76,
   "id": "551ea840-7cc6-4929-b0d3-9d8bbc34c152",
   "metadata": {},
   "outputs": [
    {
     "name": "stderr",
     "output_type": "stream",
     "text": [
      "/var/folders/c0/ffsv0l194g90gxqj1nlsmvdw0000gn/T/ipykernel_93071/1091073001.py:1: SettingWithCopyWarning:\n",
      "\n",
      "\n",
      "A value is trying to be set on a copy of a slice from a DataFrame.\n",
      "Try using .loc[row_indexer,col_indexer] = value instead\n",
      "\n",
      "See the caveats in the documentation: https://pandas.pydata.org/pandas-docs/stable/user_guide/indexing.html#returning-a-view-versus-a-copy\n",
      "\n"
     ]
    }
   ],
   "source": [
    "df_data_prueba_2['vendedor'] = df_data_cliente_vendedor_2022['vendedor']"
   ]
  },
  {
   "cell_type": "code",
   "execution_count": 82,
   "id": "cdbf2631-e74e-40db-b8a2-71c434d8f7e9",
   "metadata": {},
   "outputs": [],
   "source": [
    "df_data_prueba_2.to_csv('data_cluster_2022_vendedor.csv', index=False, encoding='utf-8') "
   ]
  },
  {
   "cell_type": "code",
   "execution_count": null,
   "id": "f36d470e-4c67-475c-b650-b24c8da4dd32",
   "metadata": {
    "tags": []
   },
   "outputs": [],
   "source": []
  },
  {
   "cell_type": "code",
   "execution_count": null,
   "id": "e4d664f3-2bc1-4fc9-8412-1e08b69dd5d6",
   "metadata": {},
   "outputs": [],
   "source": []
  },
  {
   "cell_type": "code",
   "execution_count": 83,
   "id": "fccb26d3-5d14-4b08-b31b-e56d0dc68ef4",
   "metadata": {},
   "outputs": [],
   "source": [
    "df_data_2019 = df_data[df_data.fecha.between('2019-01-01', '2020-01-01')]\n",
    "df_data_2021 = df_data[df_data.fecha.between('2021-01-01', '2022-01-01')]"
   ]
  },
  {
   "cell_type": "code",
   "execution_count": 84,
   "id": "b445893a-4cb2-401b-a610-44d84ecedf9c",
   "metadata": {},
   "outputs": [],
   "source": [
    "df_data_2019_2021 = pd.concat([df_data_2019, df_data_2021], ignore_index=True)"
   ]
  },
  {
   "cell_type": "code",
   "execution_count": 85,
   "id": "1431d81f-a21e-42ec-9126-31beffff54a5",
   "metadata": {},
   "outputs": [],
   "source": [
    "df_data_2019_2021.drop(columns=columnas_drop,inplace=True)"
   ]
  },
  {
   "cell_type": "code",
   "execution_count": 86,
   "id": "444f88d8-c76e-4900-b57a-13771e2b027e",
   "metadata": {},
   "outputs": [],
   "source": [
    "df_data_cliente_2019_2021 = df_data_2019_2021.groupby('cliente').sum()"
   ]
  },
  {
   "cell_type": "code",
   "execution_count": 87,
   "id": "de4ddf9d-df7e-471f-ac11-298b76c4331e",
   "metadata": {},
   "outputs": [],
   "source": [
    "df_data_cliente_2019_2021['compras_cliente'] =  df_data_2019_2021.groupby('cliente').proyecto.nunique()"
   ]
  },
  {
   "cell_type": "code",
   "execution_count": 88,
   "id": "109ccdf5-509c-45d4-8e89-61f4ca9a53ed",
   "metadata": {},
   "outputs": [],
   "source": [
    "df_data_prueba_2019_2021 = df_data_cliente_2019_2021[['utilidad_real','inversion','compras_cliente']]"
   ]
  },
  {
   "cell_type": "code",
   "execution_count": 89,
   "id": "53b3ff26-4bb4-4124-9712-dfcbc856ad28",
   "metadata": {},
   "outputs": [
    {
     "name": "stderr",
     "output_type": "stream",
     "text": [
      "/var/folders/c0/ffsv0l194g90gxqj1nlsmvdw0000gn/T/ipykernel_93071/3830575092.py:1: SettingWithCopyWarning:\n",
      "\n",
      "\n",
      "A value is trying to be set on a copy of a slice from a DataFrame.\n",
      "Try using .loc[row_indexer,col_indexer] = value instead\n",
      "\n",
      "See the caveats in the documentation: https://pandas.pydata.org/pandas-docs/stable/user_guide/indexing.html#returning-a-view-versus-a-copy\n",
      "\n"
     ]
    }
   ],
   "source": [
    "df_data_prueba_2019_2021[['utilidad_real','inversion','compras_cliente']] = scaler.fit_transform(df_data_prueba_2019_2021)"
   ]
  },
  {
   "cell_type": "code",
   "execution_count": 90,
   "id": "ebb167e6-1687-45f9-b5f8-9f193df02568",
   "metadata": {},
   "outputs": [
    {
     "data": {
      "text/plain": [
       "KMeans(n_clusters=5)"
      ]
     },
     "execution_count": 90,
     "metadata": {},
     "output_type": "execute_result"
    }
   ],
   "source": [
    "kmeans_prueba_2019= KMeans(5)\n",
    "kmeans_prueba_2019.fit(df_data_prueba_2019_2021)"
   ]
  },
  {
   "cell_type": "code",
   "execution_count": 91,
   "id": "f0f1d66b-52ac-4a4d-8a12-1e94ff81c7b7",
   "metadata": {},
   "outputs": [
    {
     "name": "stderr",
     "output_type": "stream",
     "text": [
      "/var/folders/c0/ffsv0l194g90gxqj1nlsmvdw0000gn/T/ipykernel_93071/4120085557.py:1: SettingWithCopyWarning:\n",
      "\n",
      "\n",
      "A value is trying to be set on a copy of a slice from a DataFrame.\n",
      "Try using .loc[row_indexer,col_indexer] = value instead\n",
      "\n",
      "See the caveats in the documentation: https://pandas.pydata.org/pandas-docs/stable/user_guide/indexing.html#returning-a-view-versus-a-copy\n",
      "\n"
     ]
    }
   ],
   "source": [
    "df_data_prueba_2019_2021['clusters'] = kmeans_prueba_2019.labels_"
   ]
  },
  {
   "cell_type": "code",
   "execution_count": 92,
   "id": "59623275-57a5-40fe-8e7b-7cc40a3303e1",
   "metadata": {},
   "outputs": [
    {
     "data": {
      "text/html": [
       "<div>\n",
       "<style scoped>\n",
       "    .dataframe tbody tr th:only-of-type {\n",
       "        vertical-align: middle;\n",
       "    }\n",
       "\n",
       "    .dataframe tbody tr th {\n",
       "        vertical-align: top;\n",
       "    }\n",
       "\n",
       "    .dataframe thead th {\n",
       "        text-align: right;\n",
       "    }\n",
       "</style>\n",
       "<table border=\"1\" class=\"dataframe\">\n",
       "  <thead>\n",
       "    <tr style=\"text-align: right;\">\n",
       "      <th>clusters</th>\n",
       "      <th>index</th>\n",
       "      <th>0</th>\n",
       "      <th>1</th>\n",
       "      <th>2</th>\n",
       "      <th>3</th>\n",
       "      <th>4</th>\n",
       "    </tr>\n",
       "  </thead>\n",
       "  <tbody>\n",
       "    <tr>\n",
       "      <th>0</th>\n",
       "      <td>utilidad_real</td>\n",
       "      <td>-0.225992</td>\n",
       "      <td>10.636921</td>\n",
       "      <td>2.736554</td>\n",
       "      <td>0.618580</td>\n",
       "      <td>11.139641</td>\n",
       "    </tr>\n",
       "    <tr>\n",
       "      <th>1</th>\n",
       "      <td>inversion</td>\n",
       "      <td>-0.228683</td>\n",
       "      <td>10.303236</td>\n",
       "      <td>3.179616</td>\n",
       "      <td>0.563655</td>\n",
       "      <td>7.061310</td>\n",
       "    </tr>\n",
       "    <tr>\n",
       "      <th>2</th>\n",
       "      <td>compras_cliente</td>\n",
       "      <td>-0.244269</td>\n",
       "      <td>2.375972</td>\n",
       "      <td>0.678533</td>\n",
       "      <td>1.788397</td>\n",
       "      <td>15.440876</td>\n",
       "    </tr>\n",
       "  </tbody>\n",
       "</table>\n",
       "</div>"
      ],
      "text/plain": [
       "clusters            index         0          1         2         3          4\n",
       "0           utilidad_real -0.225992  10.636921  2.736554  0.618580  11.139641\n",
       "1               inversion -0.228683  10.303236  3.179616  0.563655   7.061310\n",
       "2         compras_cliente -0.244269   2.375972  0.678533  1.788397  15.440876"
      ]
     },
     "execution_count": 92,
     "metadata": {},
     "output_type": "execute_result"
    }
   ],
   "source": [
    "cluster_summary_2019 =  df_data_prueba_2019_2021.groupby('clusters').mean().T.reset_index()\n",
    "cluster_summary_2019"
   ]
  },
  {
   "cell_type": "code",
   "execution_count": 93,
   "id": "aa0e5ce8-1e62-4fcf-b373-11b75cdd3a31",
   "metadata": {},
   "outputs": [
    {
     "name": "stderr",
     "output_type": "stream",
     "text": [
      "/opt/anaconda3/lib/python3.9/site-packages/plotly/express/_core.py:271: FutureWarning:\n",
      "\n",
      "The frame.append method is deprecated and will be removed from pandas in a future version. Use pandas.concat instead.\n",
      "\n",
      "/opt/anaconda3/lib/python3.9/site-packages/plotly/express/_core.py:271: FutureWarning:\n",
      "\n",
      "The frame.append method is deprecated and will be removed from pandas in a future version. Use pandas.concat instead.\n",
      "\n",
      "/opt/anaconda3/lib/python3.9/site-packages/plotly/express/_core.py:271: FutureWarning:\n",
      "\n",
      "The frame.append method is deprecated and will be removed from pandas in a future version. Use pandas.concat instead.\n",
      "\n",
      "/opt/anaconda3/lib/python3.9/site-packages/plotly/express/_core.py:271: FutureWarning:\n",
      "\n",
      "The frame.append method is deprecated and will be removed from pandas in a future version. Use pandas.concat instead.\n",
      "\n",
      "/opt/anaconda3/lib/python3.9/site-packages/plotly/express/_core.py:271: FutureWarning:\n",
      "\n",
      "The frame.append method is deprecated and will be removed from pandas in a future version. Use pandas.concat instead.\n",
      "\n"
     ]
    },
    {
     "data": {
      "application/vnd.plotly.v1+json": {
       "config": {
        "plotlyServerURL": "https://plot.ly"
       },
       "data": [
        {
         "hovertemplate": "clusters=0<br>value=%{r}<br>index=%{theta}<extra></extra>",
         "legendgroup": "0",
         "line": {
          "color": "#636efa",
          "dash": "solid"
         },
         "marker": {
          "symbol": "circle"
         },
         "mode": "lines",
         "name": "0",
         "r": [
          -0.22599201014921633,
          -0.22868317491909373,
          -0.2442689789218178,
          -0.22599201014921633
         ],
         "showlegend": true,
         "subplot": "polar",
         "theta": [
          "utilidad_real",
          "inversion",
          "compras_cliente",
          "utilidad_real"
         ],
         "type": "scatterpolar"
        },
        {
         "hovertemplate": "clusters=1<br>value=%{r}<br>index=%{theta}<extra></extra>",
         "legendgroup": "1",
         "line": {
          "color": "#EF553B",
          "dash": "solid"
         },
         "marker": {
          "symbol": "circle"
         },
         "mode": "lines",
         "name": "1",
         "r": [
          10.636921091794491,
          10.303235879034808,
          2.375971572033329,
          10.636921091794491
         ],
         "showlegend": true,
         "subplot": "polar",
         "theta": [
          "utilidad_real",
          "inversion",
          "compras_cliente",
          "utilidad_real"
         ],
         "type": "scatterpolar"
        },
        {
         "hovertemplate": "clusters=2<br>value=%{r}<br>index=%{theta}<extra></extra>",
         "legendgroup": "2",
         "line": {
          "color": "#00cc96",
          "dash": "solid"
         },
         "marker": {
          "symbol": "circle"
         },
         "mode": "lines",
         "name": "2",
         "r": [
          2.7365541169691605,
          3.1796162381312363,
          0.6785325408510765,
          2.7365541169691605
         ],
         "showlegend": true,
         "subplot": "polar",
         "theta": [
          "utilidad_real",
          "inversion",
          "compras_cliente",
          "utilidad_real"
         ],
         "type": "scatterpolar"
        },
        {
         "hovertemplate": "clusters=3<br>value=%{r}<br>index=%{theta}<extra></extra>",
         "legendgroup": "3",
         "line": {
          "color": "#ab63fa",
          "dash": "solid"
         },
         "marker": {
          "symbol": "circle"
         },
         "mode": "lines",
         "name": "3",
         "r": [
          0.6185799561593862,
          0.5636554666645149,
          1.788396522777934,
          0.6185799561593862
         ],
         "showlegend": true,
         "subplot": "polar",
         "theta": [
          "utilidad_real",
          "inversion",
          "compras_cliente",
          "utilidad_real"
         ],
         "type": "scatterpolar"
        },
        {
         "hovertemplate": "clusters=4<br>value=%{r}<br>index=%{theta}<extra></extra>",
         "legendgroup": "4",
         "line": {
          "color": "#FFA15A",
          "dash": "solid"
         },
         "marker": {
          "symbol": "circle"
         },
         "mode": "lines",
         "name": "4",
         "r": [
          11.139641407351236,
          7.061310488382217,
          15.440875608417995,
          11.139641407351236
         ],
         "showlegend": true,
         "subplot": "polar",
         "theta": [
          "utilidad_real",
          "inversion",
          "compras_cliente",
          "utilidad_real"
         ],
         "type": "scatterpolar"
        }
       ],
       "layout": {
        "height": 800,
        "legend": {
         "title": {
          "text": "clusters"
         },
         "tracegroupgap": 0
        },
        "margin": {
         "t": 60
        },
        "polar": {
         "angularaxis": {
          "direction": "clockwise",
          "rotation": 90,
          "type": "category"
         },
         "domain": {
          "x": [
           0,
           1
          ],
          "y": [
           0,
           1
          ]
         },
         "radialaxis": {
          "autorange": true,
          "range": [
           -0.2442689789218178,
           15.440875608417995
          ],
          "type": "linear"
         }
        },
        "template": {
         "data": {
          "bar": [
           {
            "error_x": {
             "color": "#2a3f5f"
            },
            "error_y": {
             "color": "#2a3f5f"
            },
            "marker": {
             "line": {
              "color": "#E5ECF6",
              "width": 0.5
             },
             "pattern": {
              "fillmode": "overlay",
              "size": 10,
              "solidity": 0.2
             }
            },
            "type": "bar"
           }
          ],
          "barpolar": [
           {
            "marker": {
             "line": {
              "color": "#E5ECF6",
              "width": 0.5
             },
             "pattern": {
              "fillmode": "overlay",
              "size": 10,
              "solidity": 0.2
             }
            },
            "type": "barpolar"
           }
          ],
          "carpet": [
           {
            "aaxis": {
             "endlinecolor": "#2a3f5f",
             "gridcolor": "white",
             "linecolor": "white",
             "minorgridcolor": "white",
             "startlinecolor": "#2a3f5f"
            },
            "baxis": {
             "endlinecolor": "#2a3f5f",
             "gridcolor": "white",
             "linecolor": "white",
             "minorgridcolor": "white",
             "startlinecolor": "#2a3f5f"
            },
            "type": "carpet"
           }
          ],
          "choropleth": [
           {
            "colorbar": {
             "outlinewidth": 0,
             "ticks": ""
            },
            "type": "choropleth"
           }
          ],
          "contour": [
           {
            "colorbar": {
             "outlinewidth": 0,
             "ticks": ""
            },
            "colorscale": [
             [
              0,
              "#0d0887"
             ],
             [
              0.1111111111111111,
              "#46039f"
             ],
             [
              0.2222222222222222,
              "#7201a8"
             ],
             [
              0.3333333333333333,
              "#9c179e"
             ],
             [
              0.4444444444444444,
              "#bd3786"
             ],
             [
              0.5555555555555556,
              "#d8576b"
             ],
             [
              0.6666666666666666,
              "#ed7953"
             ],
             [
              0.7777777777777778,
              "#fb9f3a"
             ],
             [
              0.8888888888888888,
              "#fdca26"
             ],
             [
              1,
              "#f0f921"
             ]
            ],
            "type": "contour"
           }
          ],
          "contourcarpet": [
           {
            "colorbar": {
             "outlinewidth": 0,
             "ticks": ""
            },
            "type": "contourcarpet"
           }
          ],
          "heatmap": [
           {
            "colorbar": {
             "outlinewidth": 0,
             "ticks": ""
            },
            "colorscale": [
             [
              0,
              "#0d0887"
             ],
             [
              0.1111111111111111,
              "#46039f"
             ],
             [
              0.2222222222222222,
              "#7201a8"
             ],
             [
              0.3333333333333333,
              "#9c179e"
             ],
             [
              0.4444444444444444,
              "#bd3786"
             ],
             [
              0.5555555555555556,
              "#d8576b"
             ],
             [
              0.6666666666666666,
              "#ed7953"
             ],
             [
              0.7777777777777778,
              "#fb9f3a"
             ],
             [
              0.8888888888888888,
              "#fdca26"
             ],
             [
              1,
              "#f0f921"
             ]
            ],
            "type": "heatmap"
           }
          ],
          "heatmapgl": [
           {
            "colorbar": {
             "outlinewidth": 0,
             "ticks": ""
            },
            "colorscale": [
             [
              0,
              "#0d0887"
             ],
             [
              0.1111111111111111,
              "#46039f"
             ],
             [
              0.2222222222222222,
              "#7201a8"
             ],
             [
              0.3333333333333333,
              "#9c179e"
             ],
             [
              0.4444444444444444,
              "#bd3786"
             ],
             [
              0.5555555555555556,
              "#d8576b"
             ],
             [
              0.6666666666666666,
              "#ed7953"
             ],
             [
              0.7777777777777778,
              "#fb9f3a"
             ],
             [
              0.8888888888888888,
              "#fdca26"
             ],
             [
              1,
              "#f0f921"
             ]
            ],
            "type": "heatmapgl"
           }
          ],
          "histogram": [
           {
            "marker": {
             "pattern": {
              "fillmode": "overlay",
              "size": 10,
              "solidity": 0.2
             }
            },
            "type": "histogram"
           }
          ],
          "histogram2d": [
           {
            "colorbar": {
             "outlinewidth": 0,
             "ticks": ""
            },
            "colorscale": [
             [
              0,
              "#0d0887"
             ],
             [
              0.1111111111111111,
              "#46039f"
             ],
             [
              0.2222222222222222,
              "#7201a8"
             ],
             [
              0.3333333333333333,
              "#9c179e"
             ],
             [
              0.4444444444444444,
              "#bd3786"
             ],
             [
              0.5555555555555556,
              "#d8576b"
             ],
             [
              0.6666666666666666,
              "#ed7953"
             ],
             [
              0.7777777777777778,
              "#fb9f3a"
             ],
             [
              0.8888888888888888,
              "#fdca26"
             ],
             [
              1,
              "#f0f921"
             ]
            ],
            "type": "histogram2d"
           }
          ],
          "histogram2dcontour": [
           {
            "colorbar": {
             "outlinewidth": 0,
             "ticks": ""
            },
            "colorscale": [
             [
              0,
              "#0d0887"
             ],
             [
              0.1111111111111111,
              "#46039f"
             ],
             [
              0.2222222222222222,
              "#7201a8"
             ],
             [
              0.3333333333333333,
              "#9c179e"
             ],
             [
              0.4444444444444444,
              "#bd3786"
             ],
             [
              0.5555555555555556,
              "#d8576b"
             ],
             [
              0.6666666666666666,
              "#ed7953"
             ],
             [
              0.7777777777777778,
              "#fb9f3a"
             ],
             [
              0.8888888888888888,
              "#fdca26"
             ],
             [
              1,
              "#f0f921"
             ]
            ],
            "type": "histogram2dcontour"
           }
          ],
          "mesh3d": [
           {
            "colorbar": {
             "outlinewidth": 0,
             "ticks": ""
            },
            "type": "mesh3d"
           }
          ],
          "parcoords": [
           {
            "line": {
             "colorbar": {
              "outlinewidth": 0,
              "ticks": ""
             }
            },
            "type": "parcoords"
           }
          ],
          "pie": [
           {
            "automargin": true,
            "type": "pie"
           }
          ],
          "scatter": [
           {
            "marker": {
             "colorbar": {
              "outlinewidth": 0,
              "ticks": ""
             }
            },
            "type": "scatter"
           }
          ],
          "scatter3d": [
           {
            "line": {
             "colorbar": {
              "outlinewidth": 0,
              "ticks": ""
             }
            },
            "marker": {
             "colorbar": {
              "outlinewidth": 0,
              "ticks": ""
             }
            },
            "type": "scatter3d"
           }
          ],
          "scattercarpet": [
           {
            "marker": {
             "colorbar": {
              "outlinewidth": 0,
              "ticks": ""
             }
            },
            "type": "scattercarpet"
           }
          ],
          "scattergeo": [
           {
            "marker": {
             "colorbar": {
              "outlinewidth": 0,
              "ticks": ""
             }
            },
            "type": "scattergeo"
           }
          ],
          "scattergl": [
           {
            "marker": {
             "colorbar": {
              "outlinewidth": 0,
              "ticks": ""
             }
            },
            "type": "scattergl"
           }
          ],
          "scattermapbox": [
           {
            "marker": {
             "colorbar": {
              "outlinewidth": 0,
              "ticks": ""
             }
            },
            "type": "scattermapbox"
           }
          ],
          "scatterpolar": [
           {
            "marker": {
             "colorbar": {
              "outlinewidth": 0,
              "ticks": ""
             }
            },
            "type": "scatterpolar"
           }
          ],
          "scatterpolargl": [
           {
            "marker": {
             "colorbar": {
              "outlinewidth": 0,
              "ticks": ""
             }
            },
            "type": "scatterpolargl"
           }
          ],
          "scatterternary": [
           {
            "marker": {
             "colorbar": {
              "outlinewidth": 0,
              "ticks": ""
             }
            },
            "type": "scatterternary"
           }
          ],
          "surface": [
           {
            "colorbar": {
             "outlinewidth": 0,
             "ticks": ""
            },
            "colorscale": [
             [
              0,
              "#0d0887"
             ],
             [
              0.1111111111111111,
              "#46039f"
             ],
             [
              0.2222222222222222,
              "#7201a8"
             ],
             [
              0.3333333333333333,
              "#9c179e"
             ],
             [
              0.4444444444444444,
              "#bd3786"
             ],
             [
              0.5555555555555556,
              "#d8576b"
             ],
             [
              0.6666666666666666,
              "#ed7953"
             ],
             [
              0.7777777777777778,
              "#fb9f3a"
             ],
             [
              0.8888888888888888,
              "#fdca26"
             ],
             [
              1,
              "#f0f921"
             ]
            ],
            "type": "surface"
           }
          ],
          "table": [
           {
            "cells": {
             "fill": {
              "color": "#EBF0F8"
             },
             "line": {
              "color": "white"
             }
            },
            "header": {
             "fill": {
              "color": "#C8D4E3"
             },
             "line": {
              "color": "white"
             }
            },
            "type": "table"
           }
          ]
         },
         "layout": {
          "annotationdefaults": {
           "arrowcolor": "#2a3f5f",
           "arrowhead": 0,
           "arrowwidth": 1
          },
          "autotypenumbers": "strict",
          "coloraxis": {
           "colorbar": {
            "outlinewidth": 0,
            "ticks": ""
           }
          },
          "colorscale": {
           "diverging": [
            [
             0,
             "#8e0152"
            ],
            [
             0.1,
             "#c51b7d"
            ],
            [
             0.2,
             "#de77ae"
            ],
            [
             0.3,
             "#f1b6da"
            ],
            [
             0.4,
             "#fde0ef"
            ],
            [
             0.5,
             "#f7f7f7"
            ],
            [
             0.6,
             "#e6f5d0"
            ],
            [
             0.7,
             "#b8e186"
            ],
            [
             0.8,
             "#7fbc41"
            ],
            [
             0.9,
             "#4d9221"
            ],
            [
             1,
             "#276419"
            ]
           ],
           "sequential": [
            [
             0,
             "#0d0887"
            ],
            [
             0.1111111111111111,
             "#46039f"
            ],
            [
             0.2222222222222222,
             "#7201a8"
            ],
            [
             0.3333333333333333,
             "#9c179e"
            ],
            [
             0.4444444444444444,
             "#bd3786"
            ],
            [
             0.5555555555555556,
             "#d8576b"
            ],
            [
             0.6666666666666666,
             "#ed7953"
            ],
            [
             0.7777777777777778,
             "#fb9f3a"
            ],
            [
             0.8888888888888888,
             "#fdca26"
            ],
            [
             1,
             "#f0f921"
            ]
           ],
           "sequentialminus": [
            [
             0,
             "#0d0887"
            ],
            [
             0.1111111111111111,
             "#46039f"
            ],
            [
             0.2222222222222222,
             "#7201a8"
            ],
            [
             0.3333333333333333,
             "#9c179e"
            ],
            [
             0.4444444444444444,
             "#bd3786"
            ],
            [
             0.5555555555555556,
             "#d8576b"
            ],
            [
             0.6666666666666666,
             "#ed7953"
            ],
            [
             0.7777777777777778,
             "#fb9f3a"
            ],
            [
             0.8888888888888888,
             "#fdca26"
            ],
            [
             1,
             "#f0f921"
            ]
           ]
          },
          "colorway": [
           "#636efa",
           "#EF553B",
           "#00cc96",
           "#ab63fa",
           "#FFA15A",
           "#19d3f3",
           "#FF6692",
           "#B6E880",
           "#FF97FF",
           "#FECB52"
          ],
          "font": {
           "color": "#2a3f5f"
          },
          "geo": {
           "bgcolor": "white",
           "lakecolor": "white",
           "landcolor": "#E5ECF6",
           "showlakes": true,
           "showland": true,
           "subunitcolor": "white"
          },
          "hoverlabel": {
           "align": "left"
          },
          "hovermode": "closest",
          "mapbox": {
           "style": "light"
          },
          "paper_bgcolor": "white",
          "plot_bgcolor": "#E5ECF6",
          "polar": {
           "angularaxis": {
            "gridcolor": "white",
            "linecolor": "white",
            "ticks": ""
           },
           "bgcolor": "#E5ECF6",
           "radialaxis": {
            "gridcolor": "white",
            "linecolor": "white",
            "ticks": ""
           }
          },
          "scene": {
           "xaxis": {
            "backgroundcolor": "#E5ECF6",
            "gridcolor": "white",
            "gridwidth": 2,
            "linecolor": "white",
            "showbackground": true,
            "ticks": "",
            "zerolinecolor": "white"
           },
           "yaxis": {
            "backgroundcolor": "#E5ECF6",
            "gridcolor": "white",
            "gridwidth": 2,
            "linecolor": "white",
            "showbackground": true,
            "ticks": "",
            "zerolinecolor": "white"
           },
           "zaxis": {
            "backgroundcolor": "#E5ECF6",
            "gridcolor": "white",
            "gridwidth": 2,
            "linecolor": "white",
            "showbackground": true,
            "ticks": "",
            "zerolinecolor": "white"
           }
          },
          "shapedefaults": {
           "line": {
            "color": "#2a3f5f"
           }
          },
          "ternary": {
           "aaxis": {
            "gridcolor": "white",
            "linecolor": "white",
            "ticks": ""
           },
           "baxis": {
            "gridcolor": "white",
            "linecolor": "white",
            "ticks": ""
           },
           "bgcolor": "#E5ECF6",
           "caxis": {
            "gridcolor": "white",
            "linecolor": "white",
            "ticks": ""
           }
          },
          "title": {
           "x": 0.05
          },
          "xaxis": {
           "automargin": true,
           "gridcolor": "white",
           "linecolor": "white",
           "ticks": "",
           "title": {
            "standoff": 15
           },
           "zerolinecolor": "white",
           "zerolinewidth": 2
          },
          "yaxis": {
           "automargin": true,
           "gridcolor": "white",
           "linecolor": "white",
           "ticks": "",
           "title": {
            "standoff": 15
           },
           "zerolinecolor": "white",
           "zerolinewidth": 2
          }
         }
        },
        "width": 800
       }
      },
      "image/png": "[encoded data removed]",
      "text/html": [
       "<div>                            <div id=\"0f0f9e7d-03e1-4c8f-bda1-287ad898bafc\" class=\"plotly-graph-div\" style=\"height:800px; width:800px;\"></div>            <script type=\"text/javascript\">                require([\"plotly\"], function(Plotly) {                    window.PLOTLYENV=window.PLOTLYENV || {};                                    if (document.getElementById(\"0f0f9e7d-03e1-4c8f-bda1-287ad898bafc\")) {                    Plotly.newPlot(                        \"0f0f9e7d-03e1-4c8f-bda1-287ad898bafc\",                        [{\"hovertemplate\":\"clusters=0<br>value=%{r}<br>index=%{theta}<extra></extra>\",\"legendgroup\":\"0\",\"line\":{\"color\":\"#636efa\",\"dash\":\"solid\"},\"marker\":{\"symbol\":\"circle\"},\"mode\":\"lines\",\"name\":\"0\",\"r\":[-0.22599201014921633,-0.22868317491909373,-0.2442689789218178,-0.22599201014921633],\"showlegend\":true,\"subplot\":\"polar\",\"theta\":[\"utilidad_real\",\"inversion\",\"compras_cliente\",\"utilidad_real\"],\"type\":\"scatterpolar\"},{\"hovertemplate\":\"clusters=1<br>value=%{r}<br>index=%{theta}<extra></extra>\",\"legendgroup\":\"1\",\"line\":{\"color\":\"#EF553B\",\"dash\":\"solid\"},\"marker\":{\"symbol\":\"circle\"},\"mode\":\"lines\",\"name\":\"1\",\"r\":[10.636921091794491,10.303235879034808,2.375971572033329,10.636921091794491],\"showlegend\":true,\"subplot\":\"polar\",\"theta\":[\"utilidad_real\",\"inversion\",\"compras_cliente\",\"utilidad_real\"],\"type\":\"scatterpolar\"},{\"hovertemplate\":\"clusters=2<br>value=%{r}<br>index=%{theta}<extra></extra>\",\"legendgroup\":\"2\",\"line\":{\"color\":\"#00cc96\",\"dash\":\"solid\"},\"marker\":{\"symbol\":\"circle\"},\"mode\":\"lines\",\"name\":\"2\",\"r\":[2.7365541169691605,3.1796162381312363,0.6785325408510765,2.7365541169691605],\"showlegend\":true,\"subplot\":\"polar\",\"theta\":[\"utilidad_real\",\"inversion\",\"compras_cliente\",\"utilidad_real\"],\"type\":\"scatterpolar\"},{\"hovertemplate\":\"clusters=3<br>value=%{r}<br>index=%{theta}<extra></extra>\",\"legendgroup\":\"3\",\"line\":{\"color\":\"#ab63fa\",\"dash\":\"solid\"},\"marker\":{\"symbol\":\"circle\"},\"mode\":\"lines\",\"name\":\"3\",\"r\":[0.6185799561593862,0.5636554666645149,1.788396522777934,0.6185799561593862],\"showlegend\":true,\"subplot\":\"polar\",\"theta\":[\"utilidad_real\",\"inversion\",\"compras_cliente\",\"utilidad_real\"],\"type\":\"scatterpolar\"},{\"hovertemplate\":\"clusters=4<br>value=%{r}<br>index=%{theta}<extra></extra>\",\"legendgroup\":\"4\",\"line\":{\"color\":\"#FFA15A\",\"dash\":\"solid\"},\"marker\":{\"symbol\":\"circle\"},\"mode\":\"lines\",\"name\":\"4\",\"r\":[11.139641407351236,7.061310488382217,15.440875608417995,11.139641407351236],\"showlegend\":true,\"subplot\":\"polar\",\"theta\":[\"utilidad_real\",\"inversion\",\"compras_cliente\",\"utilidad_real\"],\"type\":\"scatterpolar\"}],                        {\"template\":{\"data\":{\"bar\":[{\"error_x\":{\"color\":\"#2a3f5f\"},\"error_y\":{\"color\":\"#2a3f5f\"},\"marker\":{\"line\":{\"color\":\"#E5ECF6\",\"width\":0.5},\"pattern\":{\"fillmode\":\"overlay\",\"size\":10,\"solidity\":0.2}},\"type\":\"bar\"}],\"barpolar\":[{\"marker\":{\"line\":{\"color\":\"#E5ECF6\",\"width\":0.5},\"pattern\":{\"fillmode\":\"overlay\",\"size\":10,\"solidity\":0.2}},\"type\":\"barpolar\"}],\"carpet\":[{\"aaxis\":{\"endlinecolor\":\"#2a3f5f\",\"gridcolor\":\"white\",\"linecolor\":\"white\",\"minorgridcolor\":\"white\",\"startlinecolor\":\"#2a3f5f\"},\"baxis\":{\"endlinecolor\":\"#2a3f5f\",\"gridcolor\":\"white\",\"linecolor\":\"white\",\"minorgridcolor\":\"white\",\"startlinecolor\":\"#2a3f5f\"},\"type\":\"carpet\"}],\"choropleth\":[{\"colorbar\":{\"outlinewidth\":0,\"ticks\":\"\"},\"type\":\"choropleth\"}],\"contour\":[{\"colorbar\":{\"outlinewidth\":0,\"ticks\":\"\"},\"colorscale\":[[0.0,\"#0d0887\"],[0.1111111111111111,\"#46039f\"],[0.2222222222222222,\"#7201a8\"],[0.3333333333333333,\"#9c179e\"],[0.4444444444444444,\"#bd3786\"],[0.5555555555555556,\"#d8576b\"],[0.6666666666666666,\"#ed7953\"],[0.7777777777777778,\"#fb9f3a\"],[0.8888888888888888,\"#fdca26\"],[1.0,\"#f0f921\"]],\"type\":\"contour\"}],\"contourcarpet\":[{\"colorbar\":{\"outlinewidth\":0,\"ticks\":\"\"},\"type\":\"contourcarpet\"}],\"heatmap\":[{\"colorbar\":{\"outlinewidth\":0,\"ticks\":\"\"},\"colorscale\":[[0.0,\"#0d0887\"],[0.1111111111111111,\"#46039f\"],[0.2222222222222222,\"#7201a8\"],[0.3333333333333333,\"#9c179e\"],[0.4444444444444444,\"#bd3786\"],[0.5555555555555556,\"#d8576b\"],[0.6666666666666666,\"#ed7953\"],[0.7777777777777778,\"#fb9f3a\"],[0.8888888888888888,\"#fdca26\"],[1.0,\"#f0f921\"]],\"type\":\"heatmap\"}],\"heatmapgl\":[{\"colorbar\":{\"outlinewidth\":0,\"ticks\":\"\"},\"colorscale\":[[0.0,\"#0d0887\"],[0.1111111111111111,\"#46039f\"],[0.2222222222222222,\"#7201a8\"],[0.3333333333333333,\"#9c179e\"],[0.4444444444444444,\"#bd3786\"],[0.5555555555555556,\"#d8576b\"],[0.6666666666666666,\"#ed7953\"],[0.7777777777777778,\"#fb9f3a\"],[0.8888888888888888,\"#fdca26\"],[1.0,\"#f0f921\"]],\"type\":\"heatmapgl\"}],\"histogram\":[{\"marker\":{\"pattern\":{\"fillmode\":\"overlay\",\"size\":10,\"solidity\":0.2}},\"type\":\"histogram\"}],\"histogram2d\":[{\"colorbar\":{\"outlinewidth\":0,\"ticks\":\"\"},\"colorscale\":[[0.0,\"#0d0887\"],[0.1111111111111111,\"#46039f\"],[0.2222222222222222,\"#7201a8\"],[0.3333333333333333,\"#9c179e\"],[0.4444444444444444,\"#bd3786\"],[0.5555555555555556,\"#d8576b\"],[0.6666666666666666,\"#ed7953\"],[0.7777777777777778,\"#fb9f3a\"],[0.8888888888888888,\"#fdca26\"],[1.0,\"#f0f921\"]],\"type\":\"histogram2d\"}],\"histogram2dcontour\":[{\"colorbar\":{\"outlinewidth\":0,\"ticks\":\"\"},\"colorscale\":[[0.0,\"#0d0887\"],[0.1111111111111111,\"#46039f\"],[0.2222222222222222,\"#7201a8\"],[0.3333333333333333,\"#9c179e\"],[0.4444444444444444,\"#bd3786\"],[0.5555555555555556,\"#d8576b\"],[0.6666666666666666,\"#ed7953\"],[0.7777777777777778,\"#fb9f3a\"],[0.8888888888888888,\"#fdca26\"],[1.0,\"#f0f921\"]],\"type\":\"histogram2dcontour\"}],\"mesh3d\":[{\"colorbar\":{\"outlinewidth\":0,\"ticks\":\"\"},\"type\":\"mesh3d\"}],\"parcoords\":[{\"line\":{\"colorbar\":{\"outlinewidth\":0,\"ticks\":\"\"}},\"type\":\"parcoords\"}],\"pie\":[{\"automargin\":true,\"type\":\"pie\"}],\"scatter\":[{\"marker\":{\"colorbar\":{\"outlinewidth\":0,\"ticks\":\"\"}},\"type\":\"scatter\"}],\"scatter3d\":[{\"line\":{\"colorbar\":{\"outlinewidth\":0,\"ticks\":\"\"}},\"marker\":{\"colorbar\":{\"outlinewidth\":0,\"ticks\":\"\"}},\"type\":\"scatter3d\"}],\"scattercarpet\":[{\"marker\":{\"colorbar\":{\"outlinewidth\":0,\"ticks\":\"\"}},\"type\":\"scattercarpet\"}],\"scattergeo\":[{\"marker\":{\"colorbar\":{\"outlinewidth\":0,\"ticks\":\"\"}},\"type\":\"scattergeo\"}],\"scattergl\":[{\"marker\":{\"colorbar\":{\"outlinewidth\":0,\"ticks\":\"\"}},\"type\":\"scattergl\"}],\"scattermapbox\":[{\"marker\":{\"colorbar\":{\"outlinewidth\":0,\"ticks\":\"\"}},\"type\":\"scattermapbox\"}],\"scatterpolar\":[{\"marker\":{\"colorbar\":{\"outlinewidth\":0,\"ticks\":\"\"}},\"type\":\"scatterpolar\"}],\"scatterpolargl\":[{\"marker\":{\"colorbar\":{\"outlinewidth\":0,\"ticks\":\"\"}},\"type\":\"scatterpolargl\"}],\"scatterternary\":[{\"marker\":{\"colorbar\":{\"outlinewidth\":0,\"ticks\":\"\"}},\"type\":\"scatterternary\"}],\"surface\":[{\"colorbar\":{\"outlinewidth\":0,\"ticks\":\"\"},\"colorscale\":[[0.0,\"#0d0887\"],[0.1111111111111111,\"#46039f\"],[0.2222222222222222,\"#7201a8\"],[0.3333333333333333,\"#9c179e\"],[0.4444444444444444,\"#bd3786\"],[0.5555555555555556,\"#d8576b\"],[0.6666666666666666,\"#ed7953\"],[0.7777777777777778,\"#fb9f3a\"],[0.8888888888888888,\"#fdca26\"],[1.0,\"#f0f921\"]],\"type\":\"surface\"}],\"table\":[{\"cells\":{\"fill\":{\"color\":\"#EBF0F8\"},\"line\":{\"color\":\"white\"}},\"header\":{\"fill\":{\"color\":\"#C8D4E3\"},\"line\":{\"color\":\"white\"}},\"type\":\"table\"}]},\"layout\":{\"annotationdefaults\":{\"arrowcolor\":\"#2a3f5f\",\"arrowhead\":0,\"arrowwidth\":1},\"autotypenumbers\":\"strict\",\"coloraxis\":{\"colorbar\":{\"outlinewidth\":0,\"ticks\":\"\"}},\"colorscale\":{\"diverging\":[[0,\"#8e0152\"],[0.1,\"#c51b7d\"],[0.2,\"#de77ae\"],[0.3,\"#f1b6da\"],[0.4,\"#fde0ef\"],[0.5,\"#f7f7f7\"],[0.6,\"#e6f5d0\"],[0.7,\"#b8e186\"],[0.8,\"#7fbc41\"],[0.9,\"#4d9221\"],[1,\"#276419\"]],\"sequential\":[[0.0,\"#0d0887\"],[0.1111111111111111,\"#46039f\"],[0.2222222222222222,\"#7201a8\"],[0.3333333333333333,\"#9c179e\"],[0.4444444444444444,\"#bd3786\"],[0.5555555555555556,\"#d8576b\"],[0.6666666666666666,\"#ed7953\"],[0.7777777777777778,\"#fb9f3a\"],[0.8888888888888888,\"#fdca26\"],[1.0,\"#f0f921\"]],\"sequentialminus\":[[0.0,\"#0d0887\"],[0.1111111111111111,\"#46039f\"],[0.2222222222222222,\"#7201a8\"],[0.3333333333333333,\"#9c179e\"],[0.4444444444444444,\"#bd3786\"],[0.5555555555555556,\"#d8576b\"],[0.6666666666666666,\"#ed7953\"],[0.7777777777777778,\"#fb9f3a\"],[0.8888888888888888,\"#fdca26\"],[1.0,\"#f0f921\"]]},\"colorway\":[\"#636efa\",\"#EF553B\",\"#00cc96\",\"#ab63fa\",\"#FFA15A\",\"#19d3f3\",\"#FF6692\",\"#B6E880\",\"#FF97FF\",\"#FECB52\"],\"font\":{\"color\":\"#2a3f5f\"},\"geo\":{\"bgcolor\":\"white\",\"lakecolor\":\"white\",\"landcolor\":\"#E5ECF6\",\"showlakes\":true,\"showland\":true,\"subunitcolor\":\"white\"},\"hoverlabel\":{\"align\":\"left\"},\"hovermode\":\"closest\",\"mapbox\":{\"style\":\"light\"},\"paper_bgcolor\":\"white\",\"plot_bgcolor\":\"#E5ECF6\",\"polar\":{\"angularaxis\":{\"gridcolor\":\"white\",\"linecolor\":\"white\",\"ticks\":\"\"},\"bgcolor\":\"#E5ECF6\",\"radialaxis\":{\"gridcolor\":\"white\",\"linecolor\":\"white\",\"ticks\":\"\"}},\"scene\":{\"xaxis\":{\"backgroundcolor\":\"#E5ECF6\",\"gridcolor\":\"white\",\"gridwidth\":2,\"linecolor\":\"white\",\"showbackground\":true,\"ticks\":\"\",\"zerolinecolor\":\"white\"},\"yaxis\":{\"backgroundcolor\":\"#E5ECF6\",\"gridcolor\":\"white\",\"gridwidth\":2,\"linecolor\":\"white\",\"showbackground\":true,\"ticks\":\"\",\"zerolinecolor\":\"white\"},\"zaxis\":{\"backgroundcolor\":\"#E5ECF6\",\"gridcolor\":\"white\",\"gridwidth\":2,\"linecolor\":\"white\",\"showbackground\":true,\"ticks\":\"\",\"zerolinecolor\":\"white\"}},\"shapedefaults\":{\"line\":{\"color\":\"#2a3f5f\"}},\"ternary\":{\"aaxis\":{\"gridcolor\":\"white\",\"linecolor\":\"white\",\"ticks\":\"\"},\"baxis\":{\"gridcolor\":\"white\",\"linecolor\":\"white\",\"ticks\":\"\"},\"bgcolor\":\"#E5ECF6\",\"caxis\":{\"gridcolor\":\"white\",\"linecolor\":\"white\",\"ticks\":\"\"}},\"title\":{\"x\":0.05},\"xaxis\":{\"automargin\":true,\"gridcolor\":\"white\",\"linecolor\":\"white\",\"ticks\":\"\",\"title\":{\"standoff\":15},\"zerolinecolor\":\"white\",\"zerolinewidth\":2},\"yaxis\":{\"automargin\":true,\"gridcolor\":\"white\",\"linecolor\":\"white\",\"ticks\":\"\",\"title\":{\"standoff\":15},\"zerolinecolor\":\"white\",\"zerolinewidth\":2}}},\"polar\":{\"domain\":{\"x\":[0.0,1.0],\"y\":[0.0,1.0]},\"angularaxis\":{\"direction\":\"clockwise\",\"rotation\":90}},\"legend\":{\"title\":{\"text\":\"clusters\"},\"tracegroupgap\":0},\"margin\":{\"t\":60},\"height\":800,\"width\":800},                        {\"responsive\": true}                    ).then(function(){\n",
       "                            \n",
       "var gd = document.getElementById('0f0f9e7d-03e1-4c8f-bda1-287ad898bafc');\n",
       "var x = new MutationObserver(function (mutations, observer) {{\n",
       "        var display = window.getComputedStyle(gd).display;\n",
       "        if (!display || display === 'none') {{\n",
       "            console.log([gd, 'removed!']);\n",
       "            Plotly.purge(gd);\n",
       "            observer.disconnect();\n",
       "        }}\n",
       "}});\n",
       "\n",
       "// Listen for the removal of the full notebook cells\n",
       "var notebookContainer = gd.closest('#notebook-container');\n",
       "if (notebookContainer) {{\n",
       "    x.observe(notebookContainer, {childList: true});\n",
       "}}\n",
       "\n",
       "// Listen for the clearing of the current output cell\n",
       "var outputEl = gd.closest('.output');\n",
       "if (outputEl) {{\n",
       "    x.observe(outputEl, {childList: true});\n",
       "}}\n",
       "\n",
       "                        })                };                });            </script>        </div>"
      ]
     },
     "metadata": {},
     "output_type": "display_data"
    }
   ],
   "source": [
    "import plotly.express as px\n",
    "fig = px.line_polar(cluster_summary_2019.melt(id_vars = 'index'), r='value', theta='index', color = 'clusters', line_close=True,  width=800, height=800)\n",
    "fig.show()"
   ]
  },
  {
   "cell_type": "code",
   "execution_count": 95,
   "id": "eb94f70b-59f4-4cb9-a65e-c9fe62b6bb64",
   "metadata": {},
   "outputs": [],
   "source": [
    "nombres_clusters_2019 = {\n",
    "    0 : 'Normal',\n",
    "    1 : 'Diamante',\n",
    "    2 : 'Plata',\n",
    "    3 : 'Bronce',\n",
    "    4 : 'Oro'\n",
    "}"
   ]
  },
  {
   "cell_type": "code",
   "execution_count": 96,
   "id": "28f962f9-83b7-48c2-bd55-73d94e9d0a82",
   "metadata": {},
   "outputs": [
    {
     "name": "stderr",
     "output_type": "stream",
     "text": [
      "/var/folders/c0/ffsv0l194g90gxqj1nlsmvdw0000gn/T/ipykernel_93071/590829002.py:1: SettingWithCopyWarning:\n",
      "\n",
      "\n",
      "A value is trying to be set on a copy of a slice from a DataFrame.\n",
      "Try using .loc[row_indexer,col_indexer] = value instead\n",
      "\n",
      "See the caveats in the documentation: https://pandas.pydata.org/pandas-docs/stable/user_guide/indexing.html#returning-a-view-versus-a-copy\n",
      "\n"
     ]
    }
   ],
   "source": [
    "df_data_prueba_2019_2021['cluster_names'] = df_data_prueba_2019_2021.clusters.apply(lambda x: nombres_clusters_2019[x])"
   ]
  },
  {
   "cell_type": "code",
   "execution_count": 129,
   "id": "41315ba3-db60-4cd4-8820-bdcb07fde5f5",
   "metadata": {},
   "outputs": [
    {
     "data": {
      "text/html": [
       "<div>\n",
       "<style scoped>\n",
       "    .dataframe tbody tr th:only-of-type {\n",
       "        vertical-align: middle;\n",
       "    }\n",
       "\n",
       "    .dataframe tbody tr th {\n",
       "        vertical-align: top;\n",
       "    }\n",
       "\n",
       "    .dataframe thead th {\n",
       "        text-align: right;\n",
       "    }\n",
       "</style>\n",
       "<table border=\"1\" class=\"dataframe\">\n",
       "  <thead>\n",
       "    <tr style=\"text-align: right;\">\n",
       "      <th></th>\n",
       "      <th>utilidad_real</th>\n",
       "      <th>inversion</th>\n",
       "      <th>compras_cliente</th>\n",
       "      <th>clusters</th>\n",
       "      <th>cluster_names</th>\n",
       "      <th>vendedor</th>\n",
       "    </tr>\n",
       "    <tr>\n",
       "      <th>cliente</th>\n",
       "      <th></th>\n",
       "      <th></th>\n",
       "      <th></th>\n",
       "      <th></th>\n",
       "      <th></th>\n",
       "      <th></th>\n",
       "    </tr>\n",
       "  </thead>\n",
       "  <tbody>\n",
       "    <tr>\n",
       "      <th>EXPERIENCIAS XCARET</th>\n",
       "      <td>9.286855</td>\n",
       "      <td>6.288144</td>\n",
       "      <td>1.892086</td>\n",
       "      <td>1</td>\n",
       "      <td>Diamante</td>\n",
       "      <td>YANET FLORES</td>\n",
       "    </tr>\n",
       "    <tr>\n",
       "      <th>SON´S</th>\n",
       "      <td>11.986987</td>\n",
       "      <td>14.318328</td>\n",
       "      <td>2.859857</td>\n",
       "      <td>1</td>\n",
       "      <td>Diamante</td>\n",
       "      <td>JESSICA OSORIO</td>\n",
       "    </tr>\n",
       "  </tbody>\n",
       "</table>\n",
       "</div>"
      ],
      "text/plain": [
       "                     utilidad_real  inversion  compras_cliente  clusters  \\\n",
       "cliente                                                                    \n",
       "EXPERIENCIAS XCARET       9.286855   6.288144         1.892086         1   \n",
       "SON´S                    11.986987  14.318328         2.859857         1   \n",
       "\n",
       "                    cluster_names        vendedor  \n",
       "cliente                                            \n",
       "EXPERIENCIAS XCARET      Diamante    YANET FLORES  \n",
       "SON´S                    Diamante  JESSICA OSORIO  "
      ]
     },
     "execution_count": 129,
     "metadata": {},
     "output_type": "execute_result"
    }
   ],
   "source": [
    "df_data_prueba_2019_2021[df_data_prueba_2019_2021.cluster_names=='Diamante']"
   ]
  },
  {
   "cell_type": "code",
   "execution_count": 130,
   "id": "56f3a2e8-e146-4c2d-b84a-4560a23712ff",
   "metadata": {},
   "outputs": [
    {
     "data": {
      "text/html": [
       "<div>\n",
       "<style scoped>\n",
       "    .dataframe tbody tr th:only-of-type {\n",
       "        vertical-align: middle;\n",
       "    }\n",
       "\n",
       "    .dataframe tbody tr th {\n",
       "        vertical-align: top;\n",
       "    }\n",
       "\n",
       "    .dataframe thead th {\n",
       "        text-align: right;\n",
       "    }\n",
       "</style>\n",
       "<table border=\"1\" class=\"dataframe\">\n",
       "  <thead>\n",
       "    <tr style=\"text-align: right;\">\n",
       "      <th></th>\n",
       "      <th>utilidad_real</th>\n",
       "      <th>inversion</th>\n",
       "      <th>compras_cliente</th>\n",
       "      <th>clusters</th>\n",
       "      <th>cluster_names</th>\n",
       "      <th>vendedor</th>\n",
       "    </tr>\n",
       "    <tr>\n",
       "      <th>cliente</th>\n",
       "      <th></th>\n",
       "      <th></th>\n",
       "      <th></th>\n",
       "      <th></th>\n",
       "      <th></th>\n",
       "      <th></th>\n",
       "    </tr>\n",
       "  </thead>\n",
       "  <tbody>\n",
       "    <tr>\n",
       "      <th>VIDANTA</th>\n",
       "      <td>11.139641</td>\n",
       "      <td>7.06131</td>\n",
       "      <td>15.440876</td>\n",
       "      <td>4</td>\n",
       "      <td>Oro</td>\n",
       "      <td>YANET FLORES</td>\n",
       "    </tr>\n",
       "  </tbody>\n",
       "</table>\n",
       "</div>"
      ],
      "text/plain": [
       "         utilidad_real  inversion  compras_cliente  clusters cluster_names  \\\n",
       "cliente                                                                      \n",
       "VIDANTA      11.139641    7.06131        15.440876         4           Oro   \n",
       "\n",
       "             vendedor  \n",
       "cliente                \n",
       "VIDANTA  YANET FLORES  "
      ]
     },
     "execution_count": 130,
     "metadata": {},
     "output_type": "execute_result"
    }
   ],
   "source": [
    "df_data_prueba_2019_2021[df_data_prueba_2019_2021.cluster_names=='Oro']"
   ]
  },
  {
   "cell_type": "code",
   "execution_count": 131,
   "id": "bd7766ee-1dfd-4769-bece-8199e54fd39b",
   "metadata": {},
   "outputs": [
    {
     "data": {
      "text/html": [
       "<div>\n",
       "<style scoped>\n",
       "    .dataframe tbody tr th:only-of-type {\n",
       "        vertical-align: middle;\n",
       "    }\n",
       "\n",
       "    .dataframe tbody tr th {\n",
       "        vertical-align: top;\n",
       "    }\n",
       "\n",
       "    .dataframe thead th {\n",
       "        text-align: right;\n",
       "    }\n",
       "</style>\n",
       "<table border=\"1\" class=\"dataframe\">\n",
       "  <thead>\n",
       "    <tr style=\"text-align: right;\">\n",
       "      <th></th>\n",
       "      <th>utilidad_real</th>\n",
       "      <th>inversion</th>\n",
       "      <th>compras_cliente</th>\n",
       "      <th>clusters</th>\n",
       "      <th>cluster_names</th>\n",
       "      <th>vendedor</th>\n",
       "    </tr>\n",
       "    <tr>\n",
       "      <th>cliente</th>\n",
       "      <th></th>\n",
       "      <th></th>\n",
       "      <th></th>\n",
       "      <th></th>\n",
       "      <th></th>\n",
       "      <th></th>\n",
       "    </tr>\n",
       "  </thead>\n",
       "  <tbody>\n",
       "    <tr>\n",
       "      <th>ALPURA</th>\n",
       "      <td>2.883598</td>\n",
       "      <td>5.242677</td>\n",
       "      <td>3.182447</td>\n",
       "      <td>2</td>\n",
       "      <td>Plata</td>\n",
       "      <td>JESSICA OSORIO</td>\n",
       "    </tr>\n",
       "    <tr>\n",
       "      <th>ANDRE PRODUCTOS</th>\n",
       "      <td>4.247542</td>\n",
       "      <td>1.091557</td>\n",
       "      <td>-0.043455</td>\n",
       "      <td>2</td>\n",
       "      <td>Plata</td>\n",
       "      <td>CARLOS ACOSTA</td>\n",
       "    </tr>\n",
       "    <tr>\n",
       "      <th>ATLAS COPCO</th>\n",
       "      <td>2.370833</td>\n",
       "      <td>3.256933</td>\n",
       "      <td>-0.043455</td>\n",
       "      <td>2</td>\n",
       "      <td>Plata</td>\n",
       "      <td>CRISTIAN HERNANDEZ</td>\n",
       "    </tr>\n",
       "    <tr>\n",
       "      <th>BANJERCITO</th>\n",
       "      <td>1.025151</td>\n",
       "      <td>2.702822</td>\n",
       "      <td>-0.366045</td>\n",
       "      <td>2</td>\n",
       "      <td>Plata</td>\n",
       "      <td>ADRIAN GUEVARA</td>\n",
       "    </tr>\n",
       "    <tr>\n",
       "      <th>CYVSA</th>\n",
       "      <td>3.021240</td>\n",
       "      <td>2.905261</td>\n",
       "      <td>2.214676</td>\n",
       "      <td>2</td>\n",
       "      <td>Plata</td>\n",
       "      <td>JESSICA OSORIO</td>\n",
       "    </tr>\n",
       "    <tr>\n",
       "      <th>DISTRIBUCIONES MEDICAS LERAM</th>\n",
       "      <td>1.821521</td>\n",
       "      <td>2.818542</td>\n",
       "      <td>0.279135</td>\n",
       "      <td>2</td>\n",
       "      <td>Plata</td>\n",
       "      <td>ADRIAN GUEVARA</td>\n",
       "    </tr>\n",
       "    <tr>\n",
       "      <th>DSV</th>\n",
       "      <td>2.347736</td>\n",
       "      <td>2.326441</td>\n",
       "      <td>1.246906</td>\n",
       "      <td>2</td>\n",
       "      <td>Plata</td>\n",
       "      <td>JESSICA OSORIO</td>\n",
       "    </tr>\n",
       "    <tr>\n",
       "      <th>FERRERO DE MÉXICO</th>\n",
       "      <td>4.154925</td>\n",
       "      <td>2.893906</td>\n",
       "      <td>-0.366045</td>\n",
       "      <td>2</td>\n",
       "      <td>Plata</td>\n",
       "      <td>YANET FLORES</td>\n",
       "    </tr>\n",
       "    <tr>\n",
       "      <th>FIFOMI</th>\n",
       "      <td>2.302664</td>\n",
       "      <td>2.765508</td>\n",
       "      <td>0.924316</td>\n",
       "      <td>2</td>\n",
       "      <td>Plata</td>\n",
       "      <td>ADRIAN GUEVARA</td>\n",
       "    </tr>\n",
       "    <tr>\n",
       "      <th>G500</th>\n",
       "      <td>1.737610</td>\n",
       "      <td>2.015049</td>\n",
       "      <td>0.279135</td>\n",
       "      <td>2</td>\n",
       "      <td>Plata</td>\n",
       "      <td>NORMA MARTINEZ</td>\n",
       "    </tr>\n",
       "    <tr>\n",
       "      <th>HYUNDAI</th>\n",
       "      <td>4.134507</td>\n",
       "      <td>3.953588</td>\n",
       "      <td>2.537267</td>\n",
       "      <td>2</td>\n",
       "      <td>Plata</td>\n",
       "      <td>JESSICA OSORIO</td>\n",
       "    </tr>\n",
       "    <tr>\n",
       "      <th>INAI</th>\n",
       "      <td>4.413201</td>\n",
       "      <td>5.909098</td>\n",
       "      <td>1.569496</td>\n",
       "      <td>2</td>\n",
       "      <td>Plata</td>\n",
       "      <td>ADRIAN GUEVARA</td>\n",
       "    </tr>\n",
       "    <tr>\n",
       "      <th>INFO DF</th>\n",
       "      <td>1.402032</td>\n",
       "      <td>1.805345</td>\n",
       "      <td>-0.043455</td>\n",
       "      <td>2</td>\n",
       "      <td>Plata</td>\n",
       "      <td>ADRIAN GUEVARA</td>\n",
       "    </tr>\n",
       "    <tr>\n",
       "      <th>ISSFAM</th>\n",
       "      <td>2.294083</td>\n",
       "      <td>3.503555</td>\n",
       "      <td>-0.366045</td>\n",
       "      <td>2</td>\n",
       "      <td>Plata</td>\n",
       "      <td>ADRIAN GUEVARA</td>\n",
       "    </tr>\n",
       "    <tr>\n",
       "      <th>JEROMIN HUERTA</th>\n",
       "      <td>1.938751</td>\n",
       "      <td>1.884348</td>\n",
       "      <td>-0.366045</td>\n",
       "      <td>2</td>\n",
       "      <td>Plata</td>\n",
       "      <td>CRISTIAN HERNANDEZ</td>\n",
       "    </tr>\n",
       "    <tr>\n",
       "      <th>NUKS</th>\n",
       "      <td>1.416841</td>\n",
       "      <td>2.613365</td>\n",
       "      <td>1.246906</td>\n",
       "      <td>2</td>\n",
       "      <td>Plata</td>\n",
       "      <td>CRISTIAN HERNANDEZ</td>\n",
       "    </tr>\n",
       "    <tr>\n",
       "      <th>PILGRIMS</th>\n",
       "      <td>1.549987</td>\n",
       "      <td>2.399082</td>\n",
       "      <td>0.601725</td>\n",
       "      <td>2</td>\n",
       "      <td>Plata</td>\n",
       "      <td>YANET FLORES</td>\n",
       "    </tr>\n",
       "    <tr>\n",
       "      <th>QUIMICA SONS</th>\n",
       "      <td>4.925001</td>\n",
       "      <td>4.815159</td>\n",
       "      <td>-0.043455</td>\n",
       "      <td>2</td>\n",
       "      <td>Plata</td>\n",
       "      <td>JESSICA OSORIO</td>\n",
       "    </tr>\n",
       "    <tr>\n",
       "      <th>SENASICA</th>\n",
       "      <td>1.923359</td>\n",
       "      <td>2.795207</td>\n",
       "      <td>-0.366045</td>\n",
       "      <td>2</td>\n",
       "      <td>Plata</td>\n",
       "      <td>ADRIAN GUEVARA</td>\n",
       "    </tr>\n",
       "    <tr>\n",
       "      <th>SGM</th>\n",
       "      <td>3.694391</td>\n",
       "      <td>4.360996</td>\n",
       "      <td>1.569496</td>\n",
       "      <td>2</td>\n",
       "      <td>Plata</td>\n",
       "      <td>ADRIAN GUEVARA</td>\n",
       "    </tr>\n",
       "    <tr>\n",
       "      <th>UNIDEP</th>\n",
       "      <td>3.862663</td>\n",
       "      <td>4.713501</td>\n",
       "      <td>0.601725</td>\n",
       "      <td>2</td>\n",
       "      <td>Plata</td>\n",
       "      <td>ADRIAN GUEVARA</td>\n",
       "    </tr>\n",
       "  </tbody>\n",
       "</table>\n",
       "</div>"
      ],
      "text/plain": [
       "                              utilidad_real  inversion  compras_cliente  \\\n",
       "cliente                                                                   \n",
       "ALPURA                             2.883598   5.242677         3.182447   \n",
       "ANDRE PRODUCTOS                    4.247542   1.091557        -0.043455   \n",
       "ATLAS COPCO                        2.370833   3.256933        -0.043455   \n",
       "BANJERCITO                         1.025151   2.702822        -0.366045   \n",
       "CYVSA                              3.021240   2.905261         2.214676   \n",
       "DISTRIBUCIONES MEDICAS LERAM       1.821521   2.818542         0.279135   \n",
       "DSV                                2.347736   2.326441         1.246906   \n",
       "FERRERO DE MÉXICO                  4.154925   2.893906        -0.366045   \n",
       "FIFOMI                             2.302664   2.765508         0.924316   \n",
       "G500                               1.737610   2.015049         0.279135   \n",
       "HYUNDAI                            4.134507   3.953588         2.537267   \n",
       "INAI                               4.413201   5.909098         1.569496   \n",
       "INFO DF                            1.402032   1.805345        -0.043455   \n",
       "ISSFAM                             2.294083   3.503555        -0.366045   \n",
       "JEROMIN HUERTA                     1.938751   1.884348        -0.366045   \n",
       "NUKS                               1.416841   2.613365         1.246906   \n",
       "PILGRIMS                           1.549987   2.399082         0.601725   \n",
       "QUIMICA SONS                       4.925001   4.815159        -0.043455   \n",
       "SENASICA                           1.923359   2.795207        -0.366045   \n",
       "SGM                                3.694391   4.360996         1.569496   \n",
       "UNIDEP                             3.862663   4.713501         0.601725   \n",
       "\n",
       "                              clusters cluster_names            vendedor  \n",
       "cliente                                                                   \n",
       "ALPURA                               2         Plata      JESSICA OSORIO  \n",
       "ANDRE PRODUCTOS                      2         Plata       CARLOS ACOSTA  \n",
       "ATLAS COPCO                          2         Plata  CRISTIAN HERNANDEZ  \n",
       "BANJERCITO                           2         Plata      ADRIAN GUEVARA  \n",
       "CYVSA                                2         Plata      JESSICA OSORIO  \n",
       "DISTRIBUCIONES MEDICAS LERAM         2         Plata      ADRIAN GUEVARA  \n",
       "DSV                                  2         Plata      JESSICA OSORIO  \n",
       "FERRERO DE MÉXICO                    2         Plata        YANET FLORES  \n",
       "FIFOMI                               2         Plata      ADRIAN GUEVARA  \n",
       "G500                                 2         Plata      NORMA MARTINEZ  \n",
       "HYUNDAI                              2         Plata      JESSICA OSORIO  \n",
       "INAI                                 2         Plata      ADRIAN GUEVARA  \n",
       "INFO DF                              2         Plata      ADRIAN GUEVARA  \n",
       "ISSFAM                               2         Plata      ADRIAN GUEVARA  \n",
       "JEROMIN HUERTA                       2         Plata  CRISTIAN HERNANDEZ  \n",
       "NUKS                                 2         Plata  CRISTIAN HERNANDEZ  \n",
       "PILGRIMS                             2         Plata        YANET FLORES  \n",
       "QUIMICA SONS                         2         Plata      JESSICA OSORIO  \n",
       "SENASICA                             2         Plata      ADRIAN GUEVARA  \n",
       "SGM                                  2         Plata      ADRIAN GUEVARA  \n",
       "UNIDEP                               2         Plata      ADRIAN GUEVARA  "
      ]
     },
     "execution_count": 131,
     "metadata": {},
     "output_type": "execute_result"
    }
   ],
   "source": [
    "df_data_prueba_2019_2021[df_data_prueba_2019_2021.cluster_names=='Plata']"
   ]
  },
  {
   "cell_type": "code",
   "execution_count": 132,
   "id": "0822b771-f64f-412c-8621-ab21735ee323",
   "metadata": {},
   "outputs": [
    {
     "data": {
      "text/html": [
       "<div>\n",
       "<style scoped>\n",
       "    .dataframe tbody tr th:only-of-type {\n",
       "        vertical-align: middle;\n",
       "    }\n",
       "\n",
       "    .dataframe tbody tr th {\n",
       "        vertical-align: top;\n",
       "    }\n",
       "\n",
       "    .dataframe thead th {\n",
       "        text-align: right;\n",
       "    }\n",
       "</style>\n",
       "<table border=\"1\" class=\"dataframe\">\n",
       "  <thead>\n",
       "    <tr style=\"text-align: right;\">\n",
       "      <th></th>\n",
       "      <th>utilidad_real</th>\n",
       "      <th>inversion</th>\n",
       "      <th>compras_cliente</th>\n",
       "      <th>clusters</th>\n",
       "      <th>cluster_names</th>\n",
       "      <th>vendedor</th>\n",
       "    </tr>\n",
       "    <tr>\n",
       "      <th>cliente</th>\n",
       "      <th></th>\n",
       "      <th></th>\n",
       "      <th></th>\n",
       "      <th></th>\n",
       "      <th></th>\n",
       "      <th></th>\n",
       "    </tr>\n",
       "  </thead>\n",
       "  <tbody>\n",
       "    <tr>\n",
       "      <th>ADHETEC</th>\n",
       "      <td>1.997282</td>\n",
       "      <td>1.502291</td>\n",
       "      <td>6.085759</td>\n",
       "      <td>3</td>\n",
       "      <td>Bronce</td>\n",
       "      <td>CRISTIAN HERNANDEZ</td>\n",
       "    </tr>\n",
       "    <tr>\n",
       "      <th>AGENCIA MOSTACHO</th>\n",
       "      <td>0.239681</td>\n",
       "      <td>0.322608</td>\n",
       "      <td>1.892086</td>\n",
       "      <td>3</td>\n",
       "      <td>Bronce</td>\n",
       "      <td>NORMA MARTINEZ</td>\n",
       "    </tr>\n",
       "    <tr>\n",
       "      <th>ALINA OLVERA</th>\n",
       "      <td>0.405236</td>\n",
       "      <td>0.616147</td>\n",
       "      <td>0.601725</td>\n",
       "      <td>3</td>\n",
       "      <td>Bronce</td>\n",
       "      <td>NORMA MARTINEZ</td>\n",
       "    </tr>\n",
       "    <tr>\n",
       "      <th>ALPURA UNION FINANCIERA</th>\n",
       "      <td>0.866886</td>\n",
       "      <td>1.021613</td>\n",
       "      <td>0.601725</td>\n",
       "      <td>3</td>\n",
       "      <td>Bronce</td>\n",
       "      <td>JESSICA OSORIO</td>\n",
       "    </tr>\n",
       "    <tr>\n",
       "      <th>ALTECH CORP</th>\n",
       "      <td>0.014595</td>\n",
       "      <td>0.117772</td>\n",
       "      <td>0.924316</td>\n",
       "      <td>3</td>\n",
       "      <td>Bronce</td>\n",
       "      <td>CRISTIAN HERNANDEZ</td>\n",
       "    </tr>\n",
       "    <tr>\n",
       "      <th>AMERICAN TOWER</th>\n",
       "      <td>1.755005</td>\n",
       "      <td>1.033174</td>\n",
       "      <td>1.246906</td>\n",
       "      <td>3</td>\n",
       "      <td>Bronce</td>\n",
       "      <td>CARLOS ACOSTA</td>\n",
       "    </tr>\n",
       "    <tr>\n",
       "      <th>ARMANDO PIZAÑA</th>\n",
       "      <td>0.632861</td>\n",
       "      <td>0.766073</td>\n",
       "      <td>5.440579</td>\n",
       "      <td>3</td>\n",
       "      <td>Bronce</td>\n",
       "      <td>CRISTIAN HERNANDEZ</td>\n",
       "    </tr>\n",
       "    <tr>\n",
       "      <th>CASA ARMANDO GUILLERMO PRIETO</th>\n",
       "      <td>1.259265</td>\n",
       "      <td>0.924891</td>\n",
       "      <td>5.440579</td>\n",
       "      <td>3</td>\n",
       "      <td>Bronce</td>\n",
       "      <td>YANET FLORES</td>\n",
       "    </tr>\n",
       "    <tr>\n",
       "      <th>CASA DE LA AMISTAD</th>\n",
       "      <td>1.220503</td>\n",
       "      <td>1.833569</td>\n",
       "      <td>1.246906</td>\n",
       "      <td>3</td>\n",
       "      <td>Bronce</td>\n",
       "      <td>ADRIAN GUEVARA</td>\n",
       "    </tr>\n",
       "    <tr>\n",
       "      <th>CASIO</th>\n",
       "      <td>0.046355</td>\n",
       "      <td>0.098090</td>\n",
       "      <td>1.569496</td>\n",
       "      <td>3</td>\n",
       "      <td>Bronce</td>\n",
       "      <td>JESSICA OSORIO</td>\n",
       "    </tr>\n",
       "    <tr>\n",
       "      <th>CIUDAD MADERAS</th>\n",
       "      <td>0.540239</td>\n",
       "      <td>0.473284</td>\n",
       "      <td>3.827628</td>\n",
       "      <td>3</td>\n",
       "      <td>Bronce</td>\n",
       "      <td>NORMA MARTINEZ</td>\n",
       "    </tr>\n",
       "    <tr>\n",
       "      <th>COLEGIO ATID</th>\n",
       "      <td>-0.105109</td>\n",
       "      <td>-0.014087</td>\n",
       "      <td>1.246906</td>\n",
       "      <td>3</td>\n",
       "      <td>Bronce</td>\n",
       "      <td>CRISTIAN HERNANDEZ</td>\n",
       "    </tr>\n",
       "    <tr>\n",
       "      <th>COMERCIALIZADORA AMPAR</th>\n",
       "      <td>0.023125</td>\n",
       "      <td>0.109835</td>\n",
       "      <td>1.569496</td>\n",
       "      <td>3</td>\n",
       "      <td>Bronce</td>\n",
       "      <td>NORMA MARTINEZ</td>\n",
       "    </tr>\n",
       "    <tr>\n",
       "      <th>CREACIONES LIBRES</th>\n",
       "      <td>1.052648</td>\n",
       "      <td>1.725172</td>\n",
       "      <td>0.601725</td>\n",
       "      <td>3</td>\n",
       "      <td>Bronce</td>\n",
       "      <td>NORMA MARTINEZ</td>\n",
       "    </tr>\n",
       "    <tr>\n",
       "      <th>DERMOGALENIC</th>\n",
       "      <td>0.373299</td>\n",
       "      <td>0.371494</td>\n",
       "      <td>0.924316</td>\n",
       "      <td>3</td>\n",
       "      <td>Bronce</td>\n",
       "      <td>NORMA MARTINEZ</td>\n",
       "    </tr>\n",
       "    <tr>\n",
       "      <th>ETN</th>\n",
       "      <td>0.429193</td>\n",
       "      <td>0.196026</td>\n",
       "      <td>1.892086</td>\n",
       "      <td>3</td>\n",
       "      <td>Bronce</td>\n",
       "      <td>YANET FLORES</td>\n",
       "    </tr>\n",
       "    <tr>\n",
       "      <th>EYMSA</th>\n",
       "      <td>1.407929</td>\n",
       "      <td>0.049550</td>\n",
       "      <td>1.569496</td>\n",
       "      <td>3</td>\n",
       "      <td>Bronce</td>\n",
       "      <td>YANET FLORES</td>\n",
       "    </tr>\n",
       "    <tr>\n",
       "      <th>HITCHINER</th>\n",
       "      <td>1.711276</td>\n",
       "      <td>0.984973</td>\n",
       "      <td>1.892086</td>\n",
       "      <td>3</td>\n",
       "      <td>Bronce</td>\n",
       "      <td>JESSICA OSORIO</td>\n",
       "    </tr>\n",
       "    <tr>\n",
       "      <th>HOSPITAL H+</th>\n",
       "      <td>-0.115982</td>\n",
       "      <td>-0.195902</td>\n",
       "      <td>1.246906</td>\n",
       "      <td>3</td>\n",
       "      <td>Bronce</td>\n",
       "      <td>YANET FLORES</td>\n",
       "    </tr>\n",
       "    <tr>\n",
       "      <th>HOTEL AZUL IXTAPA</th>\n",
       "      <td>0.285626</td>\n",
       "      <td>0.033030</td>\n",
       "      <td>2.214676</td>\n",
       "      <td>3</td>\n",
       "      <td>Bronce</td>\n",
       "      <td>YANET FLORES</td>\n",
       "    </tr>\n",
       "    <tr>\n",
       "      <th>HOTEL EL GANZO</th>\n",
       "      <td>0.784779</td>\n",
       "      <td>0.144435</td>\n",
       "      <td>2.537267</td>\n",
       "      <td>3</td>\n",
       "      <td>Bronce</td>\n",
       "      <td>YANET FLORES</td>\n",
       "    </tr>\n",
       "    <tr>\n",
       "      <th>HSH Idea Interior</th>\n",
       "      <td>1.533326</td>\n",
       "      <td>0.937383</td>\n",
       "      <td>0.924316</td>\n",
       "      <td>3</td>\n",
       "      <td>Bronce</td>\n",
       "      <td>NORMA MARTINEZ</td>\n",
       "    </tr>\n",
       "    <tr>\n",
       "      <th>IMAGEN LATENTE</th>\n",
       "      <td>0.636934</td>\n",
       "      <td>0.831438</td>\n",
       "      <td>3.505037</td>\n",
       "      <td>3</td>\n",
       "      <td>Bronce</td>\n",
       "      <td>NORMA MARTINEZ</td>\n",
       "    </tr>\n",
       "    <tr>\n",
       "      <th>INFODF</th>\n",
       "      <td>0.691483</td>\n",
       "      <td>0.922320</td>\n",
       "      <td>0.279135</td>\n",
       "      <td>3</td>\n",
       "      <td>Bronce</td>\n",
       "      <td>ADRIAN GUEVARA</td>\n",
       "    </tr>\n",
       "    <tr>\n",
       "      <th>INTERCAM</th>\n",
       "      <td>0.237033</td>\n",
       "      <td>0.600112</td>\n",
       "      <td>1.892086</td>\n",
       "      <td>3</td>\n",
       "      <td>Bronce</td>\n",
       "      <td>CARLOS ACOSTA</td>\n",
       "    </tr>\n",
       "    <tr>\n",
       "      <th>IPS MEXICO</th>\n",
       "      <td>0.204082</td>\n",
       "      <td>0.182630</td>\n",
       "      <td>0.924316</td>\n",
       "      <td>3</td>\n",
       "      <td>Bronce</td>\n",
       "      <td>YANET FLORES</td>\n",
       "    </tr>\n",
       "    <tr>\n",
       "      <th>JR GRUPO</th>\n",
       "      <td>0.500536</td>\n",
       "      <td>0.134616</td>\n",
       "      <td>1.569496</td>\n",
       "      <td>3</td>\n",
       "      <td>Bronce</td>\n",
       "      <td>JESSICA OSORIO</td>\n",
       "    </tr>\n",
       "    <tr>\n",
       "      <th>KFSPOT</th>\n",
       "      <td>0.709183</td>\n",
       "      <td>1.273852</td>\n",
       "      <td>2.537267</td>\n",
       "      <td>3</td>\n",
       "      <td>Bronce</td>\n",
       "      <td>JESSICA OSORIO</td>\n",
       "    </tr>\n",
       "    <tr>\n",
       "      <th>LA SALLE PACHUCA</th>\n",
       "      <td>0.485924</td>\n",
       "      <td>0.729190</td>\n",
       "      <td>0.924316</td>\n",
       "      <td>3</td>\n",
       "      <td>Bronce</td>\n",
       "      <td>CRISTIAN HERNANDEZ</td>\n",
       "    </tr>\n",
       "    <tr>\n",
       "      <th>LAGRIET</th>\n",
       "      <td>0.544922</td>\n",
       "      <td>0.879782</td>\n",
       "      <td>1.569496</td>\n",
       "      <td>3</td>\n",
       "      <td>Bronce</td>\n",
       "      <td>NORMA MARTINEZ</td>\n",
       "    </tr>\n",
       "    <tr>\n",
       "      <th>LOCH MARKETING</th>\n",
       "      <td>1.179168</td>\n",
       "      <td>0.495659</td>\n",
       "      <td>1.569496</td>\n",
       "      <td>3</td>\n",
       "      <td>Bronce</td>\n",
       "      <td>NORMA MARTINEZ</td>\n",
       "    </tr>\n",
       "    <tr>\n",
       "      <th>MAZEAGENCY</th>\n",
       "      <td>1.222620</td>\n",
       "      <td>1.197707</td>\n",
       "      <td>1.892086</td>\n",
       "      <td>3</td>\n",
       "      <td>Bronce</td>\n",
       "      <td>CARLOS ACOSTA</td>\n",
       "    </tr>\n",
       "    <tr>\n",
       "      <th>MEDICAL GROUP</th>\n",
       "      <td>-0.088707</td>\n",
       "      <td>-0.097792</td>\n",
       "      <td>1.246906</td>\n",
       "      <td>3</td>\n",
       "      <td>Bronce</td>\n",
       "      <td>CARLOS ACOSTA</td>\n",
       "    </tr>\n",
       "    <tr>\n",
       "      <th>MEXICANA DE BECAS</th>\n",
       "      <td>0.004317</td>\n",
       "      <td>0.052381</td>\n",
       "      <td>1.569496</td>\n",
       "      <td>3</td>\n",
       "      <td>Bronce</td>\n",
       "      <td>CRISTIAN HERNANDEZ</td>\n",
       "    </tr>\n",
       "    <tr>\n",
       "      <th>MÉXICO GRAN HOTEL</th>\n",
       "      <td>0.997859</td>\n",
       "      <td>0.539980</td>\n",
       "      <td>2.214676</td>\n",
       "      <td>3</td>\n",
       "      <td>Bronce</td>\n",
       "      <td>JESSICA OSORIO</td>\n",
       "    </tr>\n",
       "    <tr>\n",
       "      <th>NAVITUR</th>\n",
       "      <td>-0.134169</td>\n",
       "      <td>-0.169537</td>\n",
       "      <td>1.246906</td>\n",
       "      <td>3</td>\n",
       "      <td>Bronce</td>\n",
       "      <td>NORMA MARTINEZ</td>\n",
       "    </tr>\n",
       "    <tr>\n",
       "      <th>NEOLPHARMA</th>\n",
       "      <td>0.506172</td>\n",
       "      <td>0.622318</td>\n",
       "      <td>0.601725</td>\n",
       "      <td>3</td>\n",
       "      <td>Bronce</td>\n",
       "      <td>NORMA MARTINEZ</td>\n",
       "    </tr>\n",
       "    <tr>\n",
       "      <th>PANALPINA</th>\n",
       "      <td>1.604576</td>\n",
       "      <td>0.904573</td>\n",
       "      <td>3.182447</td>\n",
       "      <td>3</td>\n",
       "      <td>Bronce</td>\n",
       "      <td>JESSICA OSORIO</td>\n",
       "    </tr>\n",
       "    <tr>\n",
       "      <th>PAPALOTE</th>\n",
       "      <td>0.353052</td>\n",
       "      <td>0.510022</td>\n",
       "      <td>0.601725</td>\n",
       "      <td>3</td>\n",
       "      <td>Bronce</td>\n",
       "      <td>JESSICA OSORIO</td>\n",
       "    </tr>\n",
       "    <tr>\n",
       "      <th>PATRIARE</th>\n",
       "      <td>0.743324</td>\n",
       "      <td>0.657569</td>\n",
       "      <td>0.601725</td>\n",
       "      <td>3</td>\n",
       "      <td>Bronce</td>\n",
       "      <td>CARLOS ACOSTA</td>\n",
       "    </tr>\n",
       "    <tr>\n",
       "      <th>PLASSON</th>\n",
       "      <td>-0.041904</td>\n",
       "      <td>0.123212</td>\n",
       "      <td>1.569496</td>\n",
       "      <td>3</td>\n",
       "      <td>Bronce</td>\n",
       "      <td>CRISTIAN HERNANDEZ</td>\n",
       "    </tr>\n",
       "    <tr>\n",
       "      <th>PROSUMEX</th>\n",
       "      <td>0.825226</td>\n",
       "      <td>0.869045</td>\n",
       "      <td>0.924316</td>\n",
       "      <td>3</td>\n",
       "      <td>Bronce</td>\n",
       "      <td>NORMA MARTINEZ</td>\n",
       "    </tr>\n",
       "    <tr>\n",
       "      <th>ROTOPLAS</th>\n",
       "      <td>1.272645</td>\n",
       "      <td>1.916956</td>\n",
       "      <td>1.246906</td>\n",
       "      <td>3</td>\n",
       "      <td>Bronce</td>\n",
       "      <td>CARLOS ACOSTA</td>\n",
       "    </tr>\n",
       "    <tr>\n",
       "      <th>RUSSELL</th>\n",
       "      <td>0.744835</td>\n",
       "      <td>0.448677</td>\n",
       "      <td>1.246906</td>\n",
       "      <td>3</td>\n",
       "      <td>Bronce</td>\n",
       "      <td>JESSICA OSORIO</td>\n",
       "    </tr>\n",
       "    <tr>\n",
       "      <th>SERGIO RENAN</th>\n",
       "      <td>-0.143244</td>\n",
       "      <td>-0.282877</td>\n",
       "      <td>1.246906</td>\n",
       "      <td>3</td>\n",
       "      <td>Bronce</td>\n",
       "      <td>CRISTIAN HERNANDEZ</td>\n",
       "    </tr>\n",
       "    <tr>\n",
       "      <th>SIGMA</th>\n",
       "      <td>0.875843</td>\n",
       "      <td>0.853365</td>\n",
       "      <td>1.569496</td>\n",
       "      <td>3</td>\n",
       "      <td>Bronce</td>\n",
       "      <td>CARLOS ACOSTA</td>\n",
       "    </tr>\n",
       "    <tr>\n",
       "      <th>SISOLUCIONES</th>\n",
       "      <td>-0.034078</td>\n",
       "      <td>-0.044471</td>\n",
       "      <td>1.246906</td>\n",
       "      <td>3</td>\n",
       "      <td>Bronce</td>\n",
       "      <td>NORMA MARTINEZ</td>\n",
       "    </tr>\n",
       "    <tr>\n",
       "      <th>SUBMARINOX</th>\n",
       "      <td>1.125390</td>\n",
       "      <td>1.372693</td>\n",
       "      <td>-0.043455</td>\n",
       "      <td>3</td>\n",
       "      <td>Bronce</td>\n",
       "      <td>CARLOS ACOSTA</td>\n",
       "    </tr>\n",
       "    <tr>\n",
       "      <th>Sergio Zamora</th>\n",
       "      <td>-0.017605</td>\n",
       "      <td>-0.210560</td>\n",
       "      <td>1.246906</td>\n",
       "      <td>3</td>\n",
       "      <td>Bronce</td>\n",
       "      <td>CRISTIAN HERNANDEZ</td>\n",
       "    </tr>\n",
       "    <tr>\n",
       "      <th>TELEVIA</th>\n",
       "      <td>0.451265</td>\n",
       "      <td>0.453283</td>\n",
       "      <td>0.601725</td>\n",
       "      <td>3</td>\n",
       "      <td>Bronce</td>\n",
       "      <td>CARLOS ACOSTA</td>\n",
       "    </tr>\n",
       "    <tr>\n",
       "      <th>TURNER</th>\n",
       "      <td>1.763845</td>\n",
       "      <td>1.809447</td>\n",
       "      <td>2.537267</td>\n",
       "      <td>3</td>\n",
       "      <td>Bronce</td>\n",
       "      <td>JESSICA OSORIO</td>\n",
       "    </tr>\n",
       "    <tr>\n",
       "      <th>UAM</th>\n",
       "      <td>0.085232</td>\n",
       "      <td>-0.112208</td>\n",
       "      <td>2.214676</td>\n",
       "      <td>3</td>\n",
       "      <td>Bronce</td>\n",
       "      <td>ADRIAN GUEVARA</td>\n",
       "    </tr>\n",
       "    <tr>\n",
       "      <th>UNIV. UTEL</th>\n",
       "      <td>0.407395</td>\n",
       "      <td>0.441141</td>\n",
       "      <td>2.214676</td>\n",
       "      <td>3</td>\n",
       "      <td>Bronce</td>\n",
       "      <td>YANET FLORES</td>\n",
       "    </tr>\n",
       "    <tr>\n",
       "      <th>VICTOR LISJUAN</th>\n",
       "      <td>-0.323194</td>\n",
       "      <td>-0.328854</td>\n",
       "      <td>1.246906</td>\n",
       "      <td>3</td>\n",
       "      <td>Bronce</td>\n",
       "      <td>ADRIAN GUEVARA</td>\n",
       "    </tr>\n",
       "    <tr>\n",
       "      <th>VIMAR</th>\n",
       "      <td>-0.061612</td>\n",
       "      <td>-0.098734</td>\n",
       "      <td>1.246906</td>\n",
       "      <td>3</td>\n",
       "      <td>Bronce</td>\n",
       "      <td>JESSICA OSORIO</td>\n",
       "    </tr>\n",
       "    <tr>\n",
       "      <th>XPRESSO EN CREATIVIDAD</th>\n",
       "      <td>0.954109</td>\n",
       "      <td>1.036353</td>\n",
       "      <td>6.408349</td>\n",
       "      <td>3</td>\n",
       "      <td>Bronce</td>\n",
       "      <td>NORMA MARTINEZ</td>\n",
       "    </tr>\n",
       "  </tbody>\n",
       "</table>\n",
       "</div>"
      ],
      "text/plain": [
       "                               utilidad_real  inversion  compras_cliente  \\\n",
       "cliente                                                                    \n",
       "ADHETEC                             1.997282   1.502291         6.085759   \n",
       "AGENCIA MOSTACHO                    0.239681   0.322608         1.892086   \n",
       "ALINA OLVERA                        0.405236   0.616147         0.601725   \n",
       "ALPURA UNION FINANCIERA             0.866886   1.021613         0.601725   \n",
       "ALTECH CORP                         0.014595   0.117772         0.924316   \n",
       "AMERICAN TOWER                      1.755005   1.033174         1.246906   \n",
       "ARMANDO PIZAÑA                      0.632861   0.766073         5.440579   \n",
       "CASA ARMANDO GUILLERMO PRIETO       1.259265   0.924891         5.440579   \n",
       "CASA DE LA AMISTAD                  1.220503   1.833569         1.246906   \n",
       "CASIO                               0.046355   0.098090         1.569496   \n",
       "CIUDAD MADERAS                      0.540239   0.473284         3.827628   \n",
       "COLEGIO ATID                       -0.105109  -0.014087         1.246906   \n",
       "COMERCIALIZADORA AMPAR              0.023125   0.109835         1.569496   \n",
       "CREACIONES LIBRES                   1.052648   1.725172         0.601725   \n",
       "DERMOGALENIC                        0.373299   0.371494         0.924316   \n",
       "ETN                                 0.429193   0.196026         1.892086   \n",
       "EYMSA                               1.407929   0.049550         1.569496   \n",
       "HITCHINER                           1.711276   0.984973         1.892086   \n",
       "HOSPITAL H+                        -0.115982  -0.195902         1.246906   \n",
       "HOTEL AZUL IXTAPA                   0.285626   0.033030         2.214676   \n",
       "HOTEL EL GANZO                      0.784779   0.144435         2.537267   \n",
       "HSH Idea Interior                   1.533326   0.937383         0.924316   \n",
       "IMAGEN LATENTE                      0.636934   0.831438         3.505037   \n",
       "INFODF                              0.691483   0.922320         0.279135   \n",
       "INTERCAM                            0.237033   0.600112         1.892086   \n",
       "IPS MEXICO                          0.204082   0.182630         0.924316   \n",
       "JR GRUPO                            0.500536   0.134616         1.569496   \n",
       "KFSPOT                              0.709183   1.273852         2.537267   \n",
       "LA SALLE PACHUCA                    0.485924   0.729190         0.924316   \n",
       "LAGRIET                             0.544922   0.879782         1.569496   \n",
       "LOCH MARKETING                      1.179168   0.495659         1.569496   \n",
       "MAZEAGENCY                          1.222620   1.197707         1.892086   \n",
       "MEDICAL GROUP                      -0.088707  -0.097792         1.246906   \n",
       "MEXICANA DE BECAS                   0.004317   0.052381         1.569496   \n",
       "MÉXICO GRAN HOTEL                   0.997859   0.539980         2.214676   \n",
       "NAVITUR                            -0.134169  -0.169537         1.246906   \n",
       "NEOLPHARMA                          0.506172   0.622318         0.601725   \n",
       "PANALPINA                           1.604576   0.904573         3.182447   \n",
       "PAPALOTE                            0.353052   0.510022         0.601725   \n",
       "PATRIARE                            0.743324   0.657569         0.601725   \n",
       "PLASSON                            -0.041904   0.123212         1.569496   \n",
       "PROSUMEX                            0.825226   0.869045         0.924316   \n",
       "ROTOPLAS                            1.272645   1.916956         1.246906   \n",
       "RUSSELL                             0.744835   0.448677         1.246906   \n",
       "SERGIO RENAN                       -0.143244  -0.282877         1.246906   \n",
       "SIGMA                               0.875843   0.853365         1.569496   \n",
       "SISOLUCIONES                       -0.034078  -0.044471         1.246906   \n",
       "SUBMARINOX                          1.125390   1.372693        -0.043455   \n",
       "Sergio Zamora                      -0.017605  -0.210560         1.246906   \n",
       "TELEVIA                             0.451265   0.453283         0.601725   \n",
       "TURNER                              1.763845   1.809447         2.537267   \n",
       "UAM                                 0.085232  -0.112208         2.214676   \n",
       "UNIV. UTEL                          0.407395   0.441141         2.214676   \n",
       "VICTOR LISJUAN                     -0.323194  -0.328854         1.246906   \n",
       "VIMAR                              -0.061612  -0.098734         1.246906   \n",
       "XPRESSO EN CREATIVIDAD              0.954109   1.036353         6.408349   \n",
       "\n",
       "                               clusters cluster_names            vendedor  \n",
       "cliente                                                                    \n",
       "ADHETEC                               3        Bronce  CRISTIAN HERNANDEZ  \n",
       "AGENCIA MOSTACHO                      3        Bronce      NORMA MARTINEZ  \n",
       "ALINA OLVERA                          3        Bronce      NORMA MARTINEZ  \n",
       "ALPURA UNION FINANCIERA               3        Bronce      JESSICA OSORIO  \n",
       "ALTECH CORP                           3        Bronce  CRISTIAN HERNANDEZ  \n",
       "AMERICAN TOWER                        3        Bronce       CARLOS ACOSTA  \n",
       "ARMANDO PIZAÑA                        3        Bronce  CRISTIAN HERNANDEZ  \n",
       "CASA ARMANDO GUILLERMO PRIETO         3        Bronce        YANET FLORES  \n",
       "CASA DE LA AMISTAD                    3        Bronce      ADRIAN GUEVARA  \n",
       "CASIO                                 3        Bronce      JESSICA OSORIO  \n",
       "CIUDAD MADERAS                        3        Bronce      NORMA MARTINEZ  \n",
       "COLEGIO ATID                          3        Bronce  CRISTIAN HERNANDEZ  \n",
       "COMERCIALIZADORA AMPAR                3        Bronce      NORMA MARTINEZ  \n",
       "CREACIONES LIBRES                     3        Bronce      NORMA MARTINEZ  \n",
       "DERMOGALENIC                          3        Bronce      NORMA MARTINEZ  \n",
       "ETN                                   3        Bronce        YANET FLORES  \n",
       "EYMSA                                 3        Bronce        YANET FLORES  \n",
       "HITCHINER                             3        Bronce      JESSICA OSORIO  \n",
       "HOSPITAL H+                           3        Bronce        YANET FLORES  \n",
       "HOTEL AZUL IXTAPA                     3        Bronce        YANET FLORES  \n",
       "HOTEL EL GANZO                        3        Bronce        YANET FLORES  \n",
       "HSH Idea Interior                     3        Bronce      NORMA MARTINEZ  \n",
       "IMAGEN LATENTE                        3        Bronce      NORMA MARTINEZ  \n",
       "INFODF                                3        Bronce      ADRIAN GUEVARA  \n",
       "INTERCAM                              3        Bronce       CARLOS ACOSTA  \n",
       "IPS MEXICO                            3        Bronce        YANET FLORES  \n",
       "JR GRUPO                              3        Bronce      JESSICA OSORIO  \n",
       "KFSPOT                                3        Bronce      JESSICA OSORIO  \n",
       "LA SALLE PACHUCA                      3        Bronce  CRISTIAN HERNANDEZ  \n",
       "LAGRIET                               3        Bronce      NORMA MARTINEZ  \n",
       "LOCH MARKETING                        3        Bronce      NORMA MARTINEZ  \n",
       "MAZEAGENCY                            3        Bronce       CARLOS ACOSTA  \n",
       "MEDICAL GROUP                         3        Bronce       CARLOS ACOSTA  \n",
       "MEXICANA DE BECAS                     3        Bronce  CRISTIAN HERNANDEZ  \n",
       "MÉXICO GRAN HOTEL                     3        Bronce      JESSICA OSORIO  \n",
       "NAVITUR                               3        Bronce      NORMA MARTINEZ  \n",
       "NEOLPHARMA                            3        Bronce      NORMA MARTINEZ  \n",
       "PANALPINA                             3        Bronce      JESSICA OSORIO  \n",
       "PAPALOTE                              3        Bronce      JESSICA OSORIO  \n",
       "PATRIARE                              3        Bronce       CARLOS ACOSTA  \n",
       "PLASSON                               3        Bronce  CRISTIAN HERNANDEZ  \n",
       "PROSUMEX                              3        Bronce      NORMA MARTINEZ  \n",
       "ROTOPLAS                              3        Bronce       CARLOS ACOSTA  \n",
       "RUSSELL                               3        Bronce      JESSICA OSORIO  \n",
       "SERGIO RENAN                          3        Bronce  CRISTIAN HERNANDEZ  \n",
       "SIGMA                                 3        Bronce       CARLOS ACOSTA  \n",
       "SISOLUCIONES                          3        Bronce      NORMA MARTINEZ  \n",
       "SUBMARINOX                            3        Bronce       CARLOS ACOSTA  \n",
       "Sergio Zamora                         3        Bronce  CRISTIAN HERNANDEZ  \n",
       "TELEVIA                               3        Bronce       CARLOS ACOSTA  \n",
       "TURNER                                3        Bronce      JESSICA OSORIO  \n",
       "UAM                                   3        Bronce      ADRIAN GUEVARA  \n",
       "UNIV. UTEL                            3        Bronce        YANET FLORES  \n",
       "VICTOR LISJUAN                        3        Bronce      ADRIAN GUEVARA  \n",
       "VIMAR                                 3        Bronce      JESSICA OSORIO  \n",
       "XPRESSO EN CREATIVIDAD                3        Bronce      NORMA MARTINEZ  "
      ]
     },
     "execution_count": 132,
     "metadata": {},
     "output_type": "execute_result"
    }
   ],
   "source": [
    "df_data_prueba_2019_2021[df_data_prueba_2019_2021.cluster_names=='Bronce']"
   ]
  },
  {
   "cell_type": "code",
   "execution_count": 122,
   "id": "45dc9098-f514-4776-bfff-5b88efb88efb",
   "metadata": {
    "tags": []
   },
   "outputs": [],
   "source": [
    "df_data_cliente_vendedor_2019 = df_data_2019_2021.groupby('cliente').agg(pd.Series.mode)"
   ]
  },
  {
   "cell_type": "code",
   "execution_count": 230,
   "id": "e455dbc1-9b6c-4bd8-b054-1d3816a65dd4",
   "metadata": {},
   "outputs": [
    {
     "data": {
      "text/html": [
       "<div>\n",
       "<style scoped>\n",
       "    .dataframe tbody tr th:only-of-type {\n",
       "        vertical-align: middle;\n",
       "    }\n",
       "\n",
       "    .dataframe tbody tr th {\n",
       "        vertical-align: top;\n",
       "    }\n",
       "\n",
       "    .dataframe thead th {\n",
       "        text-align: right;\n",
       "    }\n",
       "</style>\n",
       "<table border=\"1\" class=\"dataframe\">\n",
       "  <thead>\n",
       "    <tr style=\"text-align: right;\">\n",
       "      <th></th>\n",
       "      <th>utilidad_real</th>\n",
       "      <th>inversion</th>\n",
       "      <th>compras_cliente</th>\n",
       "      <th>clusters</th>\n",
       "      <th>cluster_names</th>\n",
       "      <th>vendedor</th>\n",
       "    </tr>\n",
       "    <tr>\n",
       "      <th>cliente</th>\n",
       "      <th></th>\n",
       "      <th></th>\n",
       "      <th></th>\n",
       "      <th></th>\n",
       "      <th></th>\n",
       "      <th></th>\n",
       "    </tr>\n",
       "  </thead>\n",
       "  <tbody>\n",
       "    <tr>\n",
       "      <th>A3SEC</th>\n",
       "      <td>-0.298100</td>\n",
       "      <td>-0.357475</td>\n",
       "      <td>-0.366045</td>\n",
       "      <td>0</td>\n",
       "      <td>Normal</td>\n",
       "      <td>YANET FLORES</td>\n",
       "    </tr>\n",
       "    <tr>\n",
       "      <th>AARALI</th>\n",
       "      <td>-0.327447</td>\n",
       "      <td>-0.368411</td>\n",
       "      <td>-0.366045</td>\n",
       "      <td>0</td>\n",
       "      <td>Normal</td>\n",
       "      <td>JESSICA OSORIO</td>\n",
       "    </tr>\n",
       "    <tr>\n",
       "      <th>ABISAI ROJAS</th>\n",
       "      <td>-0.369309</td>\n",
       "      <td>-0.376476</td>\n",
       "      <td>-0.366045</td>\n",
       "      <td>0</td>\n",
       "      <td>Normal</td>\n",
       "      <td>ADRIAN GUEVARA</td>\n",
       "    </tr>\n",
       "    <tr>\n",
       "      <th>ACCIONA</th>\n",
       "      <td>-0.357302</td>\n",
       "      <td>-0.374290</td>\n",
       "      <td>-0.366045</td>\n",
       "      <td>0</td>\n",
       "      <td>Normal</td>\n",
       "      <td>CRISTIAN HERNANDEZ</td>\n",
       "    </tr>\n",
       "    <tr>\n",
       "      <th>ACCIONES G</th>\n",
       "      <td>-0.346535</td>\n",
       "      <td>-0.366140</td>\n",
       "      <td>-0.366045</td>\n",
       "      <td>0</td>\n",
       "      <td>Normal</td>\n",
       "      <td>NORMA MARTINEZ</td>\n",
       "    </tr>\n",
       "    <tr>\n",
       "      <th>...</th>\n",
       "      <td>...</td>\n",
       "      <td>...</td>\n",
       "      <td>...</td>\n",
       "      <td>...</td>\n",
       "      <td>...</td>\n",
       "      <td>...</td>\n",
       "    </tr>\n",
       "    <tr>\n",
       "      <th>fastenersmanufacturing</th>\n",
       "      <td>-0.156640</td>\n",
       "      <td>-0.016933</td>\n",
       "      <td>-0.366045</td>\n",
       "      <td>0</td>\n",
       "      <td>Normal</td>\n",
       "      <td>CARLOS ACOSTA</td>\n",
       "    </tr>\n",
       "    <tr>\n",
       "      <th>italiamagufa</th>\n",
       "      <td>-0.345118</td>\n",
       "      <td>-0.371425</td>\n",
       "      <td>-0.366045</td>\n",
       "      <td>0</td>\n",
       "      <td>Normal</td>\n",
       "      <td>CARLOS ACOSTA</td>\n",
       "    </tr>\n",
       "    <tr>\n",
       "      <th>ocli</th>\n",
       "      <td>-0.288699</td>\n",
       "      <td>-0.330907</td>\n",
       "      <td>-0.366045</td>\n",
       "      <td>0</td>\n",
       "      <td>Normal</td>\n",
       "      <td>ADRIAN GUEVARA</td>\n",
       "    </tr>\n",
       "    <tr>\n",
       "      <th>proyectoapro</th>\n",
       "      <td>-0.282283</td>\n",
       "      <td>-0.337188</td>\n",
       "      <td>-0.366045</td>\n",
       "      <td>0</td>\n",
       "      <td>Normal</td>\n",
       "      <td>CARLOS ACOSTA</td>\n",
       "    </tr>\n",
       "    <tr>\n",
       "      <th>tedaural</th>\n",
       "      <td>-0.298347</td>\n",
       "      <td>-0.254449</td>\n",
       "      <td>-0.366045</td>\n",
       "      <td>0</td>\n",
       "      <td>Normal</td>\n",
       "      <td>CARLOS ACOSTA</td>\n",
       "    </tr>\n",
       "  </tbody>\n",
       "</table>\n",
       "<p>631 rows × 6 columns</p>\n",
       "</div>"
      ],
      "text/plain": [
       "                        utilidad_real  inversion  compras_cliente  clusters  \\\n",
       "cliente                                                                       \n",
       "A3SEC                       -0.298100  -0.357475        -0.366045         0   \n",
       "AARALI                      -0.327447  -0.368411        -0.366045         0   \n",
       "ABISAI ROJAS                -0.369309  -0.376476        -0.366045         0   \n",
       "ACCIONA                     -0.357302  -0.374290        -0.366045         0   \n",
       "ACCIONES G                  -0.346535  -0.366140        -0.366045         0   \n",
       "...                               ...        ...              ...       ...   \n",
       "fastenersmanufacturing      -0.156640  -0.016933        -0.366045         0   \n",
       "italiamagufa                -0.345118  -0.371425        -0.366045         0   \n",
       "ocli                        -0.288699  -0.330907        -0.366045         0   \n",
       "proyectoapro                -0.282283  -0.337188        -0.366045         0   \n",
       "tedaural                    -0.298347  -0.254449        -0.366045         0   \n",
       "\n",
       "                       cluster_names            vendedor  \n",
       "cliente                                                   \n",
       "A3SEC                         Normal        YANET FLORES  \n",
       "AARALI                        Normal      JESSICA OSORIO  \n",
       "ABISAI ROJAS                  Normal      ADRIAN GUEVARA  \n",
       "ACCIONA                       Normal  CRISTIAN HERNANDEZ  \n",
       "ACCIONES G                    Normal      NORMA MARTINEZ  \n",
       "...                              ...                 ...  \n",
       "fastenersmanufacturing        Normal       CARLOS ACOSTA  \n",
       "italiamagufa                  Normal       CARLOS ACOSTA  \n",
       "ocli                          Normal      ADRIAN GUEVARA  \n",
       "proyectoapro                  Normal       CARLOS ACOSTA  \n",
       "tedaural                      Normal       CARLOS ACOSTA  \n",
       "\n",
       "[631 rows x 6 columns]"
      ]
     },
     "execution_count": 230,
     "metadata": {},
     "output_type": "execute_result"
    }
   ],
   "source": [
    "df_data_prueba_2019_2021"
   ]
  },
  {
   "cell_type": "code",
   "execution_count": 231,
   "id": "f32238c9-105d-4229-b1fd-57c57ae79172",
   "metadata": {
    "tags": []
   },
   "outputs": [],
   "source": [
    "df_data_prueba_2019_2021.to_csv('data_cluster_2019_2021_vendedor.csv', index=False, encoding='utf-8') "
   ]
  },
  {
   "cell_type": "code",
   "execution_count": 128,
   "id": "10aa645c-c78e-4a3b-9e92-91c52a4c7a0a",
   "metadata": {},
   "outputs": [
    {
     "data": {
      "text/html": [
       "<div>\n",
       "<style scoped>\n",
       "    .dataframe tbody tr th:only-of-type {\n",
       "        vertical-align: middle;\n",
       "    }\n",
       "\n",
       "    .dataframe tbody tr th {\n",
       "        vertical-align: top;\n",
       "    }\n",
       "\n",
       "    .dataframe thead th {\n",
       "        text-align: right;\n",
       "    }\n",
       "</style>\n",
       "<table border=\"1\" class=\"dataframe\">\n",
       "  <thead>\n",
       "    <tr style=\"text-align: right;\">\n",
       "      <th></th>\n",
       "      <th>vendedor</th>\n",
       "    </tr>\n",
       "    <tr>\n",
       "      <th>cliente</th>\n",
       "      <th></th>\n",
       "    </tr>\n",
       "  </thead>\n",
       "  <tbody>\n",
       "    <tr>\n",
       "      <th>A3SEC</th>\n",
       "      <td>YANET FLORES</td>\n",
       "    </tr>\n",
       "    <tr>\n",
       "      <th>AARALI</th>\n",
       "      <td>JESSICA OSORIO</td>\n",
       "    </tr>\n",
       "    <tr>\n",
       "      <th>ABISAI ROJAS</th>\n",
       "      <td>ADRIAN GUEVARA</td>\n",
       "    </tr>\n",
       "    <tr>\n",
       "      <th>ACCIONA</th>\n",
       "      <td>CRISTIAN HERNANDEZ</td>\n",
       "    </tr>\n",
       "    <tr>\n",
       "      <th>ACCIONES G</th>\n",
       "      <td>NORMA MARTINEZ</td>\n",
       "    </tr>\n",
       "    <tr>\n",
       "      <th>...</th>\n",
       "      <td>...</td>\n",
       "    </tr>\n",
       "    <tr>\n",
       "      <th>fastenersmanufacturing</th>\n",
       "      <td>CARLOS ACOSTA</td>\n",
       "    </tr>\n",
       "    <tr>\n",
       "      <th>italiamagufa</th>\n",
       "      <td>CARLOS ACOSTA</td>\n",
       "    </tr>\n",
       "    <tr>\n",
       "      <th>ocli</th>\n",
       "      <td>ADRIAN GUEVARA</td>\n",
       "    </tr>\n",
       "    <tr>\n",
       "      <th>proyectoapro</th>\n",
       "      <td>CARLOS ACOSTA</td>\n",
       "    </tr>\n",
       "    <tr>\n",
       "      <th>tedaural</th>\n",
       "      <td>CARLOS ACOSTA</td>\n",
       "    </tr>\n",
       "  </tbody>\n",
       "</table>\n",
       "<p>631 rows × 1 columns</p>\n",
       "</div>"
      ],
      "text/plain": [
       "                                  vendedor\n",
       "cliente                                   \n",
       "A3SEC                         YANET FLORES\n",
       "AARALI                      JESSICA OSORIO\n",
       "ABISAI ROJAS                ADRIAN GUEVARA\n",
       "ACCIONA                 CRISTIAN HERNANDEZ\n",
       "ACCIONES G                  NORMA MARTINEZ\n",
       "...                                    ...\n",
       "fastenersmanufacturing       CARLOS ACOSTA\n",
       "italiamagufa                 CARLOS ACOSTA\n",
       "ocli                        ADRIAN GUEVARA\n",
       "proyectoapro                 CARLOS ACOSTA\n",
       "tedaural                     CARLOS ACOSTA\n",
       "\n",
       "[631 rows x 1 columns]"
      ]
     },
     "execution_count": 128,
     "metadata": {},
     "output_type": "execute_result"
    }
   ],
   "source": [
    "df_data_cliente_vendedor_2019[['vendedor']]"
   ]
  },
  {
   "cell_type": "code",
   "execution_count": 125,
   "id": "280376fb-e2b3-4311-b149-f9c91dbdcf0f",
   "metadata": {},
   "outputs": [
    {
     "name": "stderr",
     "output_type": "stream",
     "text": [
      "/var/folders/c0/ffsv0l194g90gxqj1nlsmvdw0000gn/T/ipykernel_93071/2960925705.py:1: SettingWithCopyWarning:\n",
      "\n",
      "\n",
      "A value is trying to be set on a copy of a slice from a DataFrame.\n",
      "Try using .loc[row_indexer,col_indexer] = value instead\n",
      "\n",
      "See the caveats in the documentation: https://pandas.pydata.org/pandas-docs/stable/user_guide/indexing.html#returning-a-view-versus-a-copy\n",
      "\n"
     ]
    }
   ],
   "source": [
    "df_data_prueba_2019_2021['vendedor'] = df_data_cliente_vendedor_2019[['vendedor']]"
   ]
  },
  {
   "cell_type": "code",
   "execution_count": 143,
   "id": "57801822-723d-4520-ac43-6329a1a78196",
   "metadata": {},
   "outputs": [],
   "source": [
    "df_yanet_2019 = df_data_prueba_2019_2021[df_data_prueba_2019_2021.vendedor == 'YANET FLORES']"
   ]
  },
  {
   "cell_type": "code",
   "execution_count": 160,
   "id": "c60793fa-1dfd-4f3b-857e-c88a403cd755",
   "metadata": {
    "tags": []
   },
   "outputs": [],
   "source": [
    "prueba = pd.DataFrame(df_yanet_2019.cluster_names.value_counts())"
   ]
  },
  {
   "cell_type": "code",
   "execution_count": 165,
   "id": "a5084e5b-6ca5-4be5-b5fe-0182fc74c455",
   "metadata": {},
   "outputs": [
    {
     "data": {
      "text/html": [
       "<div>\n",
       "<style scoped>\n",
       "    .dataframe tbody tr th:only-of-type {\n",
       "        vertical-align: middle;\n",
       "    }\n",
       "\n",
       "    .dataframe tbody tr th {\n",
       "        vertical-align: top;\n",
       "    }\n",
       "\n",
       "    .dataframe thead th {\n",
       "        text-align: right;\n",
       "    }\n",
       "</style>\n",
       "<table border=\"1\" class=\"dataframe\">\n",
       "  <thead>\n",
       "    <tr style=\"text-align: right;\">\n",
       "      <th></th>\n",
       "      <th>yanet</th>\n",
       "    </tr>\n",
       "  </thead>\n",
       "  <tbody>\n",
       "    <tr>\n",
       "      <th>Normal</th>\n",
       "      <td>77</td>\n",
       "    </tr>\n",
       "    <tr>\n",
       "      <th>Bronce</th>\n",
       "      <td>8</td>\n",
       "    </tr>\n",
       "    <tr>\n",
       "      <th>Plata</th>\n",
       "      <td>2</td>\n",
       "    </tr>\n",
       "    <tr>\n",
       "      <th>Diamante</th>\n",
       "      <td>1</td>\n",
       "    </tr>\n",
       "    <tr>\n",
       "      <th>Oro</th>\n",
       "      <td>1</td>\n",
       "    </tr>\n",
       "  </tbody>\n",
       "</table>\n",
       "</div>"
      ],
      "text/plain": [
       "          yanet\n",
       "Normal       77\n",
       "Bronce        8\n",
       "Plata         2\n",
       "Diamante      1\n",
       "Oro           1"
      ]
     },
     "execution_count": 165,
     "metadata": {},
     "output_type": "execute_result"
    }
   ],
   "source": [
    "prueba.columns = ['yanet']\n",
    "prueba"
   ]
  },
  {
   "cell_type": "code",
   "execution_count": 148,
   "id": "d73e16d5-99bf-4e85-8330-af7592810ced",
   "metadata": {},
   "outputs": [
    {
     "data": {
      "text/plain": [
       "array(['YANET FLORES', 'JESSICA OSORIO', 'ADRIAN GUEVARA',\n",
       "       'CRISTIAN HERNANDEZ', 'NORMA MARTINEZ', 'CARLOS ACOSTA'],\n",
       "      dtype=object)"
      ]
     },
     "execution_count": 148,
     "metadata": {},
     "output_type": "execute_result"
    }
   ],
   "source": [
    "df_data_prueba_2019_2021.vendedor.unique()"
   ]
  },
  {
   "cell_type": "code",
   "execution_count": 197,
   "id": "3c830910-d7a1-49aa-a242-aa8208dc5134",
   "metadata": {
    "tags": []
   },
   "outputs": [],
   "source": [
    "x=0\n",
    "for vendedor in df_data_prueba_2019_2021.vendedor.unique():\n",
    "    \n",
    "    tabla_vendedor = pd.DataFrame(df_data_prueba_2019_2021[df_data_prueba_2019_2021.vendedor == vendedor].cluster_names.value_counts())\n",
    "    tabla_vendedor.columns = [vendedor]\n",
    "    if x>0:\n",
    "        tabla_vendedor_new = tabla_vendedor_new.join(tabla_vendedor)\n",
    "        \n",
    "    if x==0:\n",
    "        tabla_vendedor_new=tabla_vendedor\n",
    "        x=x+1\n",
    "        \n",
    "    "
   ]
  },
  {
   "cell_type": "code",
   "execution_count": 209,
   "id": "2c2c8494-979a-4274-832f-5ded96efe4ee",
   "metadata": {},
   "outputs": [
    {
     "data": {
      "text/html": [
       "<div>\n",
       "<style scoped>\n",
       "    .dataframe tbody tr th:only-of-type {\n",
       "        vertical-align: middle;\n",
       "    }\n",
       "\n",
       "    .dataframe tbody tr th {\n",
       "        vertical-align: top;\n",
       "    }\n",
       "\n",
       "    .dataframe thead th {\n",
       "        text-align: right;\n",
       "    }\n",
       "</style>\n",
       "<table border=\"1\" class=\"dataframe\">\n",
       "  <thead>\n",
       "    <tr style=\"text-align: right;\">\n",
       "      <th></th>\n",
       "      <th>YANET FLORES</th>\n",
       "      <th>JESSICA OSORIO</th>\n",
       "      <th>ADRIAN GUEVARA</th>\n",
       "      <th>CRISTIAN HERNANDEZ</th>\n",
       "      <th>NORMA MARTINEZ</th>\n",
       "      <th>CARLOS ACOSTA</th>\n",
       "    </tr>\n",
       "  </thead>\n",
       "  <tbody>\n",
       "    <tr>\n",
       "      <th>Normal</th>\n",
       "      <td>77</td>\n",
       "      <td>47</td>\n",
       "      <td>80</td>\n",
       "      <td>92</td>\n",
       "      <td>144</td>\n",
       "      <td>111</td>\n",
       "    </tr>\n",
       "    <tr>\n",
       "      <th>Bronce</th>\n",
       "      <td>8</td>\n",
       "      <td>11</td>\n",
       "      <td>4</td>\n",
       "      <td>9</td>\n",
       "      <td>15</td>\n",
       "      <td>9</td>\n",
       "    </tr>\n",
       "    <tr>\n",
       "      <th>Plata</th>\n",
       "      <td>2</td>\n",
       "      <td>5</td>\n",
       "      <td>9</td>\n",
       "      <td>3</td>\n",
       "      <td>1</td>\n",
       "      <td>1</td>\n",
       "    </tr>\n",
       "    <tr>\n",
       "      <th>Diamante</th>\n",
       "      <td>1</td>\n",
       "      <td>1</td>\n",
       "      <td>0</td>\n",
       "      <td>0</td>\n",
       "      <td>0</td>\n",
       "      <td>0</td>\n",
       "    </tr>\n",
       "    <tr>\n",
       "      <th>Oro</th>\n",
       "      <td>1</td>\n",
       "      <td>0</td>\n",
       "      <td>0</td>\n",
       "      <td>0</td>\n",
       "      <td>0</td>\n",
       "      <td>0</td>\n",
       "    </tr>\n",
       "  </tbody>\n",
       "</table>\n",
       "</div>"
      ],
      "text/plain": [
       "          YANET FLORES  JESSICA OSORIO  ADRIAN GUEVARA  CRISTIAN HERNANDEZ  \\\n",
       "Normal              77              47              80                  92   \n",
       "Bronce               8              11               4                   9   \n",
       "Plata                2               5               9                   3   \n",
       "Diamante             1               1               0                   0   \n",
       "Oro                  1               0               0                   0   \n",
       "\n",
       "          NORMA MARTINEZ  CARLOS ACOSTA  \n",
       "Normal               144            111  \n",
       "Bronce                15              9  \n",
       "Plata                  1              1  \n",
       "Diamante               0              0  \n",
       "Oro                    0              0  "
      ]
     },
     "execution_count": 209,
     "metadata": {},
     "output_type": "execute_result"
    }
   ],
   "source": [
    "tabla_vendedor_2019 = tabla_vendedor_new.fillna(0).astype('int32')\n",
    "tabla_vendedor_2019"
   ]
  },
  {
   "cell_type": "code",
   "execution_count": 228,
   "id": "472cf241-1806-4028-a1aa-dc77a41f5298",
   "metadata": {},
   "outputs": [],
   "source": [
    "x=0\n",
    "for vendedor in df_data_prueba_2019_2021.vendedor.unique():\n",
    "    \n",
    "    tabla_vendedor = pd.DataFrame(df_data_prueba_2[df_data_prueba_2.vendedor == vendedor].cluster_names.value_counts())\n",
    "    tabla_vendedor.columns = [vendedor]\n",
    "    if x>0:\n",
    "        tabla_vendedor_new = tabla_vendedor_new.join(tabla_vendedor)\n",
    "        \n",
    "\n",
    "        \n",
    "    if x==0:\n",
    "        tabla_vendedor_new=tabla_vendedor\n",
    "        tabla_vendedor_new.loc[\"Plata\"] = 0\n",
    "        x=x+1"
   ]
  },
  {
   "cell_type": "code",
   "execution_count": 229,
   "id": "08b630f4-0ef7-447a-9765-47d8fb73aa65",
   "metadata": {},
   "outputs": [
    {
     "data": {
      "text/html": [
       "<div>\n",
       "<style scoped>\n",
       "    .dataframe tbody tr th:only-of-type {\n",
       "        vertical-align: middle;\n",
       "    }\n",
       "\n",
       "    .dataframe tbody tr th {\n",
       "        vertical-align: top;\n",
       "    }\n",
       "\n",
       "    .dataframe thead th {\n",
       "        text-align: right;\n",
       "    }\n",
       "</style>\n",
       "<table border=\"1\" class=\"dataframe\">\n",
       "  <thead>\n",
       "    <tr style=\"text-align: right;\">\n",
       "      <th></th>\n",
       "      <th>YANET FLORES</th>\n",
       "      <th>JESSICA OSORIO</th>\n",
       "      <th>ADRIAN GUEVARA</th>\n",
       "      <th>CRISTIAN HERNANDEZ</th>\n",
       "      <th>NORMA MARTINEZ</th>\n",
       "      <th>CARLOS ACOSTA</th>\n",
       "    </tr>\n",
       "  </thead>\n",
       "  <tbody>\n",
       "    <tr>\n",
       "      <th>Normal</th>\n",
       "      <td>41</td>\n",
       "      <td>36</td>\n",
       "      <td>41</td>\n",
       "      <td>47</td>\n",
       "      <td>68</td>\n",
       "      <td>32</td>\n",
       "    </tr>\n",
       "    <tr>\n",
       "      <th>Bronce</th>\n",
       "      <td>6</td>\n",
       "      <td>8</td>\n",
       "      <td>5</td>\n",
       "      <td>6</td>\n",
       "      <td>12</td>\n",
       "      <td>2</td>\n",
       "    </tr>\n",
       "    <tr>\n",
       "      <th>Diamante</th>\n",
       "      <td>2</td>\n",
       "      <td>0</td>\n",
       "      <td>0</td>\n",
       "      <td>0</td>\n",
       "      <td>0</td>\n",
       "      <td>0</td>\n",
       "    </tr>\n",
       "    <tr>\n",
       "      <th>Oro</th>\n",
       "      <td>1</td>\n",
       "      <td>0</td>\n",
       "      <td>0</td>\n",
       "      <td>0</td>\n",
       "      <td>0</td>\n",
       "      <td>0</td>\n",
       "    </tr>\n",
       "    <tr>\n",
       "      <th>Plata</th>\n",
       "      <td>0</td>\n",
       "      <td>1</td>\n",
       "      <td>3</td>\n",
       "      <td>1</td>\n",
       "      <td>0</td>\n",
       "      <td>0</td>\n",
       "    </tr>\n",
       "  </tbody>\n",
       "</table>\n",
       "</div>"
      ],
      "text/plain": [
       "          YANET FLORES  JESSICA OSORIO  ADRIAN GUEVARA  CRISTIAN HERNANDEZ  \\\n",
       "Normal              41              36              41                  47   \n",
       "Bronce               6               8               5                   6   \n",
       "Diamante             2               0               0                   0   \n",
       "Oro                  1               0               0                   0   \n",
       "Plata                0               1               3                   1   \n",
       "\n",
       "          NORMA MARTINEZ  CARLOS ACOSTA  \n",
       "Normal                68             32  \n",
       "Bronce                12              2  \n",
       "Diamante               0              0  \n",
       "Oro                    0              0  \n",
       "Plata                  0              0  "
      ]
     },
     "execution_count": 229,
     "metadata": {},
     "output_type": "execute_result"
    }
   ],
   "source": [
    "tabla_vendedor_2022 = tabla_vendedor_new.fillna(0).astype('int32')\n",
    "tabla_vendedor_2022"
   ]
  },
  {
   "cell_type": "code",
   "execution_count": 232,
   "id": "bd714873-e0b7-468a-b72d-d2d959fc9ead",
   "metadata": {},
   "outputs": [],
   "source": [
    "tabla_vendedor_2022.to_csv('tabla_vendedor_2022.csv', encoding='utf-8') "
   ]
  },
  {
   "cell_type": "code",
   "execution_count": 233,
   "id": "3b18782a-258c-4b8e-8514-c7f3a2a7ddd4",
   "metadata": {},
   "outputs": [],
   "source": [
    "tabla_vendedor_2019.to_csv('tabla_vendedor_2019.csv', encoding='utf-8') "
   ]
  },
  {
   "cell_type": "code",
   "execution_count": null,
   "id": "4b5541ee-7fa6-4e63-9c63-e3d53d0a5dcd",
   "metadata": {},
   "outputs": [],
   "source": []
  }
 ],
 "metadata": {
  "kernelspec": {
   "display_name": "Python 3 (ipykernel)",
   "language": "python",
   "name": "python3"
  },
  "language_info": {
   "codemirror_mode": {
    "name": "ipython",
    "version": 3
   },
   "file_extension": ".py",
   "mimetype": "text/x-python",
   "name": "python",
   "nbconvert_exporter": "python",
   "pygments_lexer": "ipython3",
   "version": "3.9.12"
  }
 },
 "nbformat": 4,
 "nbformat_minor": 5
}
