{
 "cells": [
  {
   "cell_type": "code",
   "execution_count": 1,
   "id": "724b0d91-82d2-427b-9b4f-7c4bab081122",
   "metadata": {},
   "outputs": [],
   "source": [
    "import pandas as pd\n",
    "import numpy as np\n",
    "\n",
    "import matplotlib.pyplot as plt"
   ]
  },
  {
   "cell_type": "code",
   "execution_count": 99,
   "id": "0a0651ee-302e-4cf9-8ad2-ff4da99cac96",
   "metadata": {},
   "outputs": [
    {
     "name": "stderr",
     "output_type": "stream",
     "text": [
      "C:\\Users\\sistemas\\anaconda3\\lib\\site-packages\\openpyxl\\styles\\stylesheet.py:226: UserWarning: Workbook contains no default style, apply openpyxl's default\n",
      "  warn(\"Workbook contains no default style, apply openpyxl's default\")\n"
     ]
    }
   ],
   "source": [
    "df_compras_christian = pd.read_excel('~/Documents/Ironhack/Modulo 2/LABS/Poryecto-Final-Marzo-23/datas/COMISIONES CRISTIAN HERNANDEZ.xlsx')"
   ]
  },
  {
   "cell_type": "code",
   "execution_count": 100,
   "id": "bee90ef4-a7d2-4c7c-891b-8e899c64d7f9",
   "metadata": {},
   "outputs": [
    {
     "data": {
      "text/html": [
       "<div>\n",
       "<style scoped>\n",
       "    .dataframe tbody tr th:only-of-type {\n",
       "        vertical-align: middle;\n",
       "    }\n",
       "\n",
       "    .dataframe tbody tr th {\n",
       "        vertical-align: top;\n",
       "    }\n",
       "\n",
       "    .dataframe thead th {\n",
       "        text-align: right;\n",
       "    }\n",
       "</style>\n",
       "<table border=\"1\" class=\"dataframe\">\n",
       "  <thead>\n",
       "    <tr style=\"text-align: right;\">\n",
       "      <th></th>\n",
       "      <th>Creado</th>\n",
       "      <th>FECHA</th>\n",
       "      <th>PROYECTO</th>\n",
       "      <th>VENDEDOR</th>\n",
       "      <th>TIPO DE CLIENTE</th>\n",
       "      <th>CLIENTE</th>\n",
       "      <th>CANTIDAD</th>\n",
       "      <th>ARTICULO</th>\n",
       "      <th>COSTO</th>\n",
       "      <th>IMPRESIÓN</th>\n",
       "      <th>...</th>\n",
       "      <th>PAQUETERIA O GASTO EXTRA</th>\n",
       "      <th>UTILIDAD REAL</th>\n",
       "      <th>FACTURADO</th>\n",
       "      <th>NO DE FACTURA O NOTA DE VENTA</th>\n",
       "      <th>ENTREGADO</th>\n",
       "      <th>PAGADO</th>\n",
       "      <th>% COMISIÓN</th>\n",
       "      <th>COMISION</th>\n",
       "      <th>COMISION PAGADA</th>\n",
       "      <th>AUTORIZADO PARA PAGO</th>\n",
       "    </tr>\n",
       "  </thead>\n",
       "  <tbody>\n",
       "    <tr>\n",
       "      <th>0</th>\n",
       "      <td>2018-10-29 10:15:30</td>\n",
       "      <td>2018-10-01</td>\n",
       "      <td>PS1808080202</td>\n",
       "      <td>CRISTIAN HERNANDEZ</td>\n",
       "      <td>RECURRENTE</td>\n",
       "      <td>VMACS</td>\n",
       "      <td>10.0</td>\n",
       "      <td>HIELERA</td>\n",
       "      <td>88.07</td>\n",
       "      <td>0.0</td>\n",
       "      <td>...</td>\n",
       "      <td>0.0</td>\n",
       "      <td>528.4</td>\n",
       "      <td>Sí</td>\n",
       "      <td>A2594</td>\n",
       "      <td>Sí</td>\n",
       "      <td>Sí</td>\n",
       "      <td>0.03</td>\n",
       "      <td>15.852</td>\n",
       "      <td>Sí</td>\n",
       "      <td>NaN</td>\n",
       "    </tr>\n",
       "    <tr>\n",
       "      <th>1</th>\n",
       "      <td>2018-11-07 09:04:28</td>\n",
       "      <td>2018-10-01</td>\n",
       "      <td>PS1808080202</td>\n",
       "      <td>CRISTIAN HERNANDEZ</td>\n",
       "      <td>RECURRENTE</td>\n",
       "      <td>VMACS</td>\n",
       "      <td>10.0</td>\n",
       "      <td>MOCHILA METROPOLITAN</td>\n",
       "      <td>451.33</td>\n",
       "      <td>0.0</td>\n",
       "      <td>...</td>\n",
       "      <td>0.0</td>\n",
       "      <td>902.7</td>\n",
       "      <td>Sí</td>\n",
       "      <td>A2594</td>\n",
       "      <td>Sí</td>\n",
       "      <td>Sí</td>\n",
       "      <td>0.03</td>\n",
       "      <td>27.081</td>\n",
       "      <td>Sí</td>\n",
       "      <td>NaN</td>\n",
       "    </tr>\n",
       "  </tbody>\n",
       "</table>\n",
       "<p>2 rows × 23 columns</p>\n",
       "</div>"
      ],
      "text/plain": [
       "               Creado      FECHA      PROYECTO            VENDEDOR  \\\n",
       "0 2018-10-29 10:15:30 2018-10-01  PS1808080202  CRISTIAN HERNANDEZ   \n",
       "1 2018-11-07 09:04:28 2018-10-01  PS1808080202  CRISTIAN HERNANDEZ   \n",
       "\n",
       "  TIPO DE CLIENTE CLIENTE  CANTIDAD              ARTICULO   COSTO  IMPRESIÓN  \\\n",
       "0      RECURRENTE   VMACS      10.0               HIELERA   88.07        0.0   \n",
       "1      RECURRENTE   VMACS      10.0  MOCHILA METROPOLITAN  451.33        0.0   \n",
       "\n",
       "   ...  PAQUETERIA O GASTO EXTRA  UTILIDAD REAL  FACTURADO  \\\n",
       "0  ...                       0.0          528.4         Sí   \n",
       "1  ...                       0.0          902.7         Sí   \n",
       "\n",
       "   NO DE FACTURA O NOTA DE VENTA  ENTREGADO PAGADO % COMISIÓN COMISION  \\\n",
       "0                          A2594         Sí     Sí       0.03   15.852   \n",
       "1                          A2594         Sí     Sí       0.03   27.081   \n",
       "\n",
       "  COMISION PAGADA  AUTORIZADO PARA PAGO  \n",
       "0              Sí                   NaN  \n",
       "1              Sí                   NaN  \n",
       "\n",
       "[2 rows x 23 columns]"
      ]
     },
     "execution_count": 100,
     "metadata": {},
     "output_type": "execute_result"
    }
   ],
   "source": [
    "df_compras_christian.head(2)"
   ]
  },
  {
   "cell_type": "code",
   "execution_count": 101,
   "id": "eff972c3-1afe-4c44-ae5b-a59a02ed882b",
   "metadata": {},
   "outputs": [
    {
     "name": "stdout",
     "output_type": "stream",
     "text": [
      "<class 'pandas.core.frame.DataFrame'>\n",
      "RangeIndex: 867 entries, 0 to 866\n",
      "Data columns (total 23 columns):\n",
      " #   Column                         Non-Null Count  Dtype         \n",
      "---  ------                         --------------  -----         \n",
      " 0   Creado                         867 non-null    datetime64[ns]\n",
      " 1   FECHA                          841 non-null    datetime64[ns]\n",
      " 2   PROYECTO                       844 non-null    object        \n",
      " 3   VENDEDOR                       844 non-null    object        \n",
      " 4   TIPO DE CLIENTE                844 non-null    object        \n",
      " 5   CLIENTE                        844 non-null    object        \n",
      " 6   CANTIDAD                       844 non-null    float64       \n",
      " 7   ARTICULO                       844 non-null    object        \n",
      " 8   COSTO                          844 non-null    float64       \n",
      " 9   IMPRESIÓN                      844 non-null    float64       \n",
      " 10  PRECIO                         844 non-null    float64       \n",
      " 11  TOTAL                          866 non-null    float64       \n",
      " 12  MERMAS                         843 non-null    float64       \n",
      " 13  PAQUETERIA O GASTO EXTRA       743 non-null    float64       \n",
      " 14  UTILIDAD REAL                  867 non-null    float64       \n",
      " 15  FACTURADO                      844 non-null    object        \n",
      " 16  NO DE FACTURA O NOTA DE VENTA  739 non-null    object        \n",
      " 17  ENTREGADO                      844 non-null    object        \n",
      " 18  PAGADO                         844 non-null    object        \n",
      " 19  % COMISIÓN                     452 non-null    float64       \n",
      " 20  COMISION                       613 non-null    float64       \n",
      " 21  COMISION PAGADA                508 non-null    object        \n",
      " 22  AUTORIZADO PARA PAGO           68 non-null     object        \n",
      "dtypes: datetime64[ns](2), float64(10), object(11)\n",
      "memory usage: 155.9+ KB\n"
     ]
    }
   ],
   "source": [
    "df_compras_christian.info()"
   ]
  },
  {
   "cell_type": "code",
   "execution_count": 102,
   "id": "2f72d584-66cc-403d-b200-69f78ceb75e2",
   "metadata": {},
   "outputs": [
    {
     "name": "stderr",
     "output_type": "stream",
     "text": [
      "C:\\Users\\sistemas\\AppData\\Local\\Temp\\ipykernel_8472\\3405381963.py:1: FutureWarning: The default value of regex will change from True to False in a future version.\n",
      "  df_compras_christian.columns = df_compras_christian.columns.str.lower().str.replace('\\(.*','').str.replace('\\.','').str.replace('\\:','').str.strip().str.replace(' ','_')\n",
      "C:\\Users\\sistemas\\AppData\\Local\\Temp\\ipykernel_8472\\3405381963.py:1: FutureWarning: The default value of regex will change from True to False in a future version.\n",
      "  df_compras_christian.columns = df_compras_christian.columns.str.lower().str.replace('\\(.*','').str.replace('\\.','').str.replace('\\:','').str.strip().str.replace(' ','_')\n",
      "C:\\Users\\sistemas\\AppData\\Local\\Temp\\ipykernel_8472\\3405381963.py:1: FutureWarning: The default value of regex will change from True to False in a future version.\n",
      "  df_compras_christian.columns = df_compras_christian.columns.str.lower().str.replace('\\(.*','').str.replace('\\.','').str.replace('\\:','').str.strip().str.replace(' ','_')\n"
     ]
    }
   ],
   "source": [
    "df_compras_christian.columns = df_compras_christian.columns.str.lower().str.replace('\\(.*','').str.replace('\\.','').str.replace('\\:','').str.strip().str.replace(' ','_')"
   ]
  },
  {
   "cell_type": "code",
   "execution_count": 103,
   "id": "53c03327-92d2-4890-87c0-0a0fb865f0cd",
   "metadata": {},
   "outputs": [
    {
     "data": {
      "text/plain": [
       "Index(['creado', 'fecha', 'proyecto', 'vendedor', 'tipo_de_cliente', 'cliente',\n",
       "       'cantidad', 'articulo', 'costo', 'impresión', 'precio', 'total',\n",
       "       'mermas', 'paqueteria_o_gasto_extra', 'utilidad_real', 'facturado',\n",
       "       'no_de_factura_o_nota_de_venta', 'entregado', 'pagado', '%_comisión',\n",
       "       'comision', 'comision_pagada', 'autorizado_para_pago'],\n",
       "      dtype='object')"
      ]
     },
     "execution_count": 103,
     "metadata": {},
     "output_type": "execute_result"
    }
   ],
   "source": [
    "df_compras_christian.columns"
   ]
  },
  {
   "cell_type": "code",
   "execution_count": 104,
   "id": "4ea4afc8-dd53-42ab-b1da-96d5461cd389",
   "metadata": {},
   "outputs": [],
   "source": [
    "df_compras_christian = df_compras_christian[df_compras_christian.vendedor.notna()]"
   ]
  },
  {
   "cell_type": "code",
   "execution_count": 105,
   "id": "3f5aeced-545c-4f7f-ae26-0ba3012f6c06",
   "metadata": {},
   "outputs": [
    {
     "name": "stdout",
     "output_type": "stream",
     "text": [
      "<class 'pandas.core.frame.DataFrame'>\n",
      "Int64Index: 844 entries, 0 to 843\n",
      "Data columns (total 23 columns):\n",
      " #   Column                         Non-Null Count  Dtype         \n",
      "---  ------                         --------------  -----         \n",
      " 0   creado                         844 non-null    datetime64[ns]\n",
      " 1   fecha                          841 non-null    datetime64[ns]\n",
      " 2   proyecto                       844 non-null    object        \n",
      " 3   vendedor                       844 non-null    object        \n",
      " 4   tipo_de_cliente                844 non-null    object        \n",
      " 5   cliente                        844 non-null    object        \n",
      " 6   cantidad                       844 non-null    float64       \n",
      " 7   articulo                       844 non-null    object        \n",
      " 8   costo                          844 non-null    float64       \n",
      " 9   impresión                      844 non-null    float64       \n",
      " 10  precio                         844 non-null    float64       \n",
      " 11  total                          844 non-null    float64       \n",
      " 12  mermas                         843 non-null    float64       \n",
      " 13  paqueteria_o_gasto_extra       743 non-null    float64       \n",
      " 14  utilidad_real                  844 non-null    float64       \n",
      " 15  facturado                      844 non-null    object        \n",
      " 16  no_de_factura_o_nota_de_venta  739 non-null    object        \n",
      " 17  entregado                      844 non-null    object        \n",
      " 18  pagado                         844 non-null    object        \n",
      " 19  %_comisión                     452 non-null    float64       \n",
      " 20  comision                       613 non-null    float64       \n",
      " 21  comision_pagada                508 non-null    object        \n",
      " 22  autorizado_para_pago           68 non-null     object        \n",
      "dtypes: datetime64[ns](2), float64(10), object(11)\n",
      "memory usage: 158.2+ KB\n"
     ]
    }
   ],
   "source": [
    "df_compras_christian.info()"
   ]
  },
  {
   "cell_type": "code",
   "execution_count": 106,
   "id": "67b40f4e-f6f7-4522-9021-b836944a2bdd",
   "metadata": {},
   "outputs": [
    {
     "data": {
      "text/plain": [
       "Index(['creado', 'fecha', 'proyecto', 'vendedor', 'tipo_de_cliente', 'cliente',\n",
       "       'cantidad', 'articulo', 'costo', 'impresión', 'precio', 'total',\n",
       "       'mermas', 'paqueteria_o_gasto_extra', 'utilidad_real', 'facturado',\n",
       "       'no_de_factura_o_nota_de_venta', 'entregado', 'pagado', '%_comisión',\n",
       "       'comision', 'comision_pagada', 'autorizado_para_pago'],\n",
       "      dtype='object')"
      ]
     },
     "execution_count": 106,
     "metadata": {},
     "output_type": "execute_result"
    }
   ],
   "source": [
    "df_compras_christian.columns"
   ]
  },
  {
   "cell_type": "code",
   "execution_count": 107,
   "id": "f7bcb4aa-150b-4458-886f-da0a18515088",
   "metadata": {},
   "outputs": [],
   "source": [
    "df_compras_christian.drop(columns=['facturado',\n",
    "       'no_de_factura_o_nota_de_venta', 'entregado', 'pagado', '%_comisión',\n",
    "       'comision', 'comision_pagada', 'autorizado_para_pago'], inplace=True)"
   ]
  },
  {
   "cell_type": "code",
   "execution_count": 108,
   "id": "877c967f-b93b-49ba-b69b-a192ec23fae0",
   "metadata": {},
   "outputs": [
    {
     "data": {
      "text/html": [
       "<div>\n",
       "<style scoped>\n",
       "    .dataframe tbody tr th:only-of-type {\n",
       "        vertical-align: middle;\n",
       "    }\n",
       "\n",
       "    .dataframe tbody tr th {\n",
       "        vertical-align: top;\n",
       "    }\n",
       "\n",
       "    .dataframe thead th {\n",
       "        text-align: right;\n",
       "    }\n",
       "</style>\n",
       "<table border=\"1\" class=\"dataframe\">\n",
       "  <thead>\n",
       "    <tr style=\"text-align: right;\">\n",
       "      <th></th>\n",
       "      <th>creado</th>\n",
       "      <th>fecha</th>\n",
       "      <th>proyecto</th>\n",
       "      <th>vendedor</th>\n",
       "      <th>tipo_de_cliente</th>\n",
       "      <th>cliente</th>\n",
       "      <th>cantidad</th>\n",
       "      <th>articulo</th>\n",
       "      <th>costo</th>\n",
       "      <th>impresión</th>\n",
       "      <th>precio</th>\n",
       "      <th>total</th>\n",
       "      <th>mermas</th>\n",
       "      <th>paqueteria_o_gasto_extra</th>\n",
       "      <th>utilidad_real</th>\n",
       "    </tr>\n",
       "  </thead>\n",
       "  <tbody>\n",
       "    <tr>\n",
       "      <th>0</th>\n",
       "      <td>2018-10-29 10:15:30</td>\n",
       "      <td>2018-10-01</td>\n",
       "      <td>PS1808080202</td>\n",
       "      <td>CRISTIAN HERNANDEZ</td>\n",
       "      <td>RECURRENTE</td>\n",
       "      <td>VMACS</td>\n",
       "      <td>10.0</td>\n",
       "      <td>HIELERA</td>\n",
       "      <td>88.07</td>\n",
       "      <td>0.0</td>\n",
       "      <td>140.91</td>\n",
       "      <td>1409.1</td>\n",
       "      <td>0.0</td>\n",
       "      <td>0.0</td>\n",
       "      <td>528.40</td>\n",
       "    </tr>\n",
       "    <tr>\n",
       "      <th>1</th>\n",
       "      <td>2018-11-07 09:04:28</td>\n",
       "      <td>2018-10-01</td>\n",
       "      <td>PS1808080202</td>\n",
       "      <td>CRISTIAN HERNANDEZ</td>\n",
       "      <td>RECURRENTE</td>\n",
       "      <td>VMACS</td>\n",
       "      <td>10.0</td>\n",
       "      <td>MOCHILA METROPOLITAN</td>\n",
       "      <td>451.33</td>\n",
       "      <td>0.0</td>\n",
       "      <td>541.60</td>\n",
       "      <td>5416.0</td>\n",
       "      <td>0.0</td>\n",
       "      <td>0.0</td>\n",
       "      <td>902.70</td>\n",
       "    </tr>\n",
       "    <tr>\n",
       "      <th>2</th>\n",
       "      <td>2018-11-07 09:04:28</td>\n",
       "      <td>2018-10-01</td>\n",
       "      <td>PS1808080202</td>\n",
       "      <td>CRISTIAN HERNANDEZ</td>\n",
       "      <td>RECURRENTE</td>\n",
       "      <td>VMACS</td>\n",
       "      <td>10.0</td>\n",
       "      <td>MALETA TRAVEL</td>\n",
       "      <td>228.13</td>\n",
       "      <td>0.0</td>\n",
       "      <td>296.57</td>\n",
       "      <td>2965.7</td>\n",
       "      <td>0.0</td>\n",
       "      <td>0.0</td>\n",
       "      <td>684.40</td>\n",
       "    </tr>\n",
       "    <tr>\n",
       "      <th>3</th>\n",
       "      <td>2018-11-07 09:04:28</td>\n",
       "      <td>2018-10-01</td>\n",
       "      <td>PS1808080202</td>\n",
       "      <td>CRISTIAN HERNANDEZ</td>\n",
       "      <td>RECURRENTE</td>\n",
       "      <td>VMACS</td>\n",
       "      <td>10.0</td>\n",
       "      <td>PORTA PASAPORTE</td>\n",
       "      <td>86.32</td>\n",
       "      <td>0.0</td>\n",
       "      <td>143.43</td>\n",
       "      <td>1434.3</td>\n",
       "      <td>0.0</td>\n",
       "      <td>0.0</td>\n",
       "      <td>571.10</td>\n",
       "    </tr>\n",
       "    <tr>\n",
       "      <th>4</th>\n",
       "      <td>2018-11-07 09:19:25</td>\n",
       "      <td>2018-10-02</td>\n",
       "      <td>AS1809240301</td>\n",
       "      <td>CRISTIAN HERNANDEZ</td>\n",
       "      <td>NUEVO</td>\n",
       "      <td>TUS EVENTOS</td>\n",
       "      <td>50.0</td>\n",
       "      <td>MOUSE PAD</td>\n",
       "      <td>9.69</td>\n",
       "      <td>19.8</td>\n",
       "      <td>49.66</td>\n",
       "      <td>2483.0</td>\n",
       "      <td>2.0</td>\n",
       "      <td>0.0</td>\n",
       "      <td>989.12</td>\n",
       "    </tr>\n",
       "  </tbody>\n",
       "</table>\n",
       "</div>"
      ],
      "text/plain": [
       "               creado      fecha      proyecto            vendedor  \\\n",
       "0 2018-10-29 10:15:30 2018-10-01  PS1808080202  CRISTIAN HERNANDEZ   \n",
       "1 2018-11-07 09:04:28 2018-10-01  PS1808080202  CRISTIAN HERNANDEZ   \n",
       "2 2018-11-07 09:04:28 2018-10-01  PS1808080202  CRISTIAN HERNANDEZ   \n",
       "3 2018-11-07 09:04:28 2018-10-01  PS1808080202  CRISTIAN HERNANDEZ   \n",
       "4 2018-11-07 09:19:25 2018-10-02  AS1809240301  CRISTIAN HERNANDEZ   \n",
       "\n",
       "  tipo_de_cliente      cliente  cantidad              articulo   costo  \\\n",
       "0      RECURRENTE        VMACS      10.0               HIELERA   88.07   \n",
       "1      RECURRENTE        VMACS      10.0  MOCHILA METROPOLITAN  451.33   \n",
       "2      RECURRENTE        VMACS      10.0         MALETA TRAVEL  228.13   \n",
       "3      RECURRENTE        VMACS      10.0       PORTA PASAPORTE   86.32   \n",
       "4           NUEVO  TUS EVENTOS      50.0             MOUSE PAD    9.69   \n",
       "\n",
       "   impresión  precio   total  mermas  paqueteria_o_gasto_extra  utilidad_real  \n",
       "0        0.0  140.91  1409.1     0.0                       0.0         528.40  \n",
       "1        0.0  541.60  5416.0     0.0                       0.0         902.70  \n",
       "2        0.0  296.57  2965.7     0.0                       0.0         684.40  \n",
       "3        0.0  143.43  1434.3     0.0                       0.0         571.10  \n",
       "4       19.8   49.66  2483.0     2.0                       0.0         989.12  "
      ]
     },
     "execution_count": 108,
     "metadata": {},
     "output_type": "execute_result"
    }
   ],
   "source": [
    "df_compras_christian.head(5)"
   ]
  },
  {
   "cell_type": "code",
   "execution_count": 109,
   "id": "de78aa32-a820-4789-905a-4b470237fe6e",
   "metadata": {},
   "outputs": [
    {
     "name": "stdout",
     "output_type": "stream",
     "text": [
      "<class 'pandas.core.frame.DataFrame'>\n",
      "Int64Index: 844 entries, 0 to 843\n",
      "Data columns (total 15 columns):\n",
      " #   Column                    Non-Null Count  Dtype         \n",
      "---  ------                    --------------  -----         \n",
      " 0   creado                    844 non-null    datetime64[ns]\n",
      " 1   fecha                     841 non-null    datetime64[ns]\n",
      " 2   proyecto                  844 non-null    object        \n",
      " 3   vendedor                  844 non-null    object        \n",
      " 4   tipo_de_cliente           844 non-null    object        \n",
      " 5   cliente                   844 non-null    object        \n",
      " 6   cantidad                  844 non-null    float64       \n",
      " 7   articulo                  844 non-null    object        \n",
      " 8   costo                     844 non-null    float64       \n",
      " 9   impresión                 844 non-null    float64       \n",
      " 10  precio                    844 non-null    float64       \n",
      " 11  total                     844 non-null    float64       \n",
      " 12  mermas                    843 non-null    float64       \n",
      " 13  paqueteria_o_gasto_extra  743 non-null    float64       \n",
      " 14  utilidad_real             844 non-null    float64       \n",
      "dtypes: datetime64[ns](2), float64(8), object(5)\n",
      "memory usage: 105.5+ KB\n"
     ]
    }
   ],
   "source": [
    "df_compras_christian.info()"
   ]
  },
  {
   "cell_type": "code",
   "execution_count": 110,
   "id": "7d58911c-cabe-4ea7-b5e3-142fae80daa4",
   "metadata": {},
   "outputs": [
    {
     "data": {
      "text/html": [
       "<div>\n",
       "<style scoped>\n",
       "    .dataframe tbody tr th:only-of-type {\n",
       "        vertical-align: middle;\n",
       "    }\n",
       "\n",
       "    .dataframe tbody tr th {\n",
       "        vertical-align: top;\n",
       "    }\n",
       "\n",
       "    .dataframe thead th {\n",
       "        text-align: right;\n",
       "    }\n",
       "</style>\n",
       "<table border=\"1\" class=\"dataframe\">\n",
       "  <thead>\n",
       "    <tr style=\"text-align: right;\">\n",
       "      <th></th>\n",
       "      <th>creado</th>\n",
       "      <th>fecha</th>\n",
       "      <th>proyecto</th>\n",
       "      <th>vendedor</th>\n",
       "      <th>tipo_de_cliente</th>\n",
       "      <th>cliente</th>\n",
       "      <th>cantidad</th>\n",
       "      <th>articulo</th>\n",
       "      <th>costo</th>\n",
       "      <th>impresión</th>\n",
       "      <th>precio</th>\n",
       "      <th>total</th>\n",
       "      <th>mermas</th>\n",
       "      <th>paqueteria_o_gasto_extra</th>\n",
       "      <th>utilidad_real</th>\n",
       "    </tr>\n",
       "  </thead>\n",
       "  <tbody>\n",
       "    <tr>\n",
       "      <th>741</th>\n",
       "      <td>2022-09-19 12:51:15</td>\n",
       "      <td>2022-09-26</td>\n",
       "      <td>AS20220909033</td>\n",
       "      <td>MOISES VELAZQUEZ</td>\n",
       "      <td>RECURRENTE</td>\n",
       "      <td>MEICANA DE BECAS</td>\n",
       "      <td>100.0</td>\n",
       "      <td>TERMO DE ACERO INOXIDABLES DOBLE PARED</td>\n",
       "      <td>127.25</td>\n",
       "      <td>4.40</td>\n",
       "      <td>163.46</td>\n",
       "      <td>16346.00</td>\n",
       "      <td>2.0</td>\n",
       "      <td>NaN</td>\n",
       "      <td>2926.50</td>\n",
       "    </tr>\n",
       "    <tr>\n",
       "      <th>742</th>\n",
       "      <td>2022-09-19 12:51:15</td>\n",
       "      <td>2022-09-26</td>\n",
       "      <td>AS20220902012</td>\n",
       "      <td>MOISES VELAZQUEZ</td>\n",
       "      <td>RECURRENTE</td>\n",
       "      <td>DISEÑO LITOGRAFICO</td>\n",
       "      <td>500.0</td>\n",
       "      <td>TRAILER ANTI-STRESS</td>\n",
       "      <td>22.78</td>\n",
       "      <td>2.00</td>\n",
       "      <td>28.48</td>\n",
       "      <td>14240.00</td>\n",
       "      <td>2.0</td>\n",
       "      <td>NaN</td>\n",
       "      <td>1804.44</td>\n",
       "    </tr>\n",
       "    <tr>\n",
       "      <th>743</th>\n",
       "      <td>2022-09-19 12:51:15</td>\n",
       "      <td>2022-09-26</td>\n",
       "      <td>AS20220902012</td>\n",
       "      <td>MOISES VELAZQUEZ</td>\n",
       "      <td>RECURRENTE</td>\n",
       "      <td>DISEÑO LITOGRAFICO</td>\n",
       "      <td>250.0</td>\n",
       "      <td>PELOTA ANTRI-ESTRESS</td>\n",
       "      <td>9.40</td>\n",
       "      <td>1.60</td>\n",
       "      <td>17.86</td>\n",
       "      <td>4465.00</td>\n",
       "      <td>2.0</td>\n",
       "      <td>NaN</td>\n",
       "      <td>1696.20</td>\n",
       "    </tr>\n",
       "    <tr>\n",
       "      <th>744</th>\n",
       "      <td>2022-09-19 12:51:15</td>\n",
       "      <td>2022-09-26</td>\n",
       "      <td>AS20220902012</td>\n",
       "      <td>MOISES VELAZQUEZ</td>\n",
       "      <td>RECURRENTE</td>\n",
       "      <td>DISEÑO LITOGRAFICO</td>\n",
       "      <td>1000.0</td>\n",
       "      <td>BOLIGRAFO DE PLASTICO</td>\n",
       "      <td>1.65</td>\n",
       "      <td>0.85</td>\n",
       "      <td>2.64</td>\n",
       "      <td>2640.00</td>\n",
       "      <td>10.0</td>\n",
       "      <td>NaN</td>\n",
       "      <td>123.50</td>\n",
       "    </tr>\n",
       "    <tr>\n",
       "      <th>745</th>\n",
       "      <td>2022-09-19 12:51:15</td>\n",
       "      <td>2022-09-26</td>\n",
       "      <td>AS20220902012</td>\n",
       "      <td>MOISES VELAZQUEZ</td>\n",
       "      <td>RECURRENTE</td>\n",
       "      <td>DISEÑO LITOGRAFICO</td>\n",
       "      <td>250.0</td>\n",
       "      <td>CAMIONETA ANTI ESTRES</td>\n",
       "      <td>19.00</td>\n",
       "      <td>3.20</td>\n",
       "      <td>23.75</td>\n",
       "      <td>5937.50</td>\n",
       "      <td>2.0</td>\n",
       "      <td>NaN</td>\n",
       "      <td>349.50</td>\n",
       "    </tr>\n",
       "    <tr>\n",
       "      <th>...</th>\n",
       "      <td>...</td>\n",
       "      <td>...</td>\n",
       "      <td>...</td>\n",
       "      <td>...</td>\n",
       "      <td>...</td>\n",
       "      <td>...</td>\n",
       "      <td>...</td>\n",
       "      <td>...</td>\n",
       "      <td>...</td>\n",
       "      <td>...</td>\n",
       "      <td>...</td>\n",
       "      <td>...</td>\n",
       "      <td>...</td>\n",
       "      <td>...</td>\n",
       "      <td>...</td>\n",
       "    </tr>\n",
       "    <tr>\n",
       "      <th>839</th>\n",
       "      <td>2022-11-30 18:21:34</td>\n",
       "      <td>2022-12-07</td>\n",
       "      <td>AS20221130021</td>\n",
       "      <td>MOISES VELAZQUEZ</td>\n",
       "      <td>RECURRENTE</td>\n",
       "      <td>MANTERRA</td>\n",
       "      <td>300.0</td>\n",
       "      <td>MOCHILA DE POLIÉSTER ROJO</td>\n",
       "      <td>151.50</td>\n",
       "      <td>3.15</td>\n",
       "      <td>197.07</td>\n",
       "      <td>59121.00</td>\n",
       "      <td>3.0</td>\n",
       "      <td>NaN</td>\n",
       "      <td>12271.50</td>\n",
       "    </tr>\n",
       "    <tr>\n",
       "      <th>840</th>\n",
       "      <td>2022-11-30 18:21:34</td>\n",
       "      <td>NaT</td>\n",
       "      <td>PS20221212010</td>\n",
       "      <td>MOISES VELAZQUEZ</td>\n",
       "      <td>RECURRENTE</td>\n",
       "      <td>SERGIO ZAMORA</td>\n",
       "      <td>50.0</td>\n",
       "      <td>BOLSA ECOLÓGICA PAOLA</td>\n",
       "      <td>39.23</td>\n",
       "      <td>0.00</td>\n",
       "      <td>62.51</td>\n",
       "      <td>3125.50</td>\n",
       "      <td>0.0</td>\n",
       "      <td>NaN</td>\n",
       "      <td>1164.00</td>\n",
       "    </tr>\n",
       "    <tr>\n",
       "      <th>841</th>\n",
       "      <td>2022-11-30 18:21:34</td>\n",
       "      <td>2022-12-27</td>\n",
       "      <td>AS20221213012</td>\n",
       "      <td>MOISES VELAZQUEZ</td>\n",
       "      <td>RECURRENTE</td>\n",
       "      <td>ADHETEC</td>\n",
       "      <td>1000.0</td>\n",
       "      <td>BOLIGRAFO SPLASH</td>\n",
       "      <td>5.70</td>\n",
       "      <td>0.85</td>\n",
       "      <td>9.97</td>\n",
       "      <td>9970.00</td>\n",
       "      <td>4.0</td>\n",
       "      <td>NaN</td>\n",
       "      <td>3397.20</td>\n",
       "    </tr>\n",
       "    <tr>\n",
       "      <th>842</th>\n",
       "      <td>2022-11-30 18:21:34</td>\n",
       "      <td>2022-12-27</td>\n",
       "      <td>AS20221213012</td>\n",
       "      <td>MOISES VELAZQUEZ</td>\n",
       "      <td>RECURRENTE</td>\n",
       "      <td>ADHETEC</td>\n",
       "      <td>100.0</td>\n",
       "      <td>CILINDRO DEPORTIVO VERDE</td>\n",
       "      <td>11.25</td>\n",
       "      <td>5.80</td>\n",
       "      <td>24.36</td>\n",
       "      <td>2436.00</td>\n",
       "      <td>3.0</td>\n",
       "      <td>NaN</td>\n",
       "      <td>697.25</td>\n",
       "    </tr>\n",
       "    <tr>\n",
       "      <th>843</th>\n",
       "      <td>2022-11-30 18:21:34</td>\n",
       "      <td>2022-12-27</td>\n",
       "      <td>AS20221213012</td>\n",
       "      <td>MOISES VELAZQUEZ</td>\n",
       "      <td>RECURRENTE</td>\n",
       "      <td>ADHETEC</td>\n",
       "      <td>135.0</td>\n",
       "      <td>TAZA PARA SUBLIMAR</td>\n",
       "      <td>18.49</td>\n",
       "      <td>11.00</td>\n",
       "      <td>38.73</td>\n",
       "      <td>5228.55</td>\n",
       "      <td>3.0</td>\n",
       "      <td>NaN</td>\n",
       "      <td>1191.93</td>\n",
       "    </tr>\n",
       "  </tbody>\n",
       "</table>\n",
       "<p>101 rows × 15 columns</p>\n",
       "</div>"
      ],
      "text/plain": [
       "                 creado      fecha       proyecto          vendedor  \\\n",
       "741 2022-09-19 12:51:15 2022-09-26  AS20220909033  MOISES VELAZQUEZ   \n",
       "742 2022-09-19 12:51:15 2022-09-26  AS20220902012  MOISES VELAZQUEZ   \n",
       "743 2022-09-19 12:51:15 2022-09-26  AS20220902012  MOISES VELAZQUEZ   \n",
       "744 2022-09-19 12:51:15 2022-09-26  AS20220902012  MOISES VELAZQUEZ   \n",
       "745 2022-09-19 12:51:15 2022-09-26  AS20220902012  MOISES VELAZQUEZ   \n",
       "..                  ...        ...            ...               ...   \n",
       "839 2022-11-30 18:21:34 2022-12-07  AS20221130021  MOISES VELAZQUEZ   \n",
       "840 2022-11-30 18:21:34        NaT  PS20221212010  MOISES VELAZQUEZ   \n",
       "841 2022-11-30 18:21:34 2022-12-27  AS20221213012  MOISES VELAZQUEZ   \n",
       "842 2022-11-30 18:21:34 2022-12-27  AS20221213012  MOISES VELAZQUEZ   \n",
       "843 2022-11-30 18:21:34 2022-12-27  AS20221213012  MOISES VELAZQUEZ   \n",
       "\n",
       "    tipo_de_cliente             cliente  cantidad  \\\n",
       "741      RECURRENTE    MEICANA DE BECAS     100.0   \n",
       "742      RECURRENTE  DISEÑO LITOGRAFICO     500.0   \n",
       "743      RECURRENTE  DISEÑO LITOGRAFICO     250.0   \n",
       "744      RECURRENTE  DISEÑO LITOGRAFICO    1000.0   \n",
       "745      RECURRENTE  DISEÑO LITOGRAFICO     250.0   \n",
       "..              ...                 ...       ...   \n",
       "839      RECURRENTE            MANTERRA     300.0   \n",
       "840      RECURRENTE       SERGIO ZAMORA      50.0   \n",
       "841      RECURRENTE             ADHETEC    1000.0   \n",
       "842      RECURRENTE             ADHETEC     100.0   \n",
       "843      RECURRENTE             ADHETEC     135.0   \n",
       "\n",
       "                                   articulo   costo  impresión  precio  \\\n",
       "741  TERMO DE ACERO INOXIDABLES DOBLE PARED  127.25       4.40  163.46   \n",
       "742                     TRAILER ANTI-STRESS   22.78       2.00   28.48   \n",
       "743                    PELOTA ANTRI-ESTRESS    9.40       1.60   17.86   \n",
       "744                   BOLIGRAFO DE PLASTICO    1.65       0.85    2.64   \n",
       "745                   CAMIONETA ANTI ESTRES   19.00       3.20   23.75   \n",
       "..                                      ...     ...        ...     ...   \n",
       "839               MOCHILA DE POLIÉSTER ROJO  151.50       3.15  197.07   \n",
       "840                   BOLSA ECOLÓGICA PAOLA   39.23       0.00   62.51   \n",
       "841                        BOLIGRAFO SPLASH    5.70       0.85    9.97   \n",
       "842                CILINDRO DEPORTIVO VERDE   11.25       5.80   24.36   \n",
       "843                      TAZA PARA SUBLIMAR   18.49      11.00   38.73   \n",
       "\n",
       "        total  mermas  paqueteria_o_gasto_extra  utilidad_real  \n",
       "741  16346.00     2.0                       NaN        2926.50  \n",
       "742  14240.00     2.0                       NaN        1804.44  \n",
       "743   4465.00     2.0                       NaN        1696.20  \n",
       "744   2640.00    10.0                       NaN         123.50  \n",
       "745   5937.50     2.0                       NaN         349.50  \n",
       "..        ...     ...                       ...            ...  \n",
       "839  59121.00     3.0                       NaN       12271.50  \n",
       "840   3125.50     0.0                       NaN        1164.00  \n",
       "841   9970.00     4.0                       NaN        3397.20  \n",
       "842   2436.00     3.0                       NaN         697.25  \n",
       "843   5228.55     3.0                       NaN        1191.93  \n",
       "\n",
       "[101 rows x 15 columns]"
      ]
     },
     "execution_count": 110,
     "metadata": {},
     "output_type": "execute_result"
    }
   ],
   "source": [
    "df_compras_christian[df_compras_christian.paqueteria_o_gasto_extra.isna()]"
   ]
  },
  {
   "cell_type": "code",
   "execution_count": 111,
   "id": "dba48e7e-4aa9-4a6f-b1c8-2591a7d3da22",
   "metadata": {},
   "outputs": [],
   "source": [
    "df_compras_christian.paqueteria_o_gasto_extra.fillna(0,inplace=True)"
   ]
  },
  {
   "cell_type": "code",
   "execution_count": 112,
   "id": "9a04b848-205a-4a58-88e6-67450b9fae29",
   "metadata": {},
   "outputs": [
    {
     "data": {
      "text/plain": [
       "0"
      ]
     },
     "execution_count": 112,
     "metadata": {},
     "output_type": "execute_result"
    }
   ],
   "source": [
    "df_compras_christian.paqueteria_o_gasto_extra.isna().sum()"
   ]
  },
  {
   "cell_type": "code",
   "execution_count": 113,
   "id": "7a210327-babb-4c53-a6ad-6c157f389b79",
   "metadata": {},
   "outputs": [
    {
     "data": {
      "text/plain": [
       "1"
      ]
     },
     "execution_count": 113,
     "metadata": {},
     "output_type": "execute_result"
    }
   ],
   "source": [
    "df_compras_christian.mermas.isna().sum()"
   ]
  },
  {
   "cell_type": "code",
   "execution_count": 114,
   "id": "a95d91c2-2d2b-4b04-9bb9-10f3c09e6806",
   "metadata": {},
   "outputs": [
    {
     "data": {
      "text/plain": [
       "1.0"
      ]
     },
     "execution_count": 114,
     "metadata": {},
     "output_type": "execute_result"
    }
   ],
   "source": [
    "df_compras_christian.mermas.median()"
   ]
  },
  {
   "cell_type": "code",
   "execution_count": 115,
   "id": "6b693c8e-9adc-4df6-8142-769068c4161b",
   "metadata": {},
   "outputs": [],
   "source": [
    "df_compras_christian.mermas.fillna(1,inplace=True)"
   ]
  },
  {
   "cell_type": "code",
   "execution_count": 116,
   "id": "f66857ca-29a4-4059-8f71-bb171c629a42",
   "metadata": {},
   "outputs": [
    {
     "data": {
      "text/plain": [
       "0"
      ]
     },
     "execution_count": 116,
     "metadata": {},
     "output_type": "execute_result"
    }
   ],
   "source": [
    "df_compras_christian.mermas.isna().sum()"
   ]
  },
  {
   "cell_type": "code",
   "execution_count": 117,
   "id": "c080ec47-256d-4149-b9b1-57df32b139f6",
   "metadata": {},
   "outputs": [
    {
     "name": "stdout",
     "output_type": "stream",
     "text": [
      "<class 'pandas.core.frame.DataFrame'>\n",
      "Int64Index: 844 entries, 0 to 843\n",
      "Data columns (total 15 columns):\n",
      " #   Column                    Non-Null Count  Dtype         \n",
      "---  ------                    --------------  -----         \n",
      " 0   creado                    844 non-null    datetime64[ns]\n",
      " 1   fecha                     841 non-null    datetime64[ns]\n",
      " 2   proyecto                  844 non-null    object        \n",
      " 3   vendedor                  844 non-null    object        \n",
      " 4   tipo_de_cliente           844 non-null    object        \n",
      " 5   cliente                   844 non-null    object        \n",
      " 6   cantidad                  844 non-null    float64       \n",
      " 7   articulo                  844 non-null    object        \n",
      " 8   costo                     844 non-null    float64       \n",
      " 9   impresión                 844 non-null    float64       \n",
      " 10  precio                    844 non-null    float64       \n",
      " 11  total                     844 non-null    float64       \n",
      " 12  mermas                    844 non-null    float64       \n",
      " 13  paqueteria_o_gasto_extra  844 non-null    float64       \n",
      " 14  utilidad_real             844 non-null    float64       \n",
      "dtypes: datetime64[ns](2), float64(8), object(5)\n",
      "memory usage: 105.5+ KB\n"
     ]
    }
   ],
   "source": [
    "df_compras_christian.info()"
   ]
  },
  {
   "cell_type": "code",
   "execution_count": 118,
   "id": "4aa0d6de-66df-4bab-9a3a-c1418b5191d3",
   "metadata": {},
   "outputs": [],
   "source": [
    "lista_fecha_nan = list(df_compras_christian[df_compras_christian.fecha.isna()].index)"
   ]
  },
  {
   "cell_type": "code",
   "execution_count": 119,
   "id": "16b696ab-2323-44c2-8cc9-f6abcf4f3491",
   "metadata": {},
   "outputs": [
    {
     "data": {
      "text/plain": [
       "NaT"
      ]
     },
     "execution_count": 119,
     "metadata": {},
     "output_type": "execute_result"
    }
   ],
   "source": [
    "df_compras_christian.iloc[438]['fecha']"
   ]
  },
  {
   "cell_type": "code",
   "execution_count": 120,
   "id": "697a3eda-1b46-4492-82a8-02850e324433",
   "metadata": {},
   "outputs": [
    {
     "data": {
      "text/plain": [
       "Timestamp('2021-03-29 00:00:00')"
      ]
     },
     "execution_count": 120,
     "metadata": {},
     "output_type": "execute_result"
    }
   ],
   "source": [
    "df_compras_christian.iloc[437]['fecha']"
   ]
  },
  {
   "cell_type": "code",
   "execution_count": 121,
   "id": "33d542eb-04e9-47e8-ba28-df2dccf2f7d0",
   "metadata": {},
   "outputs": [
    {
     "name": "stderr",
     "output_type": "stream",
     "text": [
      "C:\\Users\\sistemas\\AppData\\Local\\Temp\\ipykernel_8472\\3582923544.py:2: SettingWithCopyWarning: \n",
      "A value is trying to be set on a copy of a slice from a DataFrame\n",
      "\n",
      "See the caveats in the documentation: https://pandas.pydata.org/pandas-docs/stable/user_guide/indexing.html#returning-a-view-versus-a-copy\n",
      "  df_compras_christian['fecha'][x] = df_compras_christian['fecha'][x-1]\n"
     ]
    }
   ],
   "source": [
    "for x in lista_fecha_nan:\n",
    "    df_compras_christian['fecha'][x] = df_compras_christian['fecha'][x-1]\n",
    "    "
   ]
  },
  {
   "cell_type": "code",
   "execution_count": 122,
   "id": "64651c21-76e7-40b9-8e50-a16ff3162ab0",
   "metadata": {},
   "outputs": [
    {
     "data": {
      "text/plain": [
       "Timestamp('2022-12-07 00:00:00')"
      ]
     },
     "execution_count": 122,
     "metadata": {},
     "output_type": "execute_result"
    }
   ],
   "source": [
    "df_compras_christian.iloc[839]['fecha']"
   ]
  },
  {
   "cell_type": "code",
   "execution_count": 123,
   "id": "18ac2b10-d91e-4353-a5f7-07b706a18643",
   "metadata": {},
   "outputs": [
    {
     "data": {
      "text/plain": [
       "Timestamp('2022-12-07 00:00:00')"
      ]
     },
     "execution_count": 123,
     "metadata": {},
     "output_type": "execute_result"
    }
   ],
   "source": [
    "df_compras_christian.iloc[840]['fecha']"
   ]
  },
  {
   "cell_type": "code",
   "execution_count": 124,
   "id": "65606b0c-7bcc-48b5-913f-0a04c8180201",
   "metadata": {},
   "outputs": [
    {
     "data": {
      "text/plain": [
       "[438, 521, 840]"
      ]
     },
     "execution_count": 124,
     "metadata": {},
     "output_type": "execute_result"
    }
   ],
   "source": [
    "lista_fecha_nan"
   ]
  },
  {
   "cell_type": "code",
   "execution_count": 125,
   "id": "ace555c2-a191-4223-80e1-6021d232bf50",
   "metadata": {},
   "outputs": [
    {
     "name": "stdout",
     "output_type": "stream",
     "text": [
      "<class 'pandas.core.frame.DataFrame'>\n",
      "Int64Index: 844 entries, 0 to 843\n",
      "Data columns (total 15 columns):\n",
      " #   Column                    Non-Null Count  Dtype         \n",
      "---  ------                    --------------  -----         \n",
      " 0   creado                    844 non-null    datetime64[ns]\n",
      " 1   fecha                     844 non-null    datetime64[ns]\n",
      " 2   proyecto                  844 non-null    object        \n",
      " 3   vendedor                  844 non-null    object        \n",
      " 4   tipo_de_cliente           844 non-null    object        \n",
      " 5   cliente                   844 non-null    object        \n",
      " 6   cantidad                  844 non-null    float64       \n",
      " 7   articulo                  844 non-null    object        \n",
      " 8   costo                     844 non-null    float64       \n",
      " 9   impresión                 844 non-null    float64       \n",
      " 10  precio                    844 non-null    float64       \n",
      " 11  total                     844 non-null    float64       \n",
      " 12  mermas                    844 non-null    float64       \n",
      " 13  paqueteria_o_gasto_extra  844 non-null    float64       \n",
      " 14  utilidad_real             844 non-null    float64       \n",
      "dtypes: datetime64[ns](2), float64(8), object(5)\n",
      "memory usage: 137.8+ KB\n"
     ]
    }
   ],
   "source": [
    "df_compras_christian.info()"
   ]
  },
  {
   "cell_type": "code",
   "execution_count": 126,
   "id": "8c27ce0d-0ee8-42fc-af53-4a42e667395a",
   "metadata": {},
   "outputs": [
    {
     "data": {
      "text/plain": [
       "'CRISTIAN HERNANDEZ'"
      ]
     },
     "execution_count": 126,
     "metadata": {},
     "output_type": "execute_result"
    }
   ],
   "source": [
    "list(df_compras_christian.vendedor.mode())[0]"
   ]
  },
  {
   "cell_type": "code",
   "execution_count": 128,
   "id": "1dc0ce29-03b7-44bd-9b6c-410ee2eede37",
   "metadata": {
    "tags": []
   },
   "outputs": [],
   "source": [
    "df_compras_christian.vendedor = list(df_compras_christian.vendedor.mode())[0]"
   ]
  },
  {
   "cell_type": "code",
   "execution_count": null,
   "id": "5efd5392-aef7-46e5-bd76-60867178e7ad",
   "metadata": {},
   "outputs": [],
   "source": []
  },
  {
   "cell_type": "code",
   "execution_count": 127,
   "id": "5681346c-2099-44a3-a624-c8a5aeb54f16",
   "metadata": {},
   "outputs": [
    {
     "data": {
      "text/plain": [
       "CRISTIAN HERNANDEZ    729\n",
       "MOISES VELAZQUEZ      115\n",
       "Name: vendedor, dtype: int64"
      ]
     },
     "execution_count": 127,
     "metadata": {},
     "output_type": "execute_result"
    }
   ],
   "source": [
    "df_compras_christian.vendedor.value_counts()"
   ]
  },
  {
   "cell_type": "code",
   "execution_count": 129,
   "id": "bdf72f3a-4085-4ab0-8b31-acaf8c3e8079",
   "metadata": {},
   "outputs": [
    {
     "data": {
      "text/plain": [
       "CRISTIAN HERNANDEZ    844\n",
       "Name: vendedor, dtype: int64"
      ]
     },
     "execution_count": 129,
     "metadata": {},
     "output_type": "execute_result"
    }
   ],
   "source": [
    "df_compras_christian.vendedor.value_counts()"
   ]
  },
  {
   "cell_type": "code",
   "execution_count": null,
   "id": "f27ad4ca-2ac9-4c60-99fa-872f7b73469f",
   "metadata": {},
   "outputs": [],
   "source": []
  }
 ],
 "metadata": {
  "kernelspec": {
   "display_name": "Python 3 (ipykernel)",
   "language": "python",
   "name": "python3"
  },
  "language_info": {
   "codemirror_mode": {
    "name": "ipython",
    "version": 3
   },
   "file_extension": ".py",
   "mimetype": "text/x-python",
   "name": "python",
   "nbconvert_exporter": "python",
   "pygments_lexer": "ipython3",
   "version": "3.9.13"
  }
 },
 "nbformat": 4,
 "nbformat_minor": 5
}
