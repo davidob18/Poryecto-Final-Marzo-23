{
 "cells": [
  {
   "cell_type": "code",
   "execution_count": 378,
   "id": "6691a4e4-d1a0-4ba0-9f92-dff48a882436",
   "metadata": {},
   "outputs": [],
   "source": [
    "import pandas as pd\n",
    "import numpy as np\n",
    "\n",
    "import matplotlib.pyplot as plt"
   ]
  },
  {
   "cell_type": "code",
   "execution_count": 379,
   "id": "f8f20c44-3af3-4320-9465-545a38ef3d49",
   "metadata": {},
   "outputs": [
    {
     "name": "stderr",
     "output_type": "stream",
     "text": [
      "C:\\Users\\sistemas\\anaconda3\\lib\\site-packages\\openpyxl\\styles\\stylesheet.py:226: UserWarning: Workbook contains no default style, apply openpyxl's default\n",
      "  warn(\"Workbook contains no default style, apply openpyxl's default\")\n"
     ]
    }
   ],
   "source": [
    "df_compras = pd.read_excel('~/Documents/Ironhack/Modulo 2/LABS/Poryecto-Final-Marzo-23/datas/2019 ORDENES DE PRODUCCION jun_completo.xlsx')"
   ]
  },
  {
   "cell_type": "code",
   "execution_count": 380,
   "id": "9e633a2e-e504-4307-816a-95b8c91c9df0",
   "metadata": {},
   "outputs": [
    {
     "data": {
      "text/html": [
       "<div>\n",
       "<style scoped>\n",
       "    .dataframe tbody tr th:only-of-type {\n",
       "        vertical-align: middle;\n",
       "    }\n",
       "\n",
       "    .dataframe tbody tr th {\n",
       "        vertical-align: top;\n",
       "    }\n",
       "\n",
       "    .dataframe thead th {\n",
       "        text-align: right;\n",
       "    }\n",
       "</style>\n",
       "<table border=\"1\" class=\"dataframe\">\n",
       "  <thead>\n",
       "    <tr style=\"text-align: right;\">\n",
       "      <th></th>\n",
       "      <th>Registrado:</th>\n",
       "      <th>Marca</th>\n",
       "      <th>No. de Proyecto:</th>\n",
       "      <th>Tipo de Proyecto:</th>\n",
       "      <th>Nombre del Vendedor:</th>\n",
       "      <th>Nombre del Cliente:</th>\n",
       "      <th>Tipo de Cliente:</th>\n",
       "      <th>Clasificación Cliente:</th>\n",
       "      <th>Fecha de Desempaque:</th>\n",
       "      <th>Fecha Producto Listo para Empaque:</th>\n",
       "      <th>Op Cotejada con Venta:</th>\n",
       "      <th>OP Registrada:</th>\n",
       "      <th>Observaciones:</th>\n",
       "      <th>OP verificada:</th>\n",
       "      <th>Proyecto Concluido:</th>\n",
       "    </tr>\n",
       "  </thead>\n",
       "  <tbody>\n",
       "    <tr>\n",
       "      <th>0</th>\n",
       "      <td>2021-08-24 20:02:11</td>\n",
       "      <td>NUKS</td>\n",
       "      <td>BNB24082112 Ajustador NEGRO</td>\n",
       "      <td>PROYECTO</td>\n",
       "      <td>BRENDA LETICIA TORRES BARAJAS</td>\n",
       "      <td>MARKETPLACE RED BABOON</td>\n",
       "      <td>AAA</td>\n",
       "      <td>Menor a $10,000</td>\n",
       "      <td>NaN</td>\n",
       "      <td>NaN</td>\n",
       "      <td>NaN</td>\n",
       "      <td>Sí</td>\n",
       "      <td>NaN</td>\n",
       "      <td>NaN</td>\n",
       "      <td>NaN</td>\n",
       "    </tr>\n",
       "    <tr>\n",
       "      <th>1</th>\n",
       "      <td>2021-08-24 20:01:39</td>\n",
       "      <td>NUKS</td>\n",
       "      <td>BNB24082111 Ajustador SUDKENY</td>\n",
       "      <td>PROYECTO</td>\n",
       "      <td>BRENDA LETICIA TORRES BARAJAS</td>\n",
       "      <td>MARKETPLACE SUDKENY PHARMA</td>\n",
       "      <td>AAA</td>\n",
       "      <td>Menor a $10,000</td>\n",
       "      <td>NaN</td>\n",
       "      <td>NaN</td>\n",
       "      <td>NaN</td>\n",
       "      <td>Sí</td>\n",
       "      <td>NaN</td>\n",
       "      <td>NaN</td>\n",
       "      <td>NaN</td>\n",
       "    </tr>\n",
       "  </tbody>\n",
       "</table>\n",
       "</div>"
      ],
      "text/plain": [
       "          Registrado: Marca               No. de Proyecto: Tipo de Proyecto:  \\\n",
       "0 2021-08-24 20:02:11  NUKS    BNB24082112 Ajustador NEGRO          PROYECTO   \n",
       "1 2021-08-24 20:01:39  NUKS  BNB24082111 Ajustador SUDKENY          PROYECTO   \n",
       "\n",
       "            Nombre del Vendedor:         Nombre del Cliente: Tipo de Cliente:  \\\n",
       "0  BRENDA LETICIA TORRES BARAJAS      MARKETPLACE RED BABOON              AAA   \n",
       "1  BRENDA LETICIA TORRES BARAJAS  MARKETPLACE SUDKENY PHARMA              AAA   \n",
       "\n",
       "  Clasificación Cliente:  Fecha de Desempaque:  \\\n",
       "0        Menor a $10,000                   NaN   \n",
       "1        Menor a $10,000                   NaN   \n",
       "\n",
       "   Fecha Producto Listo para Empaque:  Op Cotejada con Venta: OP Registrada:  \\\n",
       "0                                 NaN                     NaN             Sí   \n",
       "1                                 NaN                     NaN             Sí   \n",
       "\n",
       "  Observaciones:  OP verificada:  Proyecto Concluido:  \n",
       "0            NaN             NaN                  NaN  \n",
       "1            NaN             NaN                  NaN  "
      ]
     },
     "execution_count": 380,
     "metadata": {},
     "output_type": "execute_result"
    }
   ],
   "source": [
    "df_compras.head(2)"
   ]
  },
  {
   "cell_type": "code",
   "execution_count": 381,
   "id": "693c23bc-cdb5-4fe5-9735-eafbdda196ad",
   "metadata": {},
   "outputs": [
    {
     "data": {
      "text/plain": [
       "Index(['Registrado:', 'Marca', 'No. de Proyecto:', 'Tipo de Proyecto:',\n",
       "       'Nombre del Vendedor:', 'Nombre del Cliente:', 'Tipo de Cliente:',\n",
       "       'Clasificación Cliente:', 'Fecha de Desempaque:',\n",
       "       'Fecha Producto Listo para Empaque:', 'Op Cotejada con Venta:',\n",
       "       'OP Registrada:', 'Observaciones:', 'OP verificada:',\n",
       "       'Proyecto Concluido:'],\n",
       "      dtype='object')"
      ]
     },
     "execution_count": 381,
     "metadata": {},
     "output_type": "execute_result"
    }
   ],
   "source": [
    "df_compras.columns"
   ]
  },
  {
   "cell_type": "code",
   "execution_count": 382,
   "id": "2effb825-7f55-47d0-9c78-58febff03ac4",
   "metadata": {
    "tags": []
   },
   "outputs": [
    {
     "name": "stderr",
     "output_type": "stream",
     "text": [
      "C:\\Users\\sistemas\\AppData\\Local\\Temp\\ipykernel_11612\\3425969007.py:1: FutureWarning: The default value of regex will change from True to False in a future version.\n",
      "  df_compras.columns = df_compras.columns.str.lower().str.replace('\\(.*','').str.replace('\\.','').str.replace('\\:','').str.strip().str.replace(' ','_')\n",
      "C:\\Users\\sistemas\\AppData\\Local\\Temp\\ipykernel_11612\\3425969007.py:1: FutureWarning: The default value of regex will change from True to False in a future version.\n",
      "  df_compras.columns = df_compras.columns.str.lower().str.replace('\\(.*','').str.replace('\\.','').str.replace('\\:','').str.strip().str.replace(' ','_')\n",
      "C:\\Users\\sistemas\\AppData\\Local\\Temp\\ipykernel_11612\\3425969007.py:1: FutureWarning: The default value of regex will change from True to False in a future version.\n",
      "  df_compras.columns = df_compras.columns.str.lower().str.replace('\\(.*','').str.replace('\\.','').str.replace('\\:','').str.strip().str.replace(' ','_')\n"
     ]
    }
   ],
   "source": [
    "df_compras.columns = df_compras.columns.str.lower().str.replace('\\(.*','').str.replace('\\.','').str.replace('\\:','').str.strip().str.replace(' ','_')"
   ]
  },
  {
   "cell_type": "code",
   "execution_count": 383,
   "id": "8dca2111-e6ca-441d-98fc-48cb20871c6b",
   "metadata": {},
   "outputs": [
    {
     "data": {
      "text/plain": [
       "Index(['registrado', 'marca', 'no_de_proyecto', 'tipo_de_proyecto',\n",
       "       'nombre_del_vendedor', 'nombre_del_cliente', 'tipo_de_cliente',\n",
       "       'clasificación_cliente', 'fecha_de_desempaque',\n",
       "       'fecha_producto_listo_para_empaque', 'op_cotejada_con_venta',\n",
       "       'op_registrada', 'observaciones', 'op_verificada',\n",
       "       'proyecto_concluido'],\n",
       "      dtype='object')"
      ]
     },
     "execution_count": 383,
     "metadata": {},
     "output_type": "execute_result"
    }
   ],
   "source": [
    "df_compras.columns"
   ]
  },
  {
   "cell_type": "code",
   "execution_count": 384,
   "id": "99e2c5a2-aed8-4c85-b228-d05002cdb367",
   "metadata": {},
   "outputs": [
    {
     "name": "stdout",
     "output_type": "stream",
     "text": [
      "<class 'pandas.core.frame.DataFrame'>\n",
      "RangeIndex: 5884 entries, 0 to 5883\n",
      "Data columns (total 15 columns):\n",
      " #   Column                             Non-Null Count  Dtype         \n",
      "---  ------                             --------------  -----         \n",
      " 0   registrado                         5882 non-null   datetime64[ns]\n",
      " 1   marca                              5882 non-null   object        \n",
      " 2   no_de_proyecto                     5881 non-null   object        \n",
      " 3   tipo_de_proyecto                   5882 non-null   object        \n",
      " 4   nombre_del_vendedor                5882 non-null   object        \n",
      " 5   nombre_del_cliente                 5882 non-null   object        \n",
      " 6   tipo_de_cliente                    5879 non-null   object        \n",
      " 7   clasificación_cliente              5879 non-null   object        \n",
      " 8   fecha_de_desempaque                0 non-null      float64       \n",
      " 9   fecha_producto_listo_para_empaque  0 non-null      float64       \n",
      " 10  op_cotejada_con_venta              0 non-null      float64       \n",
      " 11  op_registrada                      3874 non-null   object        \n",
      " 12  observaciones                      998 non-null    object        \n",
      " 13  op_verificada                      0 non-null      float64       \n",
      " 14  proyecto_concluido                 0 non-null      float64       \n",
      "dtypes: datetime64[ns](1), float64(5), object(9)\n",
      "memory usage: 689.7+ KB\n"
     ]
    }
   ],
   "source": [
    "df_compras.info()"
   ]
  },
  {
   "cell_type": "code",
   "execution_count": 385,
   "id": "d658c1ed-0ce4-466b-a7c6-aedb916eaa85",
   "metadata": {},
   "outputs": [
    {
     "data": {
      "text/plain": [
       "NUKS                     2676\n",
       "PROMOSOLUCIONES          2177\n",
       "CASA DE LA BOLSA          235\n",
       "BANANO TEXTIL             217\n",
       "NUKS USA                  196\n",
       "ART PROMOS                184\n",
       "SQUEEZY                   150\n",
       "NUKS USA/SMASH             44\n",
       "PROMOSOLUCIONES/SMASH       1\n",
       "SQUEEZY/SMASH               1\n",
       "SMASH/PROMOS                1\n",
       "Name: marca, dtype: int64"
      ]
     },
     "execution_count": 385,
     "metadata": {},
     "output_type": "execute_result"
    }
   ],
   "source": [
    "df_compras.marca.value_counts()"
   ]
  },
  {
   "cell_type": "code",
   "execution_count": 386,
   "id": "20460779-f7dd-434c-b56b-8afda4bbc324",
   "metadata": {},
   "outputs": [
    {
     "data": {
      "text/plain": [
       "PROYECTO            5194\n",
       "MUESTRA              441\n",
       "PROYECTO COSTURA     196\n",
       "MUESTRA COSTURA       51\n",
       "Name: tipo_de_proyecto, dtype: int64"
      ]
     },
     "execution_count": 386,
     "metadata": {},
     "output_type": "execute_result"
    }
   ],
   "source": [
    "df_compras.tipo_de_proyecto.value_counts()"
   ]
  },
  {
   "cell_type": "code",
   "execution_count": 387,
   "id": "9f4f62ef-9bce-41d9-b69a-e786e6be7095",
   "metadata": {},
   "outputs": [
    {
     "data": {
      "text/plain": [
       "FARID               220\n",
       "GALLOS              140\n",
       "CKLASS               66\n",
       "ADRIAN GUEVARA       45\n",
       "FER                  45\n",
       "Farid                44\n",
       "NBA                  44\n",
       "FERNANDO             35\n",
       "MIGUEL HERNANDEZ     32\n",
       "ABIGAIL AGISS        30\n",
       "Name: nombre_del_cliente, dtype: int64"
      ]
     },
     "execution_count": 387,
     "metadata": {},
     "output_type": "execute_result"
    }
   ],
   "source": [
    "df_compras[(df_compras.marca=='NUKS') & (df_compras.tipo_de_proyecto == 'PROYECTO')].nombre_del_cliente.value_counts().head(10)"
   ]
  },
  {
   "cell_type": "code",
   "execution_count": 388,
   "id": "e3219bb8-58ae-4f87-807a-4cdad3649bee",
   "metadata": {},
   "outputs": [
    {
     "data": {
      "text/plain": [
       "ADRIANA MERCADO                 728\n",
       "SALVADOR                        247\n",
       "DIANA DEL OLMO                  237\n",
       "YASTABETH GONZALEZ              236\n",
       "Salvador Garcia                 161\n",
       "                               ... \n",
       "ADRIANA MERCAD                    1\n",
       "ELIZABETH VAZQUEZ ENRIQUEZ        1\n",
       "MARIAN GONZALEZ}                  1\n",
       "BRIAN GALINDO/ALLAN TRUJILLO      1\n",
       "DINA DEL OLMO                     1\n",
       "Name: nombre_del_vendedor, Length: 69, dtype: int64"
      ]
     },
     "execution_count": 388,
     "metadata": {},
     "output_type": "execute_result"
    }
   ],
   "source": [
    "df_compras[(df_compras.marca=='NUKS') & (df_compras.tipo_de_proyecto == 'PROYECTO')].nombre_del_vendedor.value_counts()"
   ]
  },
  {
   "cell_type": "code",
   "execution_count": 389,
   "id": "52575022-1190-42a7-ab71-178540877c13",
   "metadata": {},
   "outputs": [],
   "source": [
    "lista_vendedores = list(df_compras[(df_compras.marca=='NUKS') & (df_compras.tipo_de_proyecto == 'PROYECTO')].nombre_del_vendedor.value_counts().index)"
   ]
  },
  {
   "cell_type": "code",
   "execution_count": 390,
   "id": "4c53180b-33cd-4418-8a8c-a444a28dadc4",
   "metadata": {},
   "outputs": [
    {
     "data": {
      "text/plain": [
       "['ADRIANA MERCADO',\n",
       " 'SALVADOR',\n",
       " 'DIANA DEL OLMO',\n",
       " 'YASTABETH GONZALEZ',\n",
       " 'Salvador Garcia',\n",
       " 'GUADALUPE ESQUIVEL',\n",
       " 'ELIZABETH VAZQUEZ',\n",
       " 'YESSICA COLIN',\n",
       " 'ADRIANA',\n",
       " 'JUAN CARLOS GARCIA',\n",
       " 'Javier Martinez',\n",
       " 'ABIGAIL AGISS',\n",
       " 'Fernando Mendoza',\n",
       " 'FERNANDO MENDOZA',\n",
       " 'ISELA PECH',\n",
       " 'JUAN CARLOS GARCÍA',\n",
       " 'Edgar Correa',\n",
       " 'SALVADOR GARCIA',\n",
       " 'ADRIANA MERACDO',\n",
       " 'Salvador GArcia',\n",
       " 'BRIAN GALINDO',\n",
       " 'Javier Mtz',\n",
       " 'DAVID BAEZ',\n",
       " 'adriana mercado',\n",
       " 'YASTY GONZALEZ',\n",
       " 'CARLOS VILLANUEVA',\n",
       " 'DIAN DEL OLMO',\n",
       " 'ADRIANA  MERCADO',\n",
       " 'salvador Garcia',\n",
       " 'Isela Pech',\n",
       " 'EDGAR CORREA',\n",
       " 'MARIAN GONZALEZ',\n",
       " 'SHEILA HURTADO',\n",
       " 'ADRIANAMERCADO',\n",
       " 'Salvador Garcia Ortega',\n",
       " 'BRENDA LETICIA TORRES BARAJAS',\n",
       " 'YASTABETH VIRIDIANA',\n",
       " 'YATABETH GONZALEZ',\n",
       " 'ADRIANA  MERACDO',\n",
       " 'Javiere Martinez',\n",
       " 'JUAN CRALOS GARCIA',\n",
       " 'Adriana mercado',\n",
       " 'Javier Mrtinez',\n",
       " 'adriana meracdo',\n",
       " 'isela pech',\n",
       " 'Javier Mtartinez',\n",
       " 'YASTABTH GONZALEZ',\n",
       " 'Salvadpr Garcia',\n",
       " 'DIANA EL OLMO',\n",
       " 'adriana',\n",
       " 'Diana del Olmo',\n",
       " 'ADRIANA MERCADI',\n",
       " 'ABIGAIL AGIS',\n",
       " 'SAVADOR',\n",
       " 'Salador Garcia',\n",
       " 'SAlvador Garcia',\n",
       " 'Diana Del Olmo',\n",
       " 'ADRANA',\n",
       " 'ANGÉLICA ISLAS MIRANDA',\n",
       " 'Salvador Garccia',\n",
       " 'Salvadr Garcia',\n",
       " 'ANGELICA ISLAS MIRANDA',\n",
       " 'ANGELICA ISLAS',\n",
       " 'ADRIAN AMERCADO',\n",
       " 'ADRIANA MERCAD',\n",
       " 'ELIZABETH VAZQUEZ ENRIQUEZ',\n",
       " 'MARIAN GONZALEZ}',\n",
       " 'BRIAN GALINDO/ALLAN TRUJILLO',\n",
       " 'DINA DEL OLMO']"
      ]
     },
     "execution_count": 390,
     "metadata": {},
     "output_type": "execute_result"
    }
   ],
   "source": [
    "lista_vendedores"
   ]
  },
  {
   "cell_type": "code",
   "execution_count": 391,
   "id": "83bc76fa-3447-4c43-a270-983f9bb6c62c",
   "metadata": {},
   "outputs": [
    {
     "data": {
      "text/html": [
       "<div>\n",
       "<style scoped>\n",
       "    .dataframe tbody tr th:only-of-type {\n",
       "        vertical-align: middle;\n",
       "    }\n",
       "\n",
       "    .dataframe tbody tr th {\n",
       "        vertical-align: top;\n",
       "    }\n",
       "\n",
       "    .dataframe thead th {\n",
       "        text-align: right;\n",
       "    }\n",
       "</style>\n",
       "<table border=\"1\" class=\"dataframe\">\n",
       "  <thead>\n",
       "    <tr style=\"text-align: right;\">\n",
       "      <th></th>\n",
       "      <th>0</th>\n",
       "    </tr>\n",
       "  </thead>\n",
       "  <tbody>\n",
       "    <tr>\n",
       "      <th>0</th>\n",
       "      <td>ADRIANA MERCADO</td>\n",
       "    </tr>\n",
       "    <tr>\n",
       "      <th>1</th>\n",
       "      <td>SALVADOR</td>\n",
       "    </tr>\n",
       "    <tr>\n",
       "      <th>2</th>\n",
       "      <td>DIANA DEL OLMO</td>\n",
       "    </tr>\n",
       "  </tbody>\n",
       "</table>\n",
       "</div>"
      ],
      "text/plain": [
       "                 0\n",
       "0  ADRIANA MERCADO\n",
       "1         SALVADOR\n",
       "2   DIANA DEL OLMO"
      ]
     },
     "execution_count": 391,
     "metadata": {},
     "output_type": "execute_result"
    }
   ],
   "source": [
    "lista_vendedores_2 = pd.DataFrame(lista_vendedores)\n",
    "lista_vendedores_2.head(3)"
   ]
  },
  {
   "cell_type": "code",
   "execution_count": 392,
   "id": "de666946-e3f2-410f-af22-d24c42bd6f2f",
   "metadata": {
    "tags": []
   },
   "outputs": [],
   "source": [
    "def cambiar_nombre(num):\n",
    "    num= str(num)\n",
    "    num=num.lower()\n",
    "    #print(type(num))\n",
    "    if 'salva' in num:\n",
    "        num = 'salvador garcia'\n",
    "        #num = float(num)\n",
    "        return num\n",
    "    \n",
    "    if 'olmo' in num:\n",
    "        num = 'diana del olmo'\n",
    "        #num = float(num)\n",
    "        return num\n",
    "    \n",
    "    if 'adr' in num:\n",
    "        num = 'adriana mercado'\n",
    "        #num = float(num)\n",
    "        return num\n",
    "    \n",
    "    if 'mer' in num:\n",
    "        num = 'adriana mercado'\n",
    "        #num = float(num)\n",
    "        return num\n",
    "    \n",
    "    if 'fer' in num:\n",
    "        num = 'fernando mendoza'\n",
    "        #num = float(num)\n",
    "        return num\n",
    "    \n",
    "    if 'jav' in num:\n",
    "        num = 'javier martinez'\n",
    "        #num = float(num)\n",
    "        return num\n",
    "    \n",
    "    if 'yas' in num:\n",
    "        num = 'yastabth gonzalez'\n",
    "        #num = float(num)\n",
    "        return num\n",
    "    \n",
    "    if 'yat' in num:\n",
    "        num = 'yastabth gonzalez'\n",
    "        #num = float(num)\n",
    "        return num\n",
    "    \n",
    "    if 'sava' in num:\n",
    "        num = 'salvador garcia'\n",
    "        #num = float(num)\n",
    "        return num\n",
    "    \n",
    "    if 'sal' in num:\n",
    "        num = 'salvador garcia'\n",
    "        #num = float(num)\n",
    "        return num\n",
    "    \n",
    "    if 'mar' in num:\n",
    "        num = 'marian gonzalez'\n",
    "        #num = float(num)\n",
    "        return num\n",
    "    \n",
    "    if 'brian' in num:\n",
    "        num = 'brian galindo'\n",
    "        #num = float(num)\n",
    "        return num\n",
    "    \n",
    "    if 'juan' in num:\n",
    "        num = 'juan carlos garcia'\n",
    "        #num = float(num)\n",
    "        return num\n",
    "    \n",
    "    if 'ang' in num:\n",
    "        num = 'angelica islas miranda'\n",
    "        #num = float(num)\n",
    "        return num\n",
    "    \n",
    "    if 'abi' in num:\n",
    "        num = 'abigail agis'\n",
    "        #num = float(num)\n",
    "        return num\n",
    "    \n",
    "    if 'elizabeth' in num:\n",
    "        num = 'elizabeth vazquez'\n",
    "        #num = float(num)\n",
    "        return num\n",
    "    \n",
    "    \n",
    "    else:\n",
    "        #num = float(num)\n",
    "        return num"
   ]
  },
  {
   "cell_type": "code",
   "execution_count": 393,
   "id": "549088f7-b430-4fe0-8125-4fcd815ee1d4",
   "metadata": {},
   "outputs": [],
   "source": [
    "lista_vendedores_2[0] = lista_vendedores_2[0].apply(cambiar_nombre)"
   ]
  },
  {
   "cell_type": "code",
   "execution_count": 394,
   "id": "d874cc08-828e-4317-aaab-3071c83f1283",
   "metadata": {},
   "outputs": [
    {
     "data": {
      "text/plain": [
       "adriana mercado                  14\n",
       "salvador garcia                  12\n",
       "diana del olmo                    6\n",
       "yastabth gonzalez                 5\n",
       "javier martinez                   5\n",
       "angelica islas miranda            3\n",
       "juan carlos garcia                3\n",
       "isela pech                        3\n",
       "abigail agis                      2\n",
       "marian gonzalez                   2\n",
       "fernando mendoza                  2\n",
       "elizabeth vazquez                 2\n",
       "edgar correa                      2\n",
       "brian galindo                     2\n",
       "guadalupe esquivel                1\n",
       "david baez                        1\n",
       "carlos villanueva                 1\n",
       "sheila hurtado                    1\n",
       "brenda leticia torres barajas     1\n",
       "yessica colin                     1\n",
       "dtype: int64"
      ]
     },
     "execution_count": 394,
     "metadata": {},
     "output_type": "execute_result"
    }
   ],
   "source": [
    "lista_vendedores_2.value_counts()"
   ]
  },
  {
   "cell_type": "code",
   "execution_count": 395,
   "id": "baec6cea-8619-4682-ba23-21c3b59dfcf3",
   "metadata": {},
   "outputs": [
    {
     "data": {
      "text/plain": [
       "ADRIAN GUEVARA                  250\n",
       "GUILLERMO FLORES                152\n",
       "JESSICA OSORIO                  143\n",
       "ALEJANDRA PECH                  132\n",
       "YANET FLORES                    123\n",
       "                               ... \n",
       "MARISELA  HERNANDEZ               1\n",
       "adriana mercado                   1\n",
       "JESSIC ASORIO                     1\n",
       "JAIR OROPEZA / BRIAN GALINDO      1\n",
       "EDWIN PIÑA / BRIAN GALINDO        1\n",
       "Name: nombre_del_vendedor, Length: 79, dtype: int64"
      ]
     },
     "execution_count": 395,
     "metadata": {},
     "output_type": "execute_result"
    }
   ],
   "source": [
    "df_compras[(df_compras.marca=='PROMOSOLUCIONES')& (df_compras.tipo_de_proyecto == 'PROYECTO')].nombre_del_vendedor.value_counts()"
   ]
  },
  {
   "cell_type": "code",
   "execution_count": 396,
   "id": "9e90e98b-1cfd-4a0e-b6d7-20ee0d95472a",
   "metadata": {},
   "outputs": [],
   "source": [
    "lista_vendedores_promo = list(df_compras[(df_compras.marca=='PROMOSOLUCIONES')& (df_compras.tipo_de_proyecto == 'PROYECTO')].nombre_del_vendedor.value_counts().index)"
   ]
  },
  {
   "cell_type": "code",
   "execution_count": 397,
   "id": "9986e425-3ce5-44c0-aedc-5c818c8d4192",
   "metadata": {},
   "outputs": [
    {
     "data": {
      "text/plain": [
       "['ADRIAN GUEVARA',\n",
       " 'GUILLERMO FLORES',\n",
       " 'JESSICA OSORIO',\n",
       " 'ALEJANDRA PECH',\n",
       " 'YANET FLORES',\n",
       " 'NORMA MARTINEZ',\n",
       " 'ADRIANA MERCADO',\n",
       " 'ABIGAIL AGISS',\n",
       " 'ELIZABETH VAZQUEZ',\n",
       " 'CARLOS ACOSTA',\n",
       " 'BRIAN GALINDO',\n",
       " 'LUIS CONTRERAS',\n",
       " 'VIANEY SANCHEZ',\n",
       " 'GUSTAVO ESTRADA',\n",
       " 'VICTOR RAMOS',\n",
       " 'MIGUEL HERNANDEZ',\n",
       " 'CRISTIAN HERNANDEZ',\n",
       " 'YESSICA COLIN',\n",
       " 'MARISELA HERNANDEZ',\n",
       " 'FRANCISCO RASCON',\n",
       " 'Alexis Meza',\n",
       " 'francisco rascon',\n",
       " 'LUZ ADRIANA RAMIREZ ACOSTA',\n",
       " 'ITZEL BALCAZAR',\n",
       " 'Cristian Alexis',\n",
       " 'FRANCISCO MARTINEZ',\n",
       " 'LENY MOLINA',\n",
       " 'ROGELIO FLORES',\n",
       " 'JULIO JIMENEZ',\n",
       " 'ANDRES PEREZ',\n",
       " 'EDGAR RAMÍREZ',\n",
       " 'ANA MORCOS',\n",
       " 'andres perez',\n",
       " 'MONICA AVILA',\n",
       " 'ALLAN TRUJILLO',\n",
       " 'GISSELA PONCE',\n",
       " 'ADRIANA RAMIREZ',\n",
       " 'CARMEN MOREY',\n",
       " 'CYNTHIA GARCIA',\n",
       " 'ELIZABETH VAZUEZ',\n",
       " 'JAIR OROPEZA',\n",
       " 'BRIAN GALINDO/JAIR OROPEZA',\n",
       " 'JULIO JIMENEZ / KAM ANTONIO',\n",
       " 'DANIELA ARGUETA',\n",
       " 'BRIAN GALINDO / EDWIN PIÑA',\n",
       " 'BRENDA LETICIA TORRES BARAJAS',\n",
       " 'ADRIANA  MERCADO',\n",
       " 'SHEILA HURTADO',\n",
       " 'MONICA CORTES',\n",
       " 'FRANCISCO MARYTINEZ',\n",
       " 'BRIAN/ EDWIN PIÑA',\n",
       " 'ISELA PECH',\n",
       " 'BRIAN GALINDO/EDWIN PIÑA',\n",
       " 'MARISELA HENADEZ',\n",
       " 'carlos acosta',\n",
       " 'EDWIN PIÑA',\n",
       " 'V|CTOR RAMOS',\n",
       " 'BRIAN GALINDOJU',\n",
       " 'ALLAN TRUJILLO / BRIAN GALINDO',\n",
       " 'GUILLEROM FLORES',\n",
       " 'LUZ ADRIANA RAMIREZ',\n",
       " 'MARISELA',\n",
       " 'ELIZABETH VAZQUEZ ENRIQUEZ',\n",
       " 'ALlexis Meza',\n",
       " 'EGOBA',\n",
       " 'Adriana Mercado',\n",
       " 'ADRIANA MERCDAO',\n",
       " 'GUADALUPE ESQUIVEL',\n",
       " 'MARISELA HENANDEZ',\n",
       " 'Carlos Acosta',\n",
       " 'DIANA DEL OLMO',\n",
       " 'EDWIN PIÑA/ BRIAN GALINDO',\n",
       " 'ADRIANA MERCAD',\n",
       " 'Leny Molina',\n",
       " 'MARISELA  HERNANDEZ',\n",
       " 'adriana mercado',\n",
       " 'JESSIC ASORIO',\n",
       " 'JAIR OROPEZA / BRIAN GALINDO',\n",
       " 'EDWIN PIÑA / BRIAN GALINDO']"
      ]
     },
     "execution_count": 397,
     "metadata": {},
     "output_type": "execute_result"
    }
   ],
   "source": [
    "lista_vendedores_promo"
   ]
  },
  {
   "cell_type": "code",
   "execution_count": 398,
   "id": "ed027c32-08c0-48d9-89df-45640dc2cc23",
   "metadata": {
    "tags": []
   },
   "outputs": [
    {
     "data": {
      "text/html": [
       "<div>\n",
       "<style scoped>\n",
       "    .dataframe tbody tr th:only-of-type {\n",
       "        vertical-align: middle;\n",
       "    }\n",
       "\n",
       "    .dataframe tbody tr th {\n",
       "        vertical-align: top;\n",
       "    }\n",
       "\n",
       "    .dataframe thead th {\n",
       "        text-align: right;\n",
       "    }\n",
       "</style>\n",
       "<table border=\"1\" class=\"dataframe\">\n",
       "  <thead>\n",
       "    <tr style=\"text-align: right;\">\n",
       "      <th></th>\n",
       "      <th>0</th>\n",
       "    </tr>\n",
       "  </thead>\n",
       "  <tbody>\n",
       "    <tr>\n",
       "      <th>0</th>\n",
       "      <td>ADRIAN GUEVARA</td>\n",
       "    </tr>\n",
       "    <tr>\n",
       "      <th>1</th>\n",
       "      <td>GUILLERMO FLORES</td>\n",
       "    </tr>\n",
       "    <tr>\n",
       "      <th>2</th>\n",
       "      <td>JESSICA OSORIO</td>\n",
       "    </tr>\n",
       "  </tbody>\n",
       "</table>\n",
       "</div>"
      ],
      "text/plain": [
       "                  0\n",
       "0    ADRIAN GUEVARA\n",
       "1  GUILLERMO FLORES\n",
       "2    JESSICA OSORIO"
      ]
     },
     "execution_count": 398,
     "metadata": {},
     "output_type": "execute_result"
    }
   ],
   "source": [
    "lista_vendedores_promo_2 = pd.DataFrame(lista_vendedores_promo)\n",
    "lista_vendedores_promo_2.head(3)"
   ]
  },
  {
   "cell_type": "code",
   "execution_count": 399,
   "id": "103dd819-b2a0-45c0-8afd-612ed674ede2",
   "metadata": {},
   "outputs": [],
   "source": [
    "def cambiar_nombre_promo(num):\n",
    "    num= str(num)\n",
    "    num=num.lower()\n",
    "    #print(type(num))\n",
    "    if 'eliz' in num:\n",
    "        num = 'ELIZABETH VAZQUEZ'\n",
    "        #num = float(num)\n",
    "        return num\n",
    "    \n",
    "    if 'rasc' in num:\n",
    "        num = 'FRANCISCO RASCON'\n",
    "        #num = float(num)\n",
    "        return num\n",
    "    \n",
    "    if 'brian' in num:\n",
    "        num = 'BRIAN GALINDO'\n",
    "        #num = float(num)\n",
    "        return num\n",
    "    \n",
    "    if 'merc' in num:\n",
    "        num = 'ADRIANA MERCADO'\n",
    "        #num = float(num)\n",
    "        return num\n",
    "    \n",
    "    if 'os acos' in num:\n",
    "        num = 'CARLOS ACOSTA'\n",
    "        #num = float(num)\n",
    "        return num\n",
    "    \n",
    "    if 'orio' in num:\n",
    "        num = 'JESSICA OSORIO'\n",
    "        #num = float(num)\n",
    "        return num\n",
    "    \n",
    "    if 'mari' in num:\n",
    "        num = 'MARISELA HERNANDEZ'\n",
    "        #num = float(num)\n",
    "        return num\n",
    "    \n",
    "    \n",
    "    if 'jul' in num:\n",
    "        num = 'JULIO JIMENEZ'\n",
    "        #num = float(num)\n",
    "        return num\n",
    "    \n",
    "    if 'guiller' in num:\n",
    "        num = 'GUILLERMO FLORES'\n",
    "        #num = float(num)\n",
    "        return num\n",
    "    \n",
    "    if 'ramos' in num:\n",
    "        num = 'VICTOR RAMOS'\n",
    "        #num = float(num)\n",
    "        return num\n",
    "    \n",
    "    if 'alex' in num:\n",
    "        num = 'Alexis Meza'\n",
    "        #num = float(num)\n",
    "        return num\n",
    "    \n",
    "    if 'all' in num:\n",
    "        num = 'Alexis Meza'\n",
    "        #num = float(num)\n",
    "        return num\n",
    "    \n",
    "    if 'leny' in num:\n",
    "        num = 'LENY MOLINA'\n",
    "        #num = float(num)\n",
    "        return num\n",
    "    \n",
    "    if 'moni' in num:\n",
    "        num = 'MONICA AVILA'\n",
    "        #num = float(num)\n",
    "        return num\n",
    "    \n",
    "    if 'fran' in num:\n",
    "        num = 'FRANCISCO MARTINEZ'\n",
    "        #num = float(num)\n",
    "        return num\n",
    "    \n",
    "    else:\n",
    "        #num = float(num)\n",
    "        return num"
   ]
  },
  {
   "cell_type": "code",
   "execution_count": 400,
   "id": "0774a96e-100c-463d-bc77-111ed1597304",
   "metadata": {},
   "outputs": [],
   "source": [
    "lista_vendedores_promo_2[0] = lista_vendedores_promo_2[0].apply(cambiar_nombre_promo)"
   ]
  },
  {
   "cell_type": "code",
   "execution_count": 401,
   "id": "1aedc104-a12a-4682-aa73-a9ff4c256aa7",
   "metadata": {},
   "outputs": [
    {
     "data": {
      "text/plain": [
       "BRIAN GALINDO                    10\n",
       "ADRIANA MERCADO                   6\n",
       "MARISELA HERNANDEZ                5\n",
       "Alexis Meza                       4\n",
       "ELIZABETH VAZQUEZ                 3\n",
       "CARLOS ACOSTA                     3\n",
       "andres perez                      2\n",
       "VICTOR RAMOS                      2\n",
       "FRANCISCO MARTINEZ                2\n",
       "MONICA AVILA                      2\n",
       "JULIO JIMENEZ                     2\n",
       "JESSICA OSORIO                    2\n",
       "GUILLERMO FLORES                  2\n",
       "FRANCISCO RASCON                  2\n",
       "LENY MOLINA                       2\n",
       "luz adriana ramirez acosta        1\n",
       "isela pech                        1\n",
       "itzel balcazar                    1\n",
       "jair oropeza                      1\n",
       "luis contreras                    1\n",
       "luz adriana ramirez               1\n",
       "yanet flores                      1\n",
       "miguel hernandez                  1\n",
       "norma martinez                    1\n",
       "rogelio flores                    1\n",
       "sheila hurtado                    1\n",
       "vianey sanchez                    1\n",
       "guadalupe esquivel                1\n",
       "gustavo estrada                   1\n",
       "cristian hernandez                1\n",
       "gissela ponce                     1\n",
       "egoba                             1\n",
       "edwin piña                        1\n",
       "edgar ramírez                     1\n",
       "diana del olmo                    1\n",
       "daniela argueta                   1\n",
       "cynthia garcia                    1\n",
       "carmen morey                      1\n",
       "brenda leticia torres barajas     1\n",
       "ana morcos                        1\n",
       "alejandra pech                    1\n",
       "adriana ramirez                   1\n",
       "adrian guevara                    1\n",
       "abigail agiss                     1\n",
       "yessica colin                     1\n",
       "dtype: int64"
      ]
     },
     "execution_count": 401,
     "metadata": {},
     "output_type": "execute_result"
    }
   ],
   "source": [
    "lista_vendedores_promo_2.value_counts()"
   ]
  },
  {
   "cell_type": "code",
   "execution_count": null,
   "id": "cd52d263-b579-4c58-9f94-9c4e824b58b3",
   "metadata": {
    "tags": []
   },
   "outputs": [],
   "source": []
  },
  {
   "cell_type": "markdown",
   "id": "fef5679f-5d87-4bf5-8c83-89a684cb0d8a",
   "metadata": {},
   "source": [
    "# DIVIDIMOS LAS TABLAS EN NUKS Y PROMO"
   ]
  },
  {
   "cell_type": "code",
   "execution_count": 402,
   "id": "a5242573-dcda-4d02-999e-ef741b1cbec0",
   "metadata": {
    "tags": []
   },
   "outputs": [
    {
     "data": {
      "text/plain": [
       "Index(['registrado', 'marca', 'no_de_proyecto', 'tipo_de_proyecto',\n",
       "       'nombre_del_vendedor', 'nombre_del_cliente', 'tipo_de_cliente',\n",
       "       'clasificación_cliente', 'fecha_de_desempaque',\n",
       "       'fecha_producto_listo_para_empaque', 'op_cotejada_con_venta',\n",
       "       'op_registrada', 'observaciones', 'op_verificada',\n",
       "       'proyecto_concluido'],\n",
       "      dtype='object')"
      ]
     },
     "execution_count": 402,
     "metadata": {},
     "output_type": "execute_result"
    }
   ],
   "source": [
    "df_compras.columns"
   ]
  },
  {
   "cell_type": "code",
   "execution_count": 403,
   "id": "d4d48e76-016f-4938-9514-e24c19e55f0d",
   "metadata": {},
   "outputs": [
    {
     "data": {
      "text/plain": [
       "NUKS                     2676\n",
       "PROMOSOLUCIONES          2177\n",
       "CASA DE LA BOLSA          235\n",
       "BANANO TEXTIL             217\n",
       "NUKS USA                  196\n",
       "ART PROMOS                184\n",
       "SQUEEZY                   150\n",
       "NUKS USA/SMASH             44\n",
       "PROMOSOLUCIONES/SMASH       1\n",
       "SQUEEZY/SMASH               1\n",
       "SMASH/PROMOS                1\n",
       "Name: marca, dtype: int64"
      ]
     },
     "execution_count": 403,
     "metadata": {},
     "output_type": "execute_result"
    }
   ],
   "source": [
    "df_compras.marca.value_counts()"
   ]
  },
  {
   "cell_type": "code",
   "execution_count": 404,
   "id": "8101c4ec-c017-43fc-906c-888ade27732f",
   "metadata": {},
   "outputs": [],
   "source": [
    "df_compras_nuks = df_compras[df_compras.marca == 'NUKS']"
   ]
  },
  {
   "cell_type": "code",
   "execution_count": 416,
   "id": "0956cec6-0001-4f37-83c6-ca9b29e8d273",
   "metadata": {},
   "outputs": [],
   "source": [
    "df_compras_promo = df_compras[df_compras.marca == 'PROMOSOLUCIONES']"
   ]
  },
  {
   "cell_type": "code",
   "execution_count": null,
   "id": "b1cb2db0-8873-49d2-ae44-c7d88330fd00",
   "metadata": {},
   "outputs": [],
   "source": []
  },
  {
   "cell_type": "markdown",
   "id": "936659d7-4a8e-45d1-9486-d32301a5ee43",
   "metadata": {
    "tags": []
   },
   "source": [
    "# borrado de columnas no funcionales"
   ]
  },
  {
   "cell_type": "code",
   "execution_count": 406,
   "id": "48d822d8-e816-4b8d-9510-e1a3a47a493e",
   "metadata": {},
   "outputs": [
    {
     "name": "stdout",
     "output_type": "stream",
     "text": [
      "<class 'pandas.core.frame.DataFrame'>\n",
      "Int64Index: 2676 entries, 0 to 5880\n",
      "Data columns (total 15 columns):\n",
      " #   Column                             Non-Null Count  Dtype         \n",
      "---  ------                             --------------  -----         \n",
      " 0   registrado                         2676 non-null   datetime64[ns]\n",
      " 1   marca                              2676 non-null   object        \n",
      " 2   no_de_proyecto                     2676 non-null   object        \n",
      " 3   tipo_de_proyecto                   2676 non-null   object        \n",
      " 4   nombre_del_vendedor                2676 non-null   object        \n",
      " 5   nombre_del_cliente                 2676 non-null   object        \n",
      " 6   tipo_de_cliente                    2675 non-null   object        \n",
      " 7   clasificación_cliente              2675 non-null   object        \n",
      " 8   fecha_de_desempaque                0 non-null      float64       \n",
      " 9   fecha_producto_listo_para_empaque  0 non-null      float64       \n",
      " 10  op_cotejada_con_venta              0 non-null      float64       \n",
      " 11  op_registrada                      1040 non-null   object        \n",
      " 12  observaciones                      46 non-null     object        \n",
      " 13  op_verificada                      0 non-null      float64       \n",
      " 14  proyecto_concluido                 0 non-null      float64       \n",
      "dtypes: datetime64[ns](1), float64(5), object(9)\n",
      "memory usage: 334.5+ KB\n"
     ]
    }
   ],
   "source": [
    "df_compras_nuks.info()"
   ]
  },
  {
   "cell_type": "code",
   "execution_count": 407,
   "id": "7ae5a9fb-2e29-4bf7-8c8e-1531d94f407d",
   "metadata": {},
   "outputs": [],
   "source": [
    "df_compras_nuks = df_compras_nuks.drop(columns=['fecha_de_desempaque','fecha_producto_listo_para_empaque',\n",
    "                              'op_cotejada_con_venta','op_verificada','op_verificada','proyecto_concluido'])"
   ]
  },
  {
   "cell_type": "code",
   "execution_count": 408,
   "id": "aaedfef8-0acf-45d3-9c74-d5f23a4cb0c3",
   "metadata": {},
   "outputs": [
    {
     "name": "stdout",
     "output_type": "stream",
     "text": [
      "<class 'pandas.core.frame.DataFrame'>\n",
      "Int64Index: 2676 entries, 0 to 5880\n",
      "Data columns (total 10 columns):\n",
      " #   Column                 Non-Null Count  Dtype         \n",
      "---  ------                 --------------  -----         \n",
      " 0   registrado             2676 non-null   datetime64[ns]\n",
      " 1   marca                  2676 non-null   object        \n",
      " 2   no_de_proyecto         2676 non-null   object        \n",
      " 3   tipo_de_proyecto       2676 non-null   object        \n",
      " 4   nombre_del_vendedor    2676 non-null   object        \n",
      " 5   nombre_del_cliente     2676 non-null   object        \n",
      " 6   tipo_de_cliente        2675 non-null   object        \n",
      " 7   clasificación_cliente  2675 non-null   object        \n",
      " 8   op_registrada          1040 non-null   object        \n",
      " 9   observaciones          46 non-null     object        \n",
      "dtypes: datetime64[ns](1), object(9)\n",
      "memory usage: 230.0+ KB\n"
     ]
    }
   ],
   "source": [
    "df_compras_nuks.info()"
   ]
  },
  {
   "cell_type": "code",
   "execution_count": null,
   "id": "c2f7f8a2-9d65-4024-ac41-44c82c835565",
   "metadata": {
    "tags": []
   },
   "outputs": [],
   "source": []
  },
  {
   "cell_type": "code",
   "execution_count": 409,
   "id": "16c660ed-1ae2-4d81-9871-df9abc97ba28",
   "metadata": {},
   "outputs": [
    {
     "name": "stdout",
     "output_type": "stream",
     "text": [
      "<class 'pandas.core.frame.DataFrame'>\n",
      "Int64Index: 2177 entries, 3 to 5883\n",
      "Data columns (total 15 columns):\n",
      " #   Column                             Non-Null Count  Dtype         \n",
      "---  ------                             --------------  -----         \n",
      " 0   registrado                         2177 non-null   datetime64[ns]\n",
      " 1   marca                              2177 non-null   object        \n",
      " 2   no_de_proyecto                     2177 non-null   object        \n",
      " 3   tipo_de_proyecto                   2177 non-null   object        \n",
      " 4   nombre_del_vendedor                2177 non-null   object        \n",
      " 5   nombre_del_cliente                 2177 non-null   object        \n",
      " 6   tipo_de_cliente                    2175 non-null   object        \n",
      " 7   clasificación_cliente              2175 non-null   object        \n",
      " 8   fecha_de_desempaque                0 non-null      float64       \n",
      " 9   fecha_producto_listo_para_empaque  0 non-null      float64       \n",
      " 10  op_cotejada_con_venta              0 non-null      float64       \n",
      " 11  op_registrada                      2124 non-null   object        \n",
      " 12  observaciones                      722 non-null    object        \n",
      " 13  op_verificada                      0 non-null      float64       \n",
      " 14  proyecto_concluido                 0 non-null      float64       \n",
      "dtypes: datetime64[ns](1), float64(5), object(9)\n",
      "memory usage: 272.1+ KB\n"
     ]
    }
   ],
   "source": [
    "df_compras_promo.info()"
   ]
  },
  {
   "cell_type": "code",
   "execution_count": 417,
   "id": "d892aa9c-3a2b-44cd-b33d-77c2b2e20a61",
   "metadata": {},
   "outputs": [],
   "source": [
    "df_compras_promo = df_compras_promo.drop(columns=['fecha_de_desempaque','fecha_producto_listo_para_empaque',\n",
    "                              'op_cotejada_con_venta','op_verificada','op_verificada','proyecto_concluido'])"
   ]
  },
  {
   "cell_type": "code",
   "execution_count": 411,
   "id": "99ad336e-f9bf-4c7a-bca2-5e7824e4a310",
   "metadata": {},
   "outputs": [
    {
     "name": "stdout",
     "output_type": "stream",
     "text": [
      "<class 'pandas.core.frame.DataFrame'>\n",
      "Int64Index: 2177 entries, 3 to 5883\n",
      "Data columns (total 10 columns):\n",
      " #   Column                 Non-Null Count  Dtype         \n",
      "---  ------                 --------------  -----         \n",
      " 0   registrado             2177 non-null   datetime64[ns]\n",
      " 1   marca                  2177 non-null   object        \n",
      " 2   no_de_proyecto         2177 non-null   object        \n",
      " 3   tipo_de_proyecto       2177 non-null   object        \n",
      " 4   nombre_del_vendedor    2177 non-null   object        \n",
      " 5   nombre_del_cliente     2177 non-null   object        \n",
      " 6   tipo_de_cliente        2175 non-null   object        \n",
      " 7   clasificación_cliente  2175 non-null   object        \n",
      " 8   op_registrada          2124 non-null   object        \n",
      " 9   observaciones          722 non-null    object        \n",
      "dtypes: datetime64[ns](1), object(9)\n",
      "memory usage: 187.1+ KB\n"
     ]
    }
   ],
   "source": [
    "df_compras_promo.info()"
   ]
  },
  {
   "cell_type": "code",
   "execution_count": null,
   "id": "5ce5d11f-4cad-45eb-ad8f-68156fafe165",
   "metadata": {
    "tags": []
   },
   "outputs": [],
   "source": []
  },
  {
   "cell_type": "markdown",
   "id": "92e0a208-990a-4415-a4ab-4739439edcda",
   "metadata": {},
   "source": [
    "# limpieza de columnas "
   ]
  },
  {
   "cell_type": "code",
   "execution_count": 418,
   "id": "da054e59-0925-454f-a7e0-f10767e7372d",
   "metadata": {},
   "outputs": [
    {
     "data": {
      "text/plain": [
       "ADRIAN GUEVARA                288\n",
       "GUILLERMO FLORES              161\n",
       "JESSICA OSORIO                158\n",
       "ALEJANDRA PECH                143\n",
       "YANET FLORES                  127\n",
       "                             ... \n",
       "Leny Molina                     1\n",
       "ADRIANA MERCAD                  1\n",
       "EDWIN PIÑA/ BRIAN GALINDO       1\n",
       "GUADALUPE ESQUIVEL              1\n",
       "EDWIN PIÑA / BRIAN GALINDO      1\n",
       "Name: nombre_del_vendedor, Length: 83, dtype: int64"
      ]
     },
     "execution_count": 418,
     "metadata": {},
     "output_type": "execute_result"
    }
   ],
   "source": [
    "df_compras_promo.nombre_del_vendedor.value_counts()"
   ]
  },
  {
   "cell_type": "code",
   "execution_count": 419,
   "id": "3edf2a65-bb35-4e8b-9adc-6a8b5ee41ddf",
   "metadata": {},
   "outputs": [],
   "source": [
    "def cambiar_nombre_promo(num):\n",
    "    num= str(num)\n",
    "    num=num.lower()\n",
    "    #print(type(num))\n",
    "    if 'eliz' in num:\n",
    "        num = 'ELIZABETH VAZQUEZ'\n",
    "        #num = float(num)\n",
    "        return num.lower()\n",
    "    \n",
    "    if 'rasc' in num:\n",
    "        num = 'FRANCISCO RASCON'\n",
    "        #num = float(num)\n",
    "        return num.lower()\n",
    "    \n",
    "    if 'brian' in num:\n",
    "        num = 'BRIAN GALINDO'\n",
    "        #num = float(num)\n",
    "        return num.lower()\n",
    "    \n",
    "    if 'merc' in num:\n",
    "        num = 'ADRIANA MERCADO'\n",
    "        #num = float(num)\n",
    "        return num.lower()\n",
    "    \n",
    "    if 'os acos' in num:\n",
    "        num = 'CARLOS ACOSTA'\n",
    "        #num = float(num)\n",
    "        return num.lower()\n",
    "    \n",
    "    if 'orio' in num:\n",
    "        num = 'JESSICA OSORIO'\n",
    "        #num = float(num)\n",
    "        return num.lower()\n",
    "    \n",
    "    if 'mari' in num:\n",
    "        num = 'MARISELA HERNANDEZ'\n",
    "        #num = float(num)\n",
    "        return num.lower()\n",
    "    \n",
    "    \n",
    "    if 'jul' in num:\n",
    "        num = 'JULIO JIMENEZ'\n",
    "        #num = float(num)\n",
    "        return num.lower()\n",
    "    \n",
    "    if 'guiller' in num:\n",
    "        num = 'GUILLERMO FLORES'\n",
    "        #num = float(num)\n",
    "        return num.lower()\n",
    "    \n",
    "    if 'ramos' in num:\n",
    "        num = 'VICTOR RAMOS'\n",
    "        #num = float(num)\n",
    "        return num.lower()\n",
    "    \n",
    "    if 'alex' in num:\n",
    "        num = 'Alexis Meza'\n",
    "        #num = float(num)\n",
    "        return num.lower()\n",
    "    \n",
    "    if 'all' in num:\n",
    "        num = 'Alexis Meza'\n",
    "        #num = float(num)\n",
    "        return num.lower()\n",
    "    \n",
    "    if 'leny' in num:\n",
    "        num = 'LENY MOLINA'\n",
    "        #num = float(num)\n",
    "        return num.lower()\n",
    "    \n",
    "    if 'moni' in num:\n",
    "        num = 'MONICA AVILA'\n",
    "        #num = float(num)\n",
    "        return num.lower()\n",
    "    \n",
    "    if 'fran' in num:\n",
    "        num = 'FRANCISCO MARTINEZ'\n",
    "        #num = float(num)\n",
    "        return num.lower()\n",
    "    \n",
    "    else:\n",
    "        #num = float(num)\n",
    "        return num"
   ]
  },
  {
   "cell_type": "code",
   "execution_count": 420,
   "id": "260aa25d-1bd6-4b63-9710-e7899e8f672f",
   "metadata": {},
   "outputs": [],
   "source": [
    "df_compras_promo.nombre_del_vendedor = df_compras_promo.nombre_del_vendedor.apply(cambiar_nombre_promo)"
   ]
  },
  {
   "cell_type": "code",
   "execution_count": 421,
   "id": "8b430b51-88bf-473b-8f07-130032263f7b",
   "metadata": {
    "tags": []
   },
   "outputs": [
    {
     "data": {
      "text/plain": [
       "adrian guevara                        288\n",
       "guillermo flores                      162\n",
       "jessica osorio                        159\n",
       "alejandra pech                        143\n",
       "yanet flores                          127\n",
       "norma martinez                        121\n",
       "adriana mercado                       109\n",
       "elizabeth vazquez                     101\n",
       "abigail agiss                          98\n",
       "carlos acosta                          97\n",
       "brian galindo                          90\n",
       "luis contreras                         62\n",
       "vianey sanchez                         61\n",
       "alexis meza                            58\n",
       "gustavo estrada                        57\n",
       "francisco rascon                       53\n",
       "victor ramos                           49\n",
       "miguel hernandez                       46\n",
       "yessica colin                          40\n",
       "cristian hernandez                     38\n",
       "marisela hernandez                     36\n",
       "luz adriana ramirez acosta             23\n",
       "itzel balcazar                         23\n",
       "julio jimenez                          16\n",
       "andres perez                           16\n",
       "francisco martinez                     15\n",
       "leny molina                            14\n",
       "rogelio flores                         13\n",
       "edgar ramírez                          12\n",
       "ana morcos                              9\n",
       "monica avila                            7\n",
       "daniela argueta                         4\n",
       "gissela ponce                           4\n",
       "cynthia garcia                          3\n",
       "adriana ramirez                         3\n",
       "carmen morey                            3\n",
       "sheila hurtado                          2\n",
       "jair oropeza                            2\n",
       "estefania solano / lizbeth fuentes      2\n",
       "isela pech                              2\n",
       "brenda leticia torres barajas           2\n",
       "edwin piña                              1\n",
       "luzadriana ramirez acosta               1\n",
       "diana del olmo                          1\n",
       "luz adriana ramirez                     1\n",
       "guadalupe esquivel                      1\n",
       "adriana tellez                          1\n",
       "egoba                                   1\n",
       "Name: nombre_del_vendedor, dtype: int64"
      ]
     },
     "execution_count": 421,
     "metadata": {},
     "output_type": "execute_result"
    }
   ],
   "source": [
    "df_compras_promo.nombre_del_vendedor.value_counts()"
   ]
  },
  {
   "cell_type": "code",
   "execution_count": null,
   "id": "29ea8b2c-9e7a-4723-9686-37bd164ce88e",
   "metadata": {},
   "outputs": [],
   "source": []
  },
  {
   "cell_type": "code",
   "execution_count": 454,
   "id": "da40cf13-7ca5-4c73-8543-83c1d6ea1631",
   "metadata": {},
   "outputs": [
    {
     "data": {
      "text/plain": [
       "UVM                   79\n",
       "INFO DF               61\n",
       "INFOCDMX              53\n",
       "EQF                   43\n",
       "ALIAT                 37\n",
       "VIDANTA               32\n",
       "BANJERCITO            27\n",
       "JARDINES DE MÉXICO    22\n",
       "UAM                   21\n",
       "CREATIVOS DE URIEL    20\n",
       "TIP MÉXICO            20\n",
       "NBA                   18\n",
       "INAI                  17\n",
       "ALPURA                16\n",
       "MARTI                 15\n",
       "PANDA SECURITY        14\n",
       "MAGOTTEAUX            14\n",
       "ATLAS COPCO           14\n",
       "FIFOMI                13\n",
       "BIMBO                 13\n",
       "ALFONSO MUÑOZ         12\n",
       "CONVERSE              11\n",
       "TIMKEN                11\n",
       "SEDENA                10\n",
       "JR GRUPO              10\n",
       "QAD                   10\n",
       "SGM                   10\n",
       "CARLOS CANSECO        10\n",
       "ANALOGICA STUDIOS      9\n",
       "HOTEL SOLAZ            9\n",
       "Name: nombre_del_cliente, dtype: int64"
      ]
     },
     "execution_count": 454,
     "metadata": {},
     "output_type": "execute_result"
    }
   ],
   "source": [
    "df_compras_promo.nombre_del_cliente.value_counts().head(30)"
   ]
  },
  {
   "cell_type": "code",
   "execution_count": 461,
   "id": "8e3b0ab3-7bd2-4728-809e-87f7a090907b",
   "metadata": {},
   "outputs": [
    {
     "data": {
      "text/html": [
       "<div>\n",
       "<style scoped>\n",
       "    .dataframe tbody tr th:only-of-type {\n",
       "        vertical-align: middle;\n",
       "    }\n",
       "\n",
       "    .dataframe tbody tr th {\n",
       "        vertical-align: top;\n",
       "    }\n",
       "\n",
       "    .dataframe thead th {\n",
       "        text-align: right;\n",
       "    }\n",
       "</style>\n",
       "<table border=\"1\" class=\"dataframe\">\n",
       "  <thead>\n",
       "    <tr style=\"text-align: right;\">\n",
       "      <th></th>\n",
       "      <th>registrado</th>\n",
       "      <th>marca</th>\n",
       "      <th>no_de_proyecto</th>\n",
       "      <th>tipo_de_proyecto</th>\n",
       "      <th>nombre_del_vendedor</th>\n",
       "      <th>nombre_del_cliente</th>\n",
       "      <th>tipo_de_cliente</th>\n",
       "      <th>clasificación_cliente</th>\n",
       "      <th>op_registrada</th>\n",
       "      <th>observaciones</th>\n",
       "    </tr>\n",
       "  </thead>\n",
       "  <tbody>\n",
       "    <tr>\n",
       "      <th>559</th>\n",
       "      <td>2020-11-25 11:53:51</td>\n",
       "      <td>PROMOSOLUCIONES</td>\n",
       "      <td>PR2011240501</td>\n",
       "      <td>PROYECTO</td>\n",
       "      <td>alejandra pech</td>\n",
       "      <td>HOTEL SOLAZ</td>\n",
       "      <td>A</td>\n",
       "      <td>Menor a $10,000</td>\n",
       "      <td>Sí</td>\n",
       "      <td>NaN</td>\n",
       "    </tr>\n",
       "    <tr>\n",
       "      <th>623</th>\n",
       "      <td>2020-11-20 14:11:23</td>\n",
       "      <td>PROMOSOLUCIONES</td>\n",
       "      <td>PR2010230302</td>\n",
       "      <td>PROYECTO</td>\n",
       "      <td>alejandra pech</td>\n",
       "      <td>HOTEL SOLAZ</td>\n",
       "      <td>A</td>\n",
       "      <td>Menor a $10,000</td>\n",
       "      <td>Sí</td>\n",
       "      <td>NaN</td>\n",
       "    </tr>\n",
       "    <tr>\n",
       "      <th>1014</th>\n",
       "      <td>2020-09-09 15:14:55</td>\n",
       "      <td>PROMOSOLUCIONES</td>\n",
       "      <td>PR2009020402</td>\n",
       "      <td>PROYECTO</td>\n",
       "      <td>alejandra pech</td>\n",
       "      <td>HOTEL SOLAZ</td>\n",
       "      <td>A</td>\n",
       "      <td>Menor a $10,000</td>\n",
       "      <td>Sí</td>\n",
       "      <td>NaN</td>\n",
       "    </tr>\n",
       "    <tr>\n",
       "      <th>1015</th>\n",
       "      <td>2020-09-08 14:25:41</td>\n",
       "      <td>PROMOSOLUCIONES</td>\n",
       "      <td>PR2009020402</td>\n",
       "      <td>PROYECTO</td>\n",
       "      <td>alejandra pech</td>\n",
       "      <td>HOTEL SOLAZ</td>\n",
       "      <td>A</td>\n",
       "      <td>Menor a $10,000</td>\n",
       "      <td>Sí</td>\n",
       "      <td>NaN</td>\n",
       "    </tr>\n",
       "    <tr>\n",
       "      <th>1294</th>\n",
       "      <td>2020-07-30 17:25:01</td>\n",
       "      <td>PROMOSOLUCIONES</td>\n",
       "      <td>PR2007060104</td>\n",
       "      <td>PROYECTO</td>\n",
       "      <td>alejandra pech</td>\n",
       "      <td>HOTEL SOLAZ</td>\n",
       "      <td>A</td>\n",
       "      <td>Menor a $10,000</td>\n",
       "      <td>Sí</td>\n",
       "      <td>NaN</td>\n",
       "    </tr>\n",
       "    <tr>\n",
       "      <th>2591</th>\n",
       "      <td>2020-01-24 18:31:12</td>\n",
       "      <td>PROMOSOLUCIONES</td>\n",
       "      <td>PR2001160201</td>\n",
       "      <td>PROYECTO</td>\n",
       "      <td>alejandra pech</td>\n",
       "      <td>HOTEL SOLAZ</td>\n",
       "      <td>A</td>\n",
       "      <td>Menor a $10,000</td>\n",
       "      <td>Sí</td>\n",
       "      <td>1</td>\n",
       "    </tr>\n",
       "    <tr>\n",
       "      <th>2603</th>\n",
       "      <td>2020-01-24 12:46:09</td>\n",
       "      <td>PROMOSOLUCIONES</td>\n",
       "      <td>PR2001160201</td>\n",
       "      <td>PROYECTO</td>\n",
       "      <td>alejandra pech</td>\n",
       "      <td>HOTEL SOLAZ</td>\n",
       "      <td>A</td>\n",
       "      <td>Menor a $10,000</td>\n",
       "      <td>Sí</td>\n",
       "      <td>1</td>\n",
       "    </tr>\n",
       "    <tr>\n",
       "      <th>4849</th>\n",
       "      <td>2019-09-20 11:55:08</td>\n",
       "      <td>PROMOSOLUCIONES</td>\n",
       "      <td>PR1909050301</td>\n",
       "      <td>PROYECTO</td>\n",
       "      <td>alejandra pech</td>\n",
       "      <td>HOTEL SOLAZ</td>\n",
       "      <td>AA</td>\n",
       "      <td>Menor a $10,000</td>\n",
       "      <td>Sí</td>\n",
       "      <td>NaN</td>\n",
       "    </tr>\n",
       "    <tr>\n",
       "      <th>5513</th>\n",
       "      <td>2019-08-20 14:21:44</td>\n",
       "      <td>PROMOSOLUCIONES</td>\n",
       "      <td>PR1908060201</td>\n",
       "      <td>PROYECTO</td>\n",
       "      <td>alejandra pech</td>\n",
       "      <td>HOTEL SOLAZ</td>\n",
       "      <td>RR</td>\n",
       "      <td>Menor a $10,000</td>\n",
       "      <td>Sí</td>\n",
       "      <td>NaN</td>\n",
       "    </tr>\n",
       "  </tbody>\n",
       "</table>\n",
       "</div>"
      ],
      "text/plain": [
       "              registrado            marca no_de_proyecto tipo_de_proyecto  \\\n",
       "559  2020-11-25 11:53:51  PROMOSOLUCIONES   PR2011240501         PROYECTO   \n",
       "623  2020-11-20 14:11:23  PROMOSOLUCIONES   PR2010230302         PROYECTO   \n",
       "1014 2020-09-09 15:14:55  PROMOSOLUCIONES   PR2009020402         PROYECTO   \n",
       "1015 2020-09-08 14:25:41  PROMOSOLUCIONES   PR2009020402         PROYECTO   \n",
       "1294 2020-07-30 17:25:01  PROMOSOLUCIONES   PR2007060104         PROYECTO   \n",
       "2591 2020-01-24 18:31:12  PROMOSOLUCIONES   PR2001160201         PROYECTO   \n",
       "2603 2020-01-24 12:46:09  PROMOSOLUCIONES   PR2001160201         PROYECTO   \n",
       "4849 2019-09-20 11:55:08  PROMOSOLUCIONES   PR1909050301         PROYECTO   \n",
       "5513 2019-08-20 14:21:44  PROMOSOLUCIONES   PR1908060201         PROYECTO   \n",
       "\n",
       "     nombre_del_vendedor nombre_del_cliente tipo_de_cliente  \\\n",
       "559       alejandra pech        HOTEL SOLAZ               A   \n",
       "623       alejandra pech        HOTEL SOLAZ               A   \n",
       "1014      alejandra pech        HOTEL SOLAZ               A   \n",
       "1015      alejandra pech        HOTEL SOLAZ               A   \n",
       "1294      alejandra pech        HOTEL SOLAZ               A   \n",
       "2591      alejandra pech        HOTEL SOLAZ               A   \n",
       "2603      alejandra pech        HOTEL SOLAZ               A   \n",
       "4849      alejandra pech        HOTEL SOLAZ              AA   \n",
       "5513      alejandra pech        HOTEL SOLAZ              RR   \n",
       "\n",
       "     clasificación_cliente op_registrada observaciones  \n",
       "559        Menor a $10,000            Sí           NaN  \n",
       "623        Menor a $10,000            Sí           NaN  \n",
       "1014       Menor a $10,000            Sí           NaN  \n",
       "1015       Menor a $10,000            Sí           NaN  \n",
       "1294       Menor a $10,000            Sí           NaN  \n",
       "2591       Menor a $10,000            Sí             1  \n",
       "2603       Menor a $10,000            Sí             1  \n",
       "4849       Menor a $10,000            Sí           NaN  \n",
       "5513       Menor a $10,000            Sí           NaN  "
      ]
     },
     "execution_count": 461,
     "metadata": {},
     "output_type": "execute_result"
    }
   ],
   "source": [
    "df_compras_promo[df_compras_promo.nombre_del_cliente == 'HOTEL SOLAZ']"
   ]
  },
  {
   "cell_type": "markdown",
   "id": "19b30255-9cd9-4d00-bc65-39529fbcd94e",
   "metadata": {},
   "source": [
    "# IMPRESION PROMO"
   ]
  },
  {
   "cell_type": "code",
   "execution_count": 422,
   "id": "a6d840b2-8609-4574-8e3f-350154bf3087",
   "metadata": {},
   "outputs": [],
   "source": [
    "df_ventas_promo = df_compras_promo.groupby('registrado').count()[['marca']]"
   ]
  },
  {
   "cell_type": "code",
   "execution_count": 423,
   "id": "f873c002-7e2e-4a7d-8843-8627d13e9a4b",
   "metadata": {},
   "outputs": [
    {
     "data": {
      "text/html": [
       "<div>\n",
       "<style scoped>\n",
       "    .dataframe tbody tr th:only-of-type {\n",
       "        vertical-align: middle;\n",
       "    }\n",
       "\n",
       "    .dataframe tbody tr th {\n",
       "        vertical-align: top;\n",
       "    }\n",
       "\n",
       "    .dataframe thead th {\n",
       "        text-align: right;\n",
       "    }\n",
       "</style>\n",
       "<table border=\"1\" class=\"dataframe\">\n",
       "  <thead>\n",
       "    <tr style=\"text-align: right;\">\n",
       "      <th></th>\n",
       "      <th>marca</th>\n",
       "    </tr>\n",
       "    <tr>\n",
       "      <th>registrado</th>\n",
       "      <th></th>\n",
       "    </tr>\n",
       "  </thead>\n",
       "  <tbody>\n",
       "    <tr>\n",
       "      <th>2019-08-01 09:59:57</th>\n",
       "      <td>1</td>\n",
       "    </tr>\n",
       "    <tr>\n",
       "      <th>2019-08-01 10:43:26</th>\n",
       "      <td>1</td>\n",
       "    </tr>\n",
       "    <tr>\n",
       "      <th>2019-08-01 10:44:01</th>\n",
       "      <td>1</td>\n",
       "    </tr>\n",
       "    <tr>\n",
       "      <th>2019-08-01 11:05:02</th>\n",
       "      <td>1</td>\n",
       "    </tr>\n",
       "    <tr>\n",
       "      <th>2019-08-01 11:22:20</th>\n",
       "      <td>1</td>\n",
       "    </tr>\n",
       "    <tr>\n",
       "      <th>...</th>\n",
       "      <td>...</td>\n",
       "    </tr>\n",
       "    <tr>\n",
       "      <th>2021-06-22 11:59:10</th>\n",
       "      <td>1</td>\n",
       "    </tr>\n",
       "    <tr>\n",
       "      <th>2021-07-07 13:49:50</th>\n",
       "      <td>1</td>\n",
       "    </tr>\n",
       "    <tr>\n",
       "      <th>2021-07-23 20:16:37</th>\n",
       "      <td>1</td>\n",
       "    </tr>\n",
       "    <tr>\n",
       "      <th>2021-07-27 11:46:01</th>\n",
       "      <td>1</td>\n",
       "    </tr>\n",
       "    <tr>\n",
       "      <th>2021-07-28 11:09:21</th>\n",
       "      <td>1</td>\n",
       "    </tr>\n",
       "  </tbody>\n",
       "</table>\n",
       "<p>2177 rows × 1 columns</p>\n",
       "</div>"
      ],
      "text/plain": [
       "                     marca\n",
       "registrado                \n",
       "2019-08-01 09:59:57      1\n",
       "2019-08-01 10:43:26      1\n",
       "2019-08-01 10:44:01      1\n",
       "2019-08-01 11:05:02      1\n",
       "2019-08-01 11:22:20      1\n",
       "...                    ...\n",
       "2021-06-22 11:59:10      1\n",
       "2021-07-07 13:49:50      1\n",
       "2021-07-23 20:16:37      1\n",
       "2021-07-27 11:46:01      1\n",
       "2021-07-28 11:09:21      1\n",
       "\n",
       "[2177 rows x 1 columns]"
      ]
     },
     "execution_count": 431,
     "metadata": {},
     "output_type": "execute_result"
    }
   ],
   "source": [
    "df_ventas_promo"
   ]
  },
  {
   "cell_type": "code",
   "execution_count": 425,
   "id": "528ba9fe-4097-44f6-81c6-84a634902d50",
   "metadata": {},
   "outputs": [],
   "source": [
    "df_ventas_promo = df_ventas_promo.reset_index()"
   ]
  },
  {
   "cell_type": "code",
   "execution_count": 437,
   "id": "10828822-bf86-4688-a70e-8caef2643687",
   "metadata": {},
   "outputs": [],
   "source": [
    "df_ventas_promo['order_date'] = df_ventas_promo.registrado.astype('datetime64[D]')"
   ]
  },
  {
   "cell_type": "code",
   "execution_count": 438,
   "id": "1909d2e4-f484-487f-8179-de351e399e70",
   "metadata": {
    "tags": []
   },
   "outputs": [
    {
     "data": {
      "text/html": [
       "<div>\n",
       "<style scoped>\n",
       "    .dataframe tbody tr th:only-of-type {\n",
       "        vertical-align: middle;\n",
       "    }\n",
       "\n",
       "    .dataframe tbody tr th {\n",
       "        vertical-align: top;\n",
       "    }\n",
       "\n",
       "    .dataframe thead th {\n",
       "        text-align: right;\n",
       "    }\n",
       "</style>\n",
       "<table border=\"1\" class=\"dataframe\">\n",
       "  <thead>\n",
       "    <tr style=\"text-align: right;\">\n",
       "      <th></th>\n",
       "      <th>registrado</th>\n",
       "      <th>marca</th>\n",
       "      <th>order_date</th>\n",
       "    </tr>\n",
       "  </thead>\n",
       "  <tbody>\n",
       "    <tr>\n",
       "      <th>0</th>\n",
       "      <td>2019-08-01 09:59:57</td>\n",
       "      <td>1</td>\n",
       "      <td>2019-08-01</td>\n",
       "    </tr>\n",
       "    <tr>\n",
       "      <th>1</th>\n",
       "      <td>2019-08-01 10:43:26</td>\n",
       "      <td>1</td>\n",
       "      <td>2019-08-01</td>\n",
       "    </tr>\n",
       "    <tr>\n",
       "      <th>2</th>\n",
       "      <td>2019-08-01 10:44:01</td>\n",
       "      <td>1</td>\n",
       "      <td>2019-08-01</td>\n",
       "    </tr>\n",
       "    <tr>\n",
       "      <th>3</th>\n",
       "      <td>2019-08-01 11:05:02</td>\n",
       "      <td>1</td>\n",
       "      <td>2019-08-01</td>\n",
       "    </tr>\n",
       "    <tr>\n",
       "      <th>4</th>\n",
       "      <td>2019-08-01 11:22:20</td>\n",
       "      <td>1</td>\n",
       "      <td>2019-08-01</td>\n",
       "    </tr>\n",
       "    <tr>\n",
       "      <th>...</th>\n",
       "      <td>...</td>\n",
       "      <td>...</td>\n",
       "      <td>...</td>\n",
       "    </tr>\n",
       "    <tr>\n",
       "      <th>2172</th>\n",
       "      <td>2021-06-22 11:59:10</td>\n",
       "      <td>1</td>\n",
       "      <td>2021-06-22</td>\n",
       "    </tr>\n",
       "    <tr>\n",
       "      <th>2173</th>\n",
       "      <td>2021-07-07 13:49:50</td>\n",
       "      <td>1</td>\n",
       "      <td>2021-07-07</td>\n",
       "    </tr>\n",
       "    <tr>\n",
       "      <th>2174</th>\n",
       "      <td>2021-07-23 20:16:37</td>\n",
       "      <td>1</td>\n",
       "      <td>2021-07-23</td>\n",
       "    </tr>\n",
       "    <tr>\n",
       "      <th>2175</th>\n",
       "      <td>2021-07-27 11:46:01</td>\n",
       "      <td>1</td>\n",
       "      <td>2021-07-27</td>\n",
       "    </tr>\n",
       "    <tr>\n",
       "      <th>2176</th>\n",
       "      <td>2021-07-28 11:09:21</td>\n",
       "      <td>1</td>\n",
       "      <td>2021-07-28</td>\n",
       "    </tr>\n",
       "  </tbody>\n",
       "</table>\n",
       "<p>2177 rows × 3 columns</p>\n",
       "</div>"
      ],
      "text/plain": [
       "              registrado  marca order_date\n",
       "0    2019-08-01 09:59:57      1 2019-08-01\n",
       "1    2019-08-01 10:43:26      1 2019-08-01\n",
       "2    2019-08-01 10:44:01      1 2019-08-01\n",
       "3    2019-08-01 11:05:02      1 2019-08-01\n",
       "4    2019-08-01 11:22:20      1 2019-08-01\n",
       "...                  ...    ...        ...\n",
       "2172 2021-06-22 11:59:10      1 2021-06-22\n",
       "2173 2021-07-07 13:49:50      1 2021-07-07\n",
       "2174 2021-07-23 20:16:37      1 2021-07-23\n",
       "2175 2021-07-27 11:46:01      1 2021-07-27\n",
       "2176 2021-07-28 11:09:21      1 2021-07-28\n",
       "\n",
       "[2177 rows x 3 columns]"
      ]
     },
     "execution_count": 438,
     "metadata": {},
     "output_type": "execute_result"
    }
   ],
   "source": [
    "df_ventas_promo"
   ]
  },
  {
   "cell_type": "code",
   "execution_count": 439,
   "id": "b5353f28-4cc4-4f3b-bca3-959b9cf7978f",
   "metadata": {},
   "outputs": [],
   "source": [
    "df_ventas_promo = df_ventas_promo.groupby('order_date').sum()"
   ]
  },
  {
   "cell_type": "code",
   "execution_count": 440,
   "id": "ab33e37b-2272-41f6-abfc-121041e24763",
   "metadata": {},
   "outputs": [
    {
     "data": {
      "text/html": [
       "<div>\n",
       "<style scoped>\n",
       "    .dataframe tbody tr th:only-of-type {\n",
       "        vertical-align: middle;\n",
       "    }\n",
       "\n",
       "    .dataframe tbody tr th {\n",
       "        vertical-align: top;\n",
       "    }\n",
       "\n",
       "    .dataframe thead th {\n",
       "        text-align: right;\n",
       "    }\n",
       "</style>\n",
       "<table border=\"1\" class=\"dataframe\">\n",
       "  <thead>\n",
       "    <tr style=\"text-align: right;\">\n",
       "      <th></th>\n",
       "      <th>marca</th>\n",
       "    </tr>\n",
       "    <tr>\n",
       "      <th>order_date</th>\n",
       "      <th></th>\n",
       "    </tr>\n",
       "  </thead>\n",
       "  <tbody>\n",
       "    <tr>\n",
       "      <th>2019-08-01</th>\n",
       "      <td>12</td>\n",
       "    </tr>\n",
       "    <tr>\n",
       "      <th>2019-08-02</th>\n",
       "      <td>13</td>\n",
       "    </tr>\n",
       "    <tr>\n",
       "      <th>2019-08-05</th>\n",
       "      <td>5</td>\n",
       "    </tr>\n",
       "    <tr>\n",
       "      <th>2019-08-06</th>\n",
       "      <td>13</td>\n",
       "    </tr>\n",
       "    <tr>\n",
       "      <th>2019-08-07</th>\n",
       "      <td>9</td>\n",
       "    </tr>\n",
       "    <tr>\n",
       "      <th>...</th>\n",
       "      <td>...</td>\n",
       "    </tr>\n",
       "    <tr>\n",
       "      <th>2021-06-22</th>\n",
       "      <td>1</td>\n",
       "    </tr>\n",
       "    <tr>\n",
       "      <th>2021-07-07</th>\n",
       "      <td>1</td>\n",
       "    </tr>\n",
       "    <tr>\n",
       "      <th>2021-07-23</th>\n",
       "      <td>1</td>\n",
       "    </tr>\n",
       "    <tr>\n",
       "      <th>2021-07-27</th>\n",
       "      <td>1</td>\n",
       "    </tr>\n",
       "    <tr>\n",
       "      <th>2021-07-28</th>\n",
       "      <td>1</td>\n",
       "    </tr>\n",
       "  </tbody>\n",
       "</table>\n",
       "<p>340 rows × 1 columns</p>\n",
       "</div>"
      ],
      "text/plain": [
       "            marca\n",
       "order_date       \n",
       "2019-08-01     12\n",
       "2019-08-02     13\n",
       "2019-08-05      5\n",
       "2019-08-06     13\n",
       "2019-08-07      9\n",
       "...           ...\n",
       "2021-06-22      1\n",
       "2021-07-07      1\n",
       "2021-07-23      1\n",
       "2021-07-27      1\n",
       "2021-07-28      1\n",
       "\n",
       "[340 rows x 1 columns]"
      ]
     },
     "execution_count": 440,
     "metadata": {},
     "output_type": "execute_result"
    }
   ],
   "source": [
    "df_ventas_promo"
   ]
  },
  {
   "cell_type": "code",
   "execution_count": 441,
   "id": "974e800b-e2e1-4044-946c-2f0ce94d0cb5",
   "metadata": {},
   "outputs": [
    {
     "data": {
      "text/plain": [
       "<AxesSubplot:xlabel='order_date'>"
      ]
     },
     "execution_count": 441,
     "metadata": {},
     "output_type": "execute_result"
    },
    {
     "data": {
      "image/png": "[encoded data removed]",
      "text/plain": [
       "<Figure size 1000x700 with 1 Axes>"
      ]
     },
     "metadata": {},
     "output_type": "display_data"
    }
   ],
   "source": [
    "df_ventas_promo.plot()"
   ]
  },
  {
   "cell_type": "code",
   "execution_count": 443,
   "id": "9f27272f-2034-432d-87f8-2f6812a66353",
   "metadata": {
    "tags": []
   },
   "outputs": [
    {
     "data": {
      "text/plain": [
       "<AxesSubplot:xlabel='order_date'>"
      ]
     },
     "execution_count": 443,
     "metadata": {},
     "output_type": "execute_result"
    },
    {
     "data": {
      "image/png": "[encoded data removed]",
      "text/plain": [
       "<Figure size 1000x700 with 1 Axes>"
      ]
     },
     "metadata": {},
     "output_type": "display_data"
    }
   ],
   "source": [
    "\n",
    "df_ventas_promo.resample('W').sum().plot()"
   ]
  },
  {
   "cell_type": "code",
   "execution_count": 444,
   "id": "6862069d-e6cd-4a95-b286-921f1f995149",
   "metadata": {},
   "outputs": [],
   "source": [
    "df_ventas_promo_semanales = df_ventas_promo.resample('W').sum()"
   ]
  },
  {
   "cell_type": "code",
   "execution_count": 445,
   "id": "178d0933-af04-4f60-ad07-249946839d14",
   "metadata": {},
   "outputs": [],
   "source": [
    "import statsmodels.api as sm\n",
    "import matplotlib"
   ]
  },
  {
   "cell_type": "code",
   "execution_count": 446,
   "id": "f304de6d-9263-4964-bf29-44d75c06e9df",
   "metadata": {},
   "outputs": [
    {
     "data": {
      "image/png": "[encoded data removed]",
      "text/plain": [
       "<Figure size 1000x700 with 4 Axes>"
      ]
     },
     "metadata": {},
     "output_type": "display_data"
    }
   ],
   "source": [
    "matplotlib.rcParams['figure.figsize'] = (10, 7)\n",
    "descomp_serie = sm.tsa.seasonal_decompose(df_ventas_promo_semanales)\n",
    "descomp_serie.plot()\n",
    "plt.show()"
   ]
  },
  {
   "cell_type": "code",
   "execution_count": null,
   "id": "0467fa05-6446-4e30-b81f-6c12e23d19ec",
   "metadata": {
    "tags": []
   },
   "outputs": [],
   "source": []
  },
  {
   "cell_type": "code",
   "execution_count": null,
   "id": "24109b60-cd69-427f-a6c9-ca56a78ddd11",
   "metadata": {},
   "outputs": [],
   "source": []
  },
  {
   "cell_type": "code",
   "execution_count": null,
   "id": "36b0fcd4-1b4a-4037-9acc-4a6a215dcd1f",
   "metadata": {},
   "outputs": [],
   "source": []
  },
  {
   "cell_type": "code",
   "execution_count": 447,
   "id": "6855bf4c-74de-46aa-9116-f1f337794918",
   "metadata": {},
   "outputs": [
    {
     "data": {
      "text/plain": [
       "<AxesSubplot:xlabel='order_date'>"
      ]
     },
     "execution_count": 447,
     "metadata": {},
     "output_type": "execute_result"
    },
    {
     "data": {
      "image/png": "[encoded data removed]",
      "text/plain": [
       "<Figure size 1000x700 with 1 Axes>"
      ]
     },
     "metadata": {},
     "output_type": "display_data"
    }
   ],
   "source": [
    "df_ventas_promo.resample('M').sum().plot()"
   ]
  },
  {
   "cell_type": "code",
   "execution_count": null,
   "id": "14733dbd-7bb4-4cd6-885c-9b4662368ebf",
   "metadata": {},
   "outputs": [],
   "source": []
  }
 ],
 "metadata": {
  "kernelspec": {
   "display_name": "Python 3 (ipykernel)",
   "language": "python",
   "name": "python3"
  },
  "language_info": {
   "codemirror_mode": {
    "name": "ipython",
    "version": 3
   },
   "file_extension": ".py",
   "mimetype": "text/x-python",
   "name": "python",
   "nbconvert_exporter": "python",
   "pygments_lexer": "ipython3",
   "version": "3.9.12"
  }
 },
 "nbformat": 4,
 "nbformat_minor": 5
}
